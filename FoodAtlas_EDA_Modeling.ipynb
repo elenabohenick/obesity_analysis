{
 "cells": [
  {
   "cell_type": "code",
   "execution_count": 1,
   "metadata": {
    "collapsed": false
   },
   "outputs": [
    {
     "name": "stderr",
     "output_type": "stream",
     "text": [
      "/Users/Lenka/anaconda2/lib/python2.7/site-packages/matplotlib/font_manager.py:273: UserWarning: Matplotlib is building the font cache using fc-list. This may take a moment.\n",
      "  warnings.warn('Matplotlib is building the font cache using fc-list. This may take a moment.')\n"
     ]
    }
   ],
   "source": [
    "import os\n",
    "import pandas as pd\n",
    "import seaborn as sns\n",
    "import numpy as np\n",
    "import matplotlib.pyplot as plt\n",
    "%matplotlib inline"
   ]
  },
  {
   "cell_type": "code",
   "execution_count": 2,
   "metadata": {
    "collapsed": false
   },
   "outputs": [
    {
     "data": {
      "text/html": [
       "<div>\n",
       "<table border=\"1\" class=\"dataframe\">\n",
       "  <thead>\n",
       "    <tr style=\"text-align: right;\">\n",
       "      <th></th>\n",
       "      <th>PCT_LACCESS_POP10</th>\n",
       "      <th>PCT_LACCESS_LOWI10</th>\n",
       "      <th>PCT_LACCESS_CHILD10</th>\n",
       "      <th>PCT_LACCESS_SENIORS10</th>\n",
       "      <th>PCT_LACCESS_HHNV10</th>\n",
       "      <th>GROCPTH07</th>\n",
       "      <th>SUPERCPTH07</th>\n",
       "      <th>CONVSPTH07</th>\n",
       "      <th>SPECSPTH07</th>\n",
       "      <th>SNAPSPTH08</th>\n",
       "      <th>...</th>\n",
       "      <th>PCT_65OLDER10</th>\n",
       "      <th>PCT_18YOUNGER10</th>\n",
       "      <th>MEDHHINC10</th>\n",
       "      <th>POVRATE10</th>\n",
       "      <th>PERPOV10</th>\n",
       "      <th>CHILDPOVRATE10</th>\n",
       "      <th>PERCHLDPOV10</th>\n",
       "      <th>METRO13</th>\n",
       "      <th>POPLOSS00</th>\n",
       "      <th>PCT_OBESE_ADULTS10</th>\n",
       "    </tr>\n",
       "    <tr>\n",
       "      <th>FIPS</th>\n",
       "      <th></th>\n",
       "      <th></th>\n",
       "      <th></th>\n",
       "      <th></th>\n",
       "      <th></th>\n",
       "      <th></th>\n",
       "      <th></th>\n",
       "      <th></th>\n",
       "      <th></th>\n",
       "      <th></th>\n",
       "      <th></th>\n",
       "      <th></th>\n",
       "      <th></th>\n",
       "      <th></th>\n",
       "      <th></th>\n",
       "      <th></th>\n",
       "      <th></th>\n",
       "      <th></th>\n",
       "      <th></th>\n",
       "      <th></th>\n",
       "      <th></th>\n",
       "    </tr>\n",
       "  </thead>\n",
       "  <tbody>\n",
       "    <tr>\n",
       "      <th>19109</th>\n",
       "      <td>46.190288</td>\n",
       "      <td>11.392737</td>\n",
       "      <td>10.532197</td>\n",
       "      <td>10.594349</td>\n",
       "      <td>2.188645</td>\n",
       "      <td>0.517598</td>\n",
       "      <td>0.000000</td>\n",
       "      <td>1.293996</td>\n",
       "      <td>0.064700</td>\n",
       "      <td>0.634088</td>\n",
       "      <td>...</td>\n",
       "      <td>21.868365</td>\n",
       "      <td>22.872032</td>\n",
       "      <td>47930</td>\n",
       "      <td>10.3</td>\n",
       "      <td>0</td>\n",
       "      <td>13.8</td>\n",
       "      <td>0</td>\n",
       "      <td>0</td>\n",
       "      <td>1</td>\n",
       "      <td>31.1</td>\n",
       "    </tr>\n",
       "    <tr>\n",
       "      <th>39131</th>\n",
       "      <td>23.128594</td>\n",
       "      <td>10.872407</td>\n",
       "      <td>5.595606</td>\n",
       "      <td>4.319223</td>\n",
       "      <td>6.841612</td>\n",
       "      <td>0.179115</td>\n",
       "      <td>0.071646</td>\n",
       "      <td>0.716461</td>\n",
       "      <td>0.000000</td>\n",
       "      <td>1.059993</td>\n",
       "      <td>...</td>\n",
       "      <td>14.671357</td>\n",
       "      <td>24.800585</td>\n",
       "      <td>35051</td>\n",
       "      <td>26.3</td>\n",
       "      <td>0</td>\n",
       "      <td>36.9</td>\n",
       "      <td>1</td>\n",
       "      <td>0</td>\n",
       "      <td>0</td>\n",
       "      <td>32.1</td>\n",
       "    </tr>\n",
       "    <tr>\n",
       "      <th>5015</th>\n",
       "      <td>8.595426</td>\n",
       "      <td>4.054456</td>\n",
       "      <td>2.188032</td>\n",
       "      <td>1.396943</td>\n",
       "      <td>2.017592</td>\n",
       "      <td>0.183298</td>\n",
       "      <td>0.036660</td>\n",
       "      <td>1.759660</td>\n",
       "      <td>0.109979</td>\n",
       "      <td>0.415363</td>\n",
       "      <td>...</td>\n",
       "      <td>18.694892</td>\n",
       "      <td>22.527873</td>\n",
       "      <td>33789</td>\n",
       "      <td>16.4</td>\n",
       "      <td>0</td>\n",
       "      <td>26.5</td>\n",
       "      <td>1</td>\n",
       "      <td>0</td>\n",
       "      <td>0</td>\n",
       "      <td>28.7</td>\n",
       "    </tr>\n",
       "    <tr>\n",
       "      <th>47143</th>\n",
       "      <td>8.224891</td>\n",
       "      <td>4.529821</td>\n",
       "      <td>2.204625</td>\n",
       "      <td>1.070721</td>\n",
       "      <td>3.097653</td>\n",
       "      <td>0.196303</td>\n",
       "      <td>0.032717</td>\n",
       "      <td>0.556192</td>\n",
       "      <td>0.000000</td>\n",
       "      <td>0.909266</td>\n",
       "      <td>...</td>\n",
       "      <td>15.706247</td>\n",
       "      <td>23.439907</td>\n",
       "      <td>36308</td>\n",
       "      <td>20.6</td>\n",
       "      <td>0</td>\n",
       "      <td>32.2</td>\n",
       "      <td>0</td>\n",
       "      <td>0</td>\n",
       "      <td>0</td>\n",
       "      <td>37.2</td>\n",
       "    </tr>\n",
       "    <tr>\n",
       "      <th>19155</th>\n",
       "      <td>37.655753</td>\n",
       "      <td>12.175355</td>\n",
       "      <td>9.390865</td>\n",
       "      <td>5.193847</td>\n",
       "      <td>2.091801</td>\n",
       "      <td>0.167463</td>\n",
       "      <td>0.022328</td>\n",
       "      <td>0.502389</td>\n",
       "      <td>0.089314</td>\n",
       "      <td>0.526934</td>\n",
       "      <td>...</td>\n",
       "      <td>14.312244</td>\n",
       "      <td>24.129973</td>\n",
       "      <td>47870</td>\n",
       "      <td>14.5</td>\n",
       "      <td>0</td>\n",
       "      <td>19.4</td>\n",
       "      <td>0</td>\n",
       "      <td>1</td>\n",
       "      <td>0</td>\n",
       "      <td>33.6</td>\n",
       "    </tr>\n",
       "  </tbody>\n",
       "</table>\n",
       "<p>5 rows × 64 columns</p>\n",
       "</div>"
      ],
      "text/plain": [
       "       PCT_LACCESS_POP10  PCT_LACCESS_LOWI10  PCT_LACCESS_CHILD10  \\\n",
       "FIPS                                                                \n",
       "19109          46.190288           11.392737            10.532197   \n",
       "39131          23.128594           10.872407             5.595606   \n",
       "5015            8.595426            4.054456             2.188032   \n",
       "47143           8.224891            4.529821             2.204625   \n",
       "19155          37.655753           12.175355             9.390865   \n",
       "\n",
       "       PCT_LACCESS_SENIORS10  PCT_LACCESS_HHNV10  GROCPTH07  SUPERCPTH07  \\\n",
       "FIPS                                                                       \n",
       "19109              10.594349            2.188645   0.517598     0.000000   \n",
       "39131               4.319223            6.841612   0.179115     0.071646   \n",
       "5015                1.396943            2.017592   0.183298     0.036660   \n",
       "47143               1.070721            3.097653   0.196303     0.032717   \n",
       "19155               5.193847            2.091801   0.167463     0.022328   \n",
       "\n",
       "       CONVSPTH07  SPECSPTH07  SNAPSPTH08         ...          PCT_65OLDER10  \\\n",
       "FIPS                                              ...                          \n",
       "19109    1.293996    0.064700    0.634088         ...              21.868365   \n",
       "39131    0.716461    0.000000    1.059993         ...              14.671357   \n",
       "5015     1.759660    0.109979    0.415363         ...              18.694892   \n",
       "47143    0.556192    0.000000    0.909266         ...              15.706247   \n",
       "19155    0.502389    0.089314    0.526934         ...              14.312244   \n",
       "\n",
       "       PCT_18YOUNGER10  MEDHHINC10  POVRATE10  PERPOV10  CHILDPOVRATE10  \\\n",
       "FIPS                                                                      \n",
       "19109        22.872032       47930       10.3         0            13.8   \n",
       "39131        24.800585       35051       26.3         0            36.9   \n",
       "5015         22.527873       33789       16.4         0            26.5   \n",
       "47143        23.439907       36308       20.6         0            32.2   \n",
       "19155        24.129973       47870       14.5         0            19.4   \n",
       "\n",
       "       PERCHLDPOV10  METRO13  POPLOSS00  PCT_OBESE_ADULTS10  \n",
       "FIPS                                                         \n",
       "19109             0        0          1                31.1  \n",
       "39131             1        0          0                32.1  \n",
       "5015              1        0          0                28.7  \n",
       "47143             0        0          0                37.2  \n",
       "19155             0        1          0                33.6  \n",
       "\n",
       "[5 rows x 64 columns]"
      ]
     },
     "execution_count": 2,
     "metadata": {},
     "output_type": "execute_result"
    }
   ],
   "source": [
    "#export train and test data\n",
    "#assign FIPS as an index\n",
    "data = pd.read_csv('data_train.csv')\n",
    "data.index=data.FIPS\n",
    "data.drop('FIPS',axis=1,inplace=True)\n",
    "\n",
    "data_test = pd.read_csv('data_test.csv')\n",
    "data_test.index=data_test.FIPS\n",
    "data_test.drop('FIPS',axis=1,inplace=True)\n",
    "\n",
    "data.head()"
   ]
  },
  {
   "cell_type": "markdown",
   "metadata": {},
   "source": [
    "### Description of the columns with the variable types is below"
   ]
  },
  {
   "cell_type": "markdown",
   "metadata": {},
   "source": [
    "Index|FieldName|Type|Unit|Description\n",
    "----|---------|----|-----------\n",
    "0|PCT_LACCESS_POP10|Percent|float|Population, low access to store (%), 2010\n",
    "1|PCT_LACCESS_LOWI10|Percent|float|Low income & low access to store (%), 2010\n",
    "2|PCT_LACCESS_CHILD10|Percent|float|Children, low access to store (%), 2010\n",
    "3|PCT_LACCESS_SENIORS10|Percent|float|Seniors, low access to store (%), 2010\n",
    "4|PCT_LACCESS_HHNV10|Percent|float|Households, no car & low access to store (%), 2010\n",
    "5|GROCPTH07|# per 1,000 pop|float|Grocery stores/1,000 pop, 2007\n",
    "6|SUPERCPTH07|# per 1,000 pop|float|Supercenters & club stores/1,000 pop, 2007\n",
    "7|CONVSPTH07|# per 1,000 pop|float|Convenience stores/1,000 pop, 2007\n",
    "8|SPECSPTH07|# per 1,000 pop|float|Specialized food stores/1,000 pop, 2007\n",
    "9|SNAPSPTH08|# per 1,000 pop|float|SNAP-authorized stores/1,000 pop, 2008\n",
    "10|WICSPTH08|# per 1,000 pop|float|WIC-authorized stores/1,000 pop, 2008\n",
    "11|FFRPTH07|# per 1,000 pop|float|Fast-food restaurants/1,000 pop, 2007\n",
    "12|FSRPTH07|# per 1,000 pop|float|Full-service restaurants/1,000 pop, 2007\n",
    "13|PC_FFRSALES07|Dollars|float|Expenditures per capita, fast food, 2007 (State level)\n",
    "14|PC_FSRSALES07|Dollars|float|Expenditures per capita, restaurants, 2007 (State level)\n",
    "15|PCT_SNAP09|Percent|float|SNAP participants (% pop), 2009  (State level)\n",
    "16|SNAP_PART_RATE10|Percent|float|SNAP participants (% eligible pop), 2010  (State level)\n",
    "17|SNAP_OAPP10|Classification|float (0, 0.5 or 1)|SNAP online application, 2010  (State level)\n",
    "18|SNAP_FACEWAIVER10|Classification|float (0, 0.5 or 1)|SNAP face interview waiver, 2010  (State level)\n",
    "19|SNAP_VEHEXCL10|Classification|integer (0 or 1)|SNAP vehicle exclusion, 2010  (State level)\n",
    "20|SNAP_BBCE10|Classification|integer (0 or 1)|SNAP Broad-based Categorical Eligibility, 2010  (State level)\n",
    "21|SNAP_REPORTSIMPLE10|Classification|integer (0 or 1)|SNAP simplified reporting, 2010  (State level)\n",
    "22|PCT_NSLP09|Percent|float|National School Lunch Program participants (% pop), 2009  (State level)\n",
    "23|PCT_FREE_LUNCH10|Percent|float|Students eligible for free lunch (%), 2010\n",
    "24|PCT_REDUCED_LUNCH10|Percent|float|Students eligible for reduced-price lunch (%), 2010\n",
    "25|PCT_SBP09|Percent|float|School Breakfast Program participants (% pop), 2009  (State level)\n",
    "26|PCT_SFSP09|Percent|float|Summer Food Service Program participants (% pop), 2009  (State level)\n",
    "27|PCT_WIC09|Percent|float|WIC participants (% pop), 2009  (State level)\n",
    "28|PCT_CACFP09|Percent|float|Child & Adult Care (% pop), 2009  (State level)\n",
    "29|FOODINSEC_07_09|Percent|float|Household food insecurity (%, three-year average), 2007-09  (State level)\n",
    "30|VLFOODSEC_07_09|Percent|float|Household very low food security (%, three-year average), 2007-09  (State level)\n",
    "31|FOODINSEC_CHILD_01_07|Percent|float|Child food insecurity (% households, multiple-year average), 2001-07  (State level)\n",
    "32|MILK_PRICE10|Ratio|float|Price of low-fat milk/national average, 2010 (Region level)\n",
    "33|SODA_PRICE10|Ratio|float|Price of sodas/national average, 2010  (Region level)\n",
    "34|MILK_SODA_PRICE10|Ratio|float|Price of low-fat milk/price of sodas, 2010  (Region level)\n",
    "35|PCT_LOCLFARM07|Percent|float|Farms with direct sales (%), 2007\n",
    "36|FMRKTPTH09|# per 1,000 pop|float|Farmers' markets/1,000 pop, 2009\n",
    "37|VEG_FARMS07|Count|integer|Vegetable farms, 2007\n",
    "38|FRESHVEG_FARMS07|Count|integer|Farms with vegetables harvested for fresh market, 2007\n",
    "39|ORCHARD_FARMS07|Count|integer|Orchard farms, 2007\n",
    "40|BERRY_FARMS07|Count|integer|Berry farms, 2007\n",
    "41|SLHOUSE07|Count|integer|Small slaughterhouse facilities, 2007\n",
    "42|GHVEG_FARMS07|Count|integer|Greenhouse vegetable and fresh herb farms, 2007\n",
    "43|CSA07|Count|integer|CSA farms, 2007\n",
    "44|AGRITRSM_OPS07|Count|integer|Agritourism operations\n",
    "45|FARM_TO_SCHOOL|Classification|integer (0 or 1)|Farm to school program, 2009\n",
    "46|RECFACPTH07|# per 1,000 pop|float|Recreation & fitness facilities/1,000 pop, 2007\n",
    "47|NATAMEN|Legend|integer|ERS natural amenity index, 1999\n",
    "48|PCT_NHWHITE10|Percent|float|% White, 2010\n",
    "49|PCT_NHBLACK10|Percent|float|% Black, 2010\n",
    "50|PCT_HISP10|Percent|float|% Hispanic, 2010\n",
    "51|PCT_NHASIAN10|Percent|float|% Asian, 2010\n",
    "52|PCT_NHNA10|Percent|float|% American Indian or Alaska Native, 2010\n",
    "53|PCT_NHPI10|Percent|float|% Hawaiian or Pacific Islander, 2010\n",
    "54|PCT_65OLDER10|Percent|float|% Population 65 years or older, 2010\n",
    "55|PCT_18YOUNGER10|Percent|float|% Population under age 18, 2010\n",
    "56|MEDHHINC10|Dollars|integer|Median household income, 2010\n",
    "57|POVRATE10|Percent|float|Poverty rate, 2010\n",
    "58|PERPOV10|Legend|integer (0 or 1)|Persistent-poverty counties, 2010\n",
    "59|CHILDPOVRATE10|Percent|float|Child poverty rate, 2010\n",
    "60|PERCHLDPOV10|Legend|integer (0 or 1)|Persistent-child-poverty counties, 2010\n",
    "61|METRO13|Legend|integer (0 or 1)|Metro/nonmetro counties, 2010\n",
    "62|POPLOSS00|Legend|integer (0 or 1)|Population-loss counties, 2000\n",
    "63|PCT_OBESE_ADULTS10|Percent|float|Adult obesity rate (county), 2010"
   ]
  },
  {
   "cell_type": "markdown",
   "metadata": {},
   "source": [
    "# EDA of train data set"
   ]
  },
  {
   "cell_type": "code",
   "execution_count": 3,
   "metadata": {
    "collapsed": false,
    "scrolled": true
   },
   "outputs": [
    {
     "name": "stdout",
     "output_type": "stream",
     "text": [
      "<class 'pandas.core.frame.DataFrame'>\n",
      "Int64Index: 2357 entries, 19109 to 20161\n",
      "Data columns (total 64 columns):\n",
      "PCT_LACCESS_POP10        2357 non-null float64\n",
      "PCT_LACCESS_LOWI10       2357 non-null float64\n",
      "PCT_LACCESS_CHILD10      2357 non-null float64\n",
      "PCT_LACCESS_SENIORS10    2357 non-null float64\n",
      "PCT_LACCESS_HHNV10       2357 non-null float64\n",
      "GROCPTH07                2357 non-null float64\n",
      "SUPERCPTH07              2357 non-null float64\n",
      "CONVSPTH07               2357 non-null float64\n",
      "SPECSPTH07               2357 non-null float64\n",
      "SNAPSPTH08               2357 non-null float64\n",
      "WICSPTH08                2357 non-null float64\n",
      "FFRPTH07                 2353 non-null float64\n",
      "FSRPTH07                 2353 non-null float64\n",
      "PC_FFRSALES07            2357 non-null float64\n",
      "PC_FSRSALES07            2357 non-null float64\n",
      "PCT_SNAP09               2357 non-null float64\n",
      "SNAP_PART_RATE10         2357 non-null float64\n",
      "SNAP_OAPP10              2357 non-null float64\n",
      "SNAP_FACEWAIVER10        2357 non-null float64\n",
      "SNAP_VEHEXCL10           2357 non-null int64\n",
      "SNAP_BBCE10              2357 non-null int64\n",
      "SNAP_REPORTSIMPLE10      2357 non-null int64\n",
      "PCT_NSLP09               2357 non-null float64\n",
      "PCT_FREE_LUNCH10         2341 non-null float64\n",
      "PCT_REDUCED_LUNCH10      2341 non-null float64\n",
      "PCT_SBP09                2357 non-null float64\n",
      "PCT_SFSP09               2357 non-null float64\n",
      "PCT_WIC09                2357 non-null float64\n",
      "PCT_CACFP09              2357 non-null float64\n",
      "FOODINSEC_07_09          2357 non-null float64\n",
      "VLFOODSEC_07_09          2357 non-null float64\n",
      "FOODINSEC_CHILD_01_07    2357 non-null float64\n",
      "MILK_PRICE10             2329 non-null float64\n",
      "SODA_PRICE10             2329 non-null float64\n",
      "MILK_SODA_PRICE10        2329 non-null float64\n",
      "PCT_LOCLFARM07           2257 non-null float64\n",
      "FMRKTPTH09               2352 non-null float64\n",
      "VEG_FARMS07              2304 non-null float64\n",
      "FRESHVEG_FARMS07         2304 non-null float64\n",
      "ORCHARD_FARMS07          2304 non-null float64\n",
      "BERRY_FARMS07            2304 non-null float64\n",
      "SLHOUSE07                2353 non-null float64\n",
      "GHVEG_FARMS07            2304 non-null float64\n",
      "CSA07                    2353 non-null float64\n",
      "AGRITRSM_OPS07           2353 non-null float64\n",
      "FARM_TO_SCHOOL           2353 non-null float64\n",
      "RECFACPTH07              2353 non-null float64\n",
      "NATAMEN                  2328 non-null float64\n",
      "PCT_NHWHITE10            2357 non-null float64\n",
      "PCT_NHBLACK10            2357 non-null float64\n",
      "PCT_HISP10               2357 non-null float64\n",
      "PCT_NHASIAN10            2357 non-null float64\n",
      "PCT_NHNA10               2357 non-null float64\n",
      "PCT_NHPI10               2357 non-null float64\n",
      "PCT_65OLDER10            2357 non-null float64\n",
      "PCT_18YOUNGER10          2357 non-null float64\n",
      "MEDHHINC10               2357 non-null object\n",
      "POVRATE10                2357 non-null object\n",
      "PERPOV10                 2357 non-null int64\n",
      "CHILDPOVRATE10           2357 non-null object\n",
      "PERCHLDPOV10             2357 non-null int64\n",
      "METRO13                  2357 non-null int64\n",
      "POPLOSS00                2357 non-null object\n",
      "PCT_OBESE_ADULTS10       2353 non-null float64\n",
      "dtypes: float64(54), int64(6), object(4)\n",
      "memory usage: 1.2+ MB\n"
     ]
    }
   ],
   "source": [
    "data.info()"
   ]
  },
  {
   "cell_type": "code",
   "execution_count": 4,
   "metadata": {
    "collapsed": true
   },
   "outputs": [],
   "source": [
    "# drop rows with NULLs\n",
    "data.dropna(axis=0,inplace=True)"
   ]
  },
  {
   "cell_type": "code",
   "execution_count": 5,
   "metadata": {
    "collapsed": false
   },
   "outputs": [],
   "source": [
    "# several columns (MEDHHINC10, POVRATE10, CHILDPOVRATE10, PERCHLDPOV10) \n",
    "\n",
    "# convert columns with type 'object' info float and coers invalid values to NaN\n",
    "data[['MEDHHINC10','POVRATE10','CHILDPOVRATE10',\n",
    "      'POPLOSS00']]=data[['MEDHHINC10',\n",
    "                          'POVRATE10','CHILDPOVRATE10','POPLOSS00']].apply(lambda x: pd.to_numeric(x, errors='coerce'))"
   ]
  },
  {
   "cell_type": "code",
   "execution_count": 6,
   "metadata": {
    "collapsed": false
   },
   "outputs": [
    {
     "name": "stdout",
     "output_type": "stream",
     "text": [
      "<class 'pandas.core.frame.DataFrame'>\n",
      "Int64Index: 2238 entries, 19109 to 20161\n",
      "Data columns (total 4 columns):\n",
      "MEDHHINC10        2238 non-null int64\n",
      "POVRATE10         2238 non-null float64\n",
      "CHILDPOVRATE10    2238 non-null float64\n",
      "POPLOSS00         2238 non-null int64\n",
      "dtypes: float64(2), int64(2)\n",
      "memory usage: 87.4 KB\n"
     ]
    }
   ],
   "source": [
    "data[['MEDHHINC10','POVRATE10','CHILDPOVRATE10','POPLOSS00']].info()"
   ]
  },
  {
   "cell_type": "code",
   "execution_count": 7,
   "metadata": {
    "collapsed": false,
    "scrolled": true
   },
   "outputs": [
    {
     "data": {
      "text/html": [
       "<div>\n",
       "<table border=\"1\" class=\"dataframe\">\n",
       "  <thead>\n",
       "    <tr style=\"text-align: right;\">\n",
       "      <th></th>\n",
       "      <th>count</th>\n",
       "      <th>mean</th>\n",
       "      <th>std</th>\n",
       "      <th>min</th>\n",
       "      <th>25%</th>\n",
       "      <th>50%</th>\n",
       "      <th>75%</th>\n",
       "      <th>max</th>\n",
       "    </tr>\n",
       "  </thead>\n",
       "  <tbody>\n",
       "    <tr>\n",
       "      <th>PCT_LACCESS_POP10</th>\n",
       "      <td>2238.0</td>\n",
       "      <td>22.969326</td>\n",
       "      <td>19.135734</td>\n",
       "      <td>0.000000</td>\n",
       "      <td>11.033408</td>\n",
       "      <td>19.255416</td>\n",
       "      <td>29.226552</td>\n",
       "      <td>100.000001</td>\n",
       "    </tr>\n",
       "    <tr>\n",
       "      <th>PCT_LACCESS_LOWI10</th>\n",
       "      <td>2238.0</td>\n",
       "      <td>8.186174</td>\n",
       "      <td>7.826634</td>\n",
       "      <td>0.000000</td>\n",
       "      <td>3.439809</td>\n",
       "      <td>6.142683</td>\n",
       "      <td>10.313275</td>\n",
       "      <td>72.274456</td>\n",
       "    </tr>\n",
       "    <tr>\n",
       "      <th>PCT_LACCESS_CHILD10</th>\n",
       "      <td>2238.0</td>\n",
       "      <td>5.364627</td>\n",
       "      <td>4.589409</td>\n",
       "      <td>0.000000</td>\n",
       "      <td>2.425050</td>\n",
       "      <td>4.402790</td>\n",
       "      <td>6.940497</td>\n",
       "      <td>34.015595</td>\n",
       "    </tr>\n",
       "    <tr>\n",
       "      <th>PCT_LACCESS_SENIORS10</th>\n",
       "      <td>2238.0</td>\n",
       "      <td>3.854625</td>\n",
       "      <td>4.067886</td>\n",
       "      <td>0.000000</td>\n",
       "      <td>1.621040</td>\n",
       "      <td>2.816615</td>\n",
       "      <td>4.525626</td>\n",
       "      <td>29.208633</td>\n",
       "    </tr>\n",
       "    <tr>\n",
       "      <th>PCT_LACCESS_HHNV10</th>\n",
       "      <td>2238.0</td>\n",
       "      <td>3.004453</td>\n",
       "      <td>2.019928</td>\n",
       "      <td>0.000000</td>\n",
       "      <td>1.612766</td>\n",
       "      <td>2.544292</td>\n",
       "      <td>3.800336</td>\n",
       "      <td>13.999149</td>\n",
       "    </tr>\n",
       "    <tr>\n",
       "      <th>GROCPTH07</th>\n",
       "      <td>2238.0</td>\n",
       "      <td>0.279223</td>\n",
       "      <td>0.218356</td>\n",
       "      <td>0.000000</td>\n",
       "      <td>0.159372</td>\n",
       "      <td>0.222249</td>\n",
       "      <td>0.323943</td>\n",
       "      <td>3.231018</td>\n",
       "    </tr>\n",
       "    <tr>\n",
       "      <th>SUPERCPTH07</th>\n",
       "      <td>2238.0</td>\n",
       "      <td>0.009998</td>\n",
       "      <td>0.016073</td>\n",
       "      <td>0.000000</td>\n",
       "      <td>0.000000</td>\n",
       "      <td>0.000000</td>\n",
       "      <td>0.016785</td>\n",
       "      <td>0.169779</td>\n",
       "    </tr>\n",
       "    <tr>\n",
       "      <th>CONVSPTH07</th>\n",
       "      <td>2238.0</td>\n",
       "      <td>0.864932</td>\n",
       "      <td>0.512991</td>\n",
       "      <td>0.000000</td>\n",
       "      <td>0.585228</td>\n",
       "      <td>0.761690</td>\n",
       "      <td>0.993579</td>\n",
       "      <td>7.194245</td>\n",
       "    </tr>\n",
       "    <tr>\n",
       "      <th>SPECSPTH07</th>\n",
       "      <td>2238.0</td>\n",
       "      <td>0.064748</td>\n",
       "      <td>0.077691</td>\n",
       "      <td>0.000000</td>\n",
       "      <td>0.000000</td>\n",
       "      <td>0.051303</td>\n",
       "      <td>0.094127</td>\n",
       "      <td>0.770119</td>\n",
       "    </tr>\n",
       "    <tr>\n",
       "      <th>SNAPSPTH08</th>\n",
       "      <td>2238.0</td>\n",
       "      <td>0.680460</td>\n",
       "      <td>0.333580</td>\n",
       "      <td>0.000000</td>\n",
       "      <td>0.447842</td>\n",
       "      <td>0.624954</td>\n",
       "      <td>0.846829</td>\n",
       "      <td>2.976190</td>\n",
       "    </tr>\n",
       "    <tr>\n",
       "      <th>WICSPTH08</th>\n",
       "      <td>2238.0</td>\n",
       "      <td>0.247483</td>\n",
       "      <td>0.237295</td>\n",
       "      <td>0.000000</td>\n",
       "      <td>0.123704</td>\n",
       "      <td>0.187947</td>\n",
       "      <td>0.289424</td>\n",
       "      <td>4.618937</td>\n",
       "    </tr>\n",
       "    <tr>\n",
       "      <th>FFRPTH07</th>\n",
       "      <td>2238.0</td>\n",
       "      <td>0.579608</td>\n",
       "      <td>0.261522</td>\n",
       "      <td>0.000000</td>\n",
       "      <td>0.428552</td>\n",
       "      <td>0.589135</td>\n",
       "      <td>0.732906</td>\n",
       "      <td>2.922552</td>\n",
       "    </tr>\n",
       "    <tr>\n",
       "      <th>FSRPTH07</th>\n",
       "      <td>2238.0</td>\n",
       "      <td>0.779617</td>\n",
       "      <td>0.499790</td>\n",
       "      <td>0.000000</td>\n",
       "      <td>0.510273</td>\n",
       "      <td>0.681829</td>\n",
       "      <td>0.893788</td>\n",
       "      <td>7.194245</td>\n",
       "    </tr>\n",
       "    <tr>\n",
       "      <th>PC_FFRSALES07</th>\n",
       "      <td>2238.0</td>\n",
       "      <td>640.802990</td>\n",
       "      <td>94.928131</td>\n",
       "      <td>402.097804</td>\n",
       "      <td>576.210444</td>\n",
       "      <td>632.337378</td>\n",
       "      <td>721.823151</td>\n",
       "      <td>939.130452</td>\n",
       "    </tr>\n",
       "    <tr>\n",
       "      <th>PC_FSRSALES07</th>\n",
       "      <td>2238.0</td>\n",
       "      <td>620.545969</td>\n",
       "      <td>122.871714</td>\n",
       "      <td>371.845051</td>\n",
       "      <td>534.383583</td>\n",
       "      <td>617.339007</td>\n",
       "      <td>711.769798</td>\n",
       "      <td>1205.714280</td>\n",
       "    </tr>\n",
       "    <tr>\n",
       "      <th>PCT_SNAP09</th>\n",
       "      <td>2238.0</td>\n",
       "      <td>11.593449</td>\n",
       "      <td>3.142271</td>\n",
       "      <td>4.917045</td>\n",
       "      <td>9.106665</td>\n",
       "      <td>11.886230</td>\n",
       "      <td>14.229455</td>\n",
       "      <td>17.138235</td>\n",
       "    </tr>\n",
       "    <tr>\n",
       "      <th>SNAP_PART_RATE10</th>\n",
       "      <td>2238.0</td>\n",
       "      <td>78.076408</td>\n",
       "      <td>9.072152</td>\n",
       "      <td>55.000000</td>\n",
       "      <td>73.000000</td>\n",
       "      <td>78.000000</td>\n",
       "      <td>83.000000</td>\n",
       "      <td>100.000000</td>\n",
       "    </tr>\n",
       "    <tr>\n",
       "      <th>SNAP_OAPP10</th>\n",
       "      <td>2238.0</td>\n",
       "      <td>0.600536</td>\n",
       "      <td>0.476248</td>\n",
       "      <td>0.000000</td>\n",
       "      <td>0.000000</td>\n",
       "      <td>1.000000</td>\n",
       "      <td>1.000000</td>\n",
       "      <td>1.000000</td>\n",
       "    </tr>\n",
       "    <tr>\n",
       "      <th>SNAP_FACEWAIVER10</th>\n",
       "      <td>2238.0</td>\n",
       "      <td>0.881591</td>\n",
       "      <td>0.304284</td>\n",
       "      <td>0.000000</td>\n",
       "      <td>1.000000</td>\n",
       "      <td>1.000000</td>\n",
       "      <td>1.000000</td>\n",
       "      <td>1.000000</td>\n",
       "    </tr>\n",
       "    <tr>\n",
       "      <th>SNAP_VEHEXCL10</th>\n",
       "      <td>2238.0</td>\n",
       "      <td>0.883825</td>\n",
       "      <td>0.320506</td>\n",
       "      <td>0.000000</td>\n",
       "      <td>1.000000</td>\n",
       "      <td>1.000000</td>\n",
       "      <td>1.000000</td>\n",
       "      <td>1.000000</td>\n",
       "    </tr>\n",
       "    <tr>\n",
       "      <th>SNAP_BBCE10</th>\n",
       "      <td>2238.0</td>\n",
       "      <td>0.714924</td>\n",
       "      <td>0.451552</td>\n",
       "      <td>0.000000</td>\n",
       "      <td>0.000000</td>\n",
       "      <td>1.000000</td>\n",
       "      <td>1.000000</td>\n",
       "      <td>1.000000</td>\n",
       "    </tr>\n",
       "    <tr>\n",
       "      <th>SNAP_REPORTSIMPLE10</th>\n",
       "      <td>2238.0</td>\n",
       "      <td>0.973637</td>\n",
       "      <td>0.160248</td>\n",
       "      <td>0.000000</td>\n",
       "      <td>1.000000</td>\n",
       "      <td>1.000000</td>\n",
       "      <td>1.000000</td>\n",
       "      <td>1.000000</td>\n",
       "    </tr>\n",
       "    <tr>\n",
       "      <th>PCT_NSLP09</th>\n",
       "      <td>2238.0</td>\n",
       "      <td>11.163073</td>\n",
       "      <td>1.856514</td>\n",
       "      <td>6.954298</td>\n",
       "      <td>9.549006</td>\n",
       "      <td>11.416674</td>\n",
       "      <td>13.112031</td>\n",
       "      <td>13.743786</td>\n",
       "    </tr>\n",
       "    <tr>\n",
       "      <th>PCT_FREE_LUNCH10</th>\n",
       "      <td>2238.0</td>\n",
       "      <td>42.796552</td>\n",
       "      <td>16.075726</td>\n",
       "      <td>0.000000</td>\n",
       "      <td>30.981523</td>\n",
       "      <td>41.390535</td>\n",
       "      <td>52.513567</td>\n",
       "      <td>99.402066</td>\n",
       "    </tr>\n",
       "    <tr>\n",
       "      <th>PCT_REDUCED_LUNCH10</th>\n",
       "      <td>2238.0</td>\n",
       "      <td>8.527909</td>\n",
       "      <td>3.196977</td>\n",
       "      <td>0.000000</td>\n",
       "      <td>6.637592</td>\n",
       "      <td>8.174810</td>\n",
       "      <td>10.056457</td>\n",
       "      <td>47.290669</td>\n",
       "    </tr>\n",
       "    <tr>\n",
       "      <th>PCT_SBP09</th>\n",
       "      <td>2238.0</td>\n",
       "      <td>3.979748</td>\n",
       "      <td>1.400022</td>\n",
       "      <td>1.661363</td>\n",
       "      <td>2.828934</td>\n",
       "      <td>3.416376</td>\n",
       "      <td>5.427669</td>\n",
       "      <td>6.771012</td>\n",
       "    </tr>\n",
       "    <tr>\n",
       "      <th>PCT_SFSP09</th>\n",
       "      <td>2238.0</td>\n",
       "      <td>0.708905</td>\n",
       "      <td>0.369950</td>\n",
       "      <td>0.188045</td>\n",
       "      <td>0.548879</td>\n",
       "      <td>0.625526</td>\n",
       "      <td>0.770496</td>\n",
       "      <td>2.234327</td>\n",
       "    </tr>\n",
       "    <tr>\n",
       "      <th>PCT_WIC09</th>\n",
       "      <td>2238.0</td>\n",
       "      <td>2.956958</td>\n",
       "      <td>0.727218</td>\n",
       "      <td>1.386256</td>\n",
       "      <td>2.507607</td>\n",
       "      <td>2.731320</td>\n",
       "      <td>3.286145</td>\n",
       "      <td>5.078872</td>\n",
       "    </tr>\n",
       "    <tr>\n",
       "      <th>PCT_CACFP09</th>\n",
       "      <td>2238.0</td>\n",
       "      <td>1.224334</td>\n",
       "      <td>0.397610</td>\n",
       "      <td>0.387918</td>\n",
       "      <td>0.954012</td>\n",
       "      <td>1.147388</td>\n",
       "      <td>1.424865</td>\n",
       "      <td>2.552547</td>\n",
       "    </tr>\n",
       "    <tr>\n",
       "      <th>FOODINSEC_07_09</th>\n",
       "      <td>2238.0</td>\n",
       "      <td>13.532842</td>\n",
       "      <td>2.392338</td>\n",
       "      <td>6.700000</td>\n",
       "      <td>11.800000</td>\n",
       "      <td>13.500000</td>\n",
       "      <td>15.000000</td>\n",
       "      <td>17.700000</td>\n",
       "    </tr>\n",
       "    <tr>\n",
       "      <th>...</th>\n",
       "      <td>...</td>\n",
       "      <td>...</td>\n",
       "      <td>...</td>\n",
       "      <td>...</td>\n",
       "      <td>...</td>\n",
       "      <td>...</td>\n",
       "      <td>...</td>\n",
       "      <td>...</td>\n",
       "    </tr>\n",
       "    <tr>\n",
       "      <th>MILK_SODA_PRICE10</th>\n",
       "      <td>2238.0</td>\n",
       "      <td>0.908328</td>\n",
       "      <td>0.126113</td>\n",
       "      <td>0.637195</td>\n",
       "      <td>0.815374</td>\n",
       "      <td>0.844997</td>\n",
       "      <td>1.040049</td>\n",
       "      <td>1.242792</td>\n",
       "    </tr>\n",
       "    <tr>\n",
       "      <th>PCT_LOCLFARM07</th>\n",
       "      <td>2238.0</td>\n",
       "      <td>6.428910</td>\n",
       "      <td>6.059918</td>\n",
       "      <td>0.200000</td>\n",
       "      <td>2.800000</td>\n",
       "      <td>4.700000</td>\n",
       "      <td>8.100000</td>\n",
       "      <td>100.000000</td>\n",
       "    </tr>\n",
       "    <tr>\n",
       "      <th>FMRKTPTH09</th>\n",
       "      <td>2238.0</td>\n",
       "      <td>0.036139</td>\n",
       "      <td>0.071639</td>\n",
       "      <td>0.000000</td>\n",
       "      <td>0.000000</td>\n",
       "      <td>0.011137</td>\n",
       "      <td>0.044033</td>\n",
       "      <td>1.019888</td>\n",
       "    </tr>\n",
       "    <tr>\n",
       "      <th>VEG_FARMS07</th>\n",
       "      <td>2238.0</td>\n",
       "      <td>22.767650</td>\n",
       "      <td>43.362653</td>\n",
       "      <td>0.000000</td>\n",
       "      <td>4.000000</td>\n",
       "      <td>11.000000</td>\n",
       "      <td>26.750000</td>\n",
       "      <td>1100.000000</td>\n",
       "    </tr>\n",
       "    <tr>\n",
       "      <th>FRESHVEG_FARMS07</th>\n",
       "      <td>2238.0</td>\n",
       "      <td>20.490170</td>\n",
       "      <td>40.158065</td>\n",
       "      <td>0.000000</td>\n",
       "      <td>4.000000</td>\n",
       "      <td>11.000000</td>\n",
       "      <td>24.000000</td>\n",
       "      <td>1100.000000</td>\n",
       "    </tr>\n",
       "    <tr>\n",
       "      <th>ORCHARD_FARMS07</th>\n",
       "      <td>2238.0</td>\n",
       "      <td>38.346291</td>\n",
       "      <td>185.917354</td>\n",
       "      <td>0.000000</td>\n",
       "      <td>3.000000</td>\n",
       "      <td>9.000000</td>\n",
       "      <td>23.000000</td>\n",
       "      <td>4685.000000</td>\n",
       "    </tr>\n",
       "    <tr>\n",
       "      <th>BERRY_FARMS07</th>\n",
       "      <td>2238.0</td>\n",
       "      <td>8.408400</td>\n",
       "      <td>20.076972</td>\n",
       "      <td>0.000000</td>\n",
       "      <td>0.000000</td>\n",
       "      <td>3.000000</td>\n",
       "      <td>9.000000</td>\n",
       "      <td>395.000000</td>\n",
       "    </tr>\n",
       "    <tr>\n",
       "      <th>SLHOUSE07</th>\n",
       "      <td>2238.0</td>\n",
       "      <td>0.615282</td>\n",
       "      <td>1.343166</td>\n",
       "      <td>0.000000</td>\n",
       "      <td>0.000000</td>\n",
       "      <td>0.000000</td>\n",
       "      <td>1.000000</td>\n",
       "      <td>41.000000</td>\n",
       "    </tr>\n",
       "    <tr>\n",
       "      <th>GHVEG_FARMS07</th>\n",
       "      <td>2238.0</td>\n",
       "      <td>1.334227</td>\n",
       "      <td>3.038569</td>\n",
       "      <td>0.000000</td>\n",
       "      <td>0.000000</td>\n",
       "      <td>0.000000</td>\n",
       "      <td>2.000000</td>\n",
       "      <td>80.000000</td>\n",
       "    </tr>\n",
       "    <tr>\n",
       "      <th>CSA07</th>\n",
       "      <td>2238.0</td>\n",
       "      <td>4.168454</td>\n",
       "      <td>5.573161</td>\n",
       "      <td>0.000000</td>\n",
       "      <td>1.000000</td>\n",
       "      <td>3.000000</td>\n",
       "      <td>6.000000</td>\n",
       "      <td>79.000000</td>\n",
       "    </tr>\n",
       "    <tr>\n",
       "      <th>AGRITRSM_OPS07</th>\n",
       "      <td>2238.0</td>\n",
       "      <td>7.833780</td>\n",
       "      <td>10.929370</td>\n",
       "      <td>0.000000</td>\n",
       "      <td>2.000000</td>\n",
       "      <td>5.000000</td>\n",
       "      <td>10.000000</td>\n",
       "      <td>161.000000</td>\n",
       "    </tr>\n",
       "    <tr>\n",
       "      <th>FARM_TO_SCHOOL</th>\n",
       "      <td>2238.0</td>\n",
       "      <td>0.061662</td>\n",
       "      <td>0.240595</td>\n",
       "      <td>0.000000</td>\n",
       "      <td>0.000000</td>\n",
       "      <td>0.000000</td>\n",
       "      <td>0.000000</td>\n",
       "      <td>1.000000</td>\n",
       "    </tr>\n",
       "    <tr>\n",
       "      <th>RECFACPTH07</th>\n",
       "      <td>2238.0</td>\n",
       "      <td>0.086654</td>\n",
       "      <td>0.088825</td>\n",
       "      <td>0.000000</td>\n",
       "      <td>0.016420</td>\n",
       "      <td>0.078938</td>\n",
       "      <td>0.122835</td>\n",
       "      <td>1.493280</td>\n",
       "    </tr>\n",
       "    <tr>\n",
       "      <th>NATAMEN</th>\n",
       "      <td>2238.0</td>\n",
       "      <td>3.502681</td>\n",
       "      <td>1.061684</td>\n",
       "      <td>1.000000</td>\n",
       "      <td>3.000000</td>\n",
       "      <td>3.000000</td>\n",
       "      <td>4.000000</td>\n",
       "      <td>7.000000</td>\n",
       "    </tr>\n",
       "    <tr>\n",
       "      <th>PCT_NHWHITE10</th>\n",
       "      <td>2238.0</td>\n",
       "      <td>79.068807</td>\n",
       "      <td>19.407974</td>\n",
       "      <td>2.804357</td>\n",
       "      <td>68.056596</td>\n",
       "      <td>86.292713</td>\n",
       "      <td>94.450251</td>\n",
       "      <td>99.163180</td>\n",
       "    </tr>\n",
       "    <tr>\n",
       "      <th>PCT_NHBLACK10</th>\n",
       "      <td>2238.0</td>\n",
       "      <td>8.445822</td>\n",
       "      <td>14.180673</td>\n",
       "      <td>0.000000</td>\n",
       "      <td>0.410195</td>\n",
       "      <td>1.864511</td>\n",
       "      <td>9.213162</td>\n",
       "      <td>84.048313</td>\n",
       "    </tr>\n",
       "    <tr>\n",
       "      <th>PCT_HISP10</th>\n",
       "      <td>2238.0</td>\n",
       "      <td>8.274964</td>\n",
       "      <td>13.141296</td>\n",
       "      <td>0.000000</td>\n",
       "      <td>1.562141</td>\n",
       "      <td>3.251949</td>\n",
       "      <td>8.399335</td>\n",
       "      <td>95.744774</td>\n",
       "    </tr>\n",
       "    <tr>\n",
       "      <th>PCT_NHASIAN10</th>\n",
       "      <td>2238.0</td>\n",
       "      <td>1.016786</td>\n",
       "      <td>1.939960</td>\n",
       "      <td>0.000000</td>\n",
       "      <td>0.264216</td>\n",
       "      <td>0.448052</td>\n",
       "      <td>0.925852</td>\n",
       "      <td>31.738475</td>\n",
       "    </tr>\n",
       "    <tr>\n",
       "      <th>PCT_NHNA10</th>\n",
       "      <td>2238.0</td>\n",
       "      <td>1.640196</td>\n",
       "      <td>6.669616</td>\n",
       "      <td>0.000000</td>\n",
       "      <td>0.194490</td>\n",
       "      <td>0.305268</td>\n",
       "      <td>0.642402</td>\n",
       "      <td>94.096864</td>\n",
       "    </tr>\n",
       "    <tr>\n",
       "      <th>PCT_NHPI10</th>\n",
       "      <td>2238.0</td>\n",
       "      <td>0.048291</td>\n",
       "      <td>0.114293</td>\n",
       "      <td>0.000000</td>\n",
       "      <td>0.009843</td>\n",
       "      <td>0.022267</td>\n",
       "      <td>0.044146</td>\n",
       "      <td>2.019058</td>\n",
       "    </tr>\n",
       "    <tr>\n",
       "      <th>PCT_65OLDER10</th>\n",
       "      <td>2238.0</td>\n",
       "      <td>15.990063</td>\n",
       "      <td>4.168630</td>\n",
       "      <td>5.628676</td>\n",
       "      <td>13.239609</td>\n",
       "      <td>15.657129</td>\n",
       "      <td>18.210198</td>\n",
       "      <td>43.384714</td>\n",
       "    </tr>\n",
       "    <tr>\n",
       "      <th>PCT_18YOUNGER10</th>\n",
       "      <td>2238.0</td>\n",
       "      <td>23.455209</td>\n",
       "      <td>3.245460</td>\n",
       "      <td>9.111539</td>\n",
       "      <td>21.480705</td>\n",
       "      <td>23.382111</td>\n",
       "      <td>25.079159</td>\n",
       "      <td>40.126925</td>\n",
       "    </tr>\n",
       "    <tr>\n",
       "      <th>MEDHHINC10</th>\n",
       "      <td>2238.0</td>\n",
       "      <td>43099.194817</td>\n",
       "      <td>10638.000477</td>\n",
       "      <td>21611.000000</td>\n",
       "      <td>36111.500000</td>\n",
       "      <td>41349.500000</td>\n",
       "      <td>47725.500000</td>\n",
       "      <td>119075.000000</td>\n",
       "    </tr>\n",
       "    <tr>\n",
       "      <th>POVRATE10</th>\n",
       "      <td>2238.0</td>\n",
       "      <td>16.732574</td>\n",
       "      <td>6.216018</td>\n",
       "      <td>3.500000</td>\n",
       "      <td>12.225000</td>\n",
       "      <td>15.850000</td>\n",
       "      <td>20.100000</td>\n",
       "      <td>49.100000</td>\n",
       "    </tr>\n",
       "    <tr>\n",
       "      <th>PERPOV10</th>\n",
       "      <td>2238.0</td>\n",
       "      <td>0.113494</td>\n",
       "      <td>0.317267</td>\n",
       "      <td>0.000000</td>\n",
       "      <td>0.000000</td>\n",
       "      <td>0.000000</td>\n",
       "      <td>0.000000</td>\n",
       "      <td>1.000000</td>\n",
       "    </tr>\n",
       "    <tr>\n",
       "      <th>CHILDPOVRATE10</th>\n",
       "      <td>2238.0</td>\n",
       "      <td>24.167962</td>\n",
       "      <td>9.068925</td>\n",
       "      <td>3.800000</td>\n",
       "      <td>17.325000</td>\n",
       "      <td>23.600000</td>\n",
       "      <td>29.800000</td>\n",
       "      <td>61.100000</td>\n",
       "    </tr>\n",
       "    <tr>\n",
       "      <th>PERCHLDPOV10</th>\n",
       "      <td>2238.0</td>\n",
       "      <td>0.226095</td>\n",
       "      <td>0.418395</td>\n",
       "      <td>0.000000</td>\n",
       "      <td>0.000000</td>\n",
       "      <td>0.000000</td>\n",
       "      <td>0.000000</td>\n",
       "      <td>1.000000</td>\n",
       "    </tr>\n",
       "    <tr>\n",
       "      <th>METRO13</th>\n",
       "      <td>2238.0</td>\n",
       "      <td>0.372654</td>\n",
       "      <td>0.483619</td>\n",
       "      <td>0.000000</td>\n",
       "      <td>0.000000</td>\n",
       "      <td>0.000000</td>\n",
       "      <td>1.000000</td>\n",
       "      <td>1.000000</td>\n",
       "    </tr>\n",
       "    <tr>\n",
       "      <th>POPLOSS00</th>\n",
       "      <td>2238.0</td>\n",
       "      <td>0.192136</td>\n",
       "      <td>0.394067</td>\n",
       "      <td>0.000000</td>\n",
       "      <td>0.000000</td>\n",
       "      <td>0.000000</td>\n",
       "      <td>0.000000</td>\n",
       "      <td>1.000000</td>\n",
       "    </tr>\n",
       "    <tr>\n",
       "      <th>PCT_OBESE_ADULTS10</th>\n",
       "      <td>2238.0</td>\n",
       "      <td>30.588829</td>\n",
       "      <td>4.229043</td>\n",
       "      <td>13.100000</td>\n",
       "      <td>28.300000</td>\n",
       "      <td>30.800000</td>\n",
       "      <td>33.100000</td>\n",
       "      <td>47.900000</td>\n",
       "    </tr>\n",
       "  </tbody>\n",
       "</table>\n",
       "<p>64 rows × 8 columns</p>\n",
       "</div>"
      ],
      "text/plain": [
       "                        count          mean           std           min  \\\n",
       "PCT_LACCESS_POP10      2238.0     22.969326     19.135734      0.000000   \n",
       "PCT_LACCESS_LOWI10     2238.0      8.186174      7.826634      0.000000   \n",
       "PCT_LACCESS_CHILD10    2238.0      5.364627      4.589409      0.000000   \n",
       "PCT_LACCESS_SENIORS10  2238.0      3.854625      4.067886      0.000000   \n",
       "PCT_LACCESS_HHNV10     2238.0      3.004453      2.019928      0.000000   \n",
       "GROCPTH07              2238.0      0.279223      0.218356      0.000000   \n",
       "SUPERCPTH07            2238.0      0.009998      0.016073      0.000000   \n",
       "CONVSPTH07             2238.0      0.864932      0.512991      0.000000   \n",
       "SPECSPTH07             2238.0      0.064748      0.077691      0.000000   \n",
       "SNAPSPTH08             2238.0      0.680460      0.333580      0.000000   \n",
       "WICSPTH08              2238.0      0.247483      0.237295      0.000000   \n",
       "FFRPTH07               2238.0      0.579608      0.261522      0.000000   \n",
       "FSRPTH07               2238.0      0.779617      0.499790      0.000000   \n",
       "PC_FFRSALES07          2238.0    640.802990     94.928131    402.097804   \n",
       "PC_FSRSALES07          2238.0    620.545969    122.871714    371.845051   \n",
       "PCT_SNAP09             2238.0     11.593449      3.142271      4.917045   \n",
       "SNAP_PART_RATE10       2238.0     78.076408      9.072152     55.000000   \n",
       "SNAP_OAPP10            2238.0      0.600536      0.476248      0.000000   \n",
       "SNAP_FACEWAIVER10      2238.0      0.881591      0.304284      0.000000   \n",
       "SNAP_VEHEXCL10         2238.0      0.883825      0.320506      0.000000   \n",
       "SNAP_BBCE10            2238.0      0.714924      0.451552      0.000000   \n",
       "SNAP_REPORTSIMPLE10    2238.0      0.973637      0.160248      0.000000   \n",
       "PCT_NSLP09             2238.0     11.163073      1.856514      6.954298   \n",
       "PCT_FREE_LUNCH10       2238.0     42.796552     16.075726      0.000000   \n",
       "PCT_REDUCED_LUNCH10    2238.0      8.527909      3.196977      0.000000   \n",
       "PCT_SBP09              2238.0      3.979748      1.400022      1.661363   \n",
       "PCT_SFSP09             2238.0      0.708905      0.369950      0.188045   \n",
       "PCT_WIC09              2238.0      2.956958      0.727218      1.386256   \n",
       "PCT_CACFP09            2238.0      1.224334      0.397610      0.387918   \n",
       "FOODINSEC_07_09        2238.0     13.532842      2.392338      6.700000   \n",
       "...                       ...           ...           ...           ...   \n",
       "MILK_SODA_PRICE10      2238.0      0.908328      0.126113      0.637195   \n",
       "PCT_LOCLFARM07         2238.0      6.428910      6.059918      0.200000   \n",
       "FMRKTPTH09             2238.0      0.036139      0.071639      0.000000   \n",
       "VEG_FARMS07            2238.0     22.767650     43.362653      0.000000   \n",
       "FRESHVEG_FARMS07       2238.0     20.490170     40.158065      0.000000   \n",
       "ORCHARD_FARMS07        2238.0     38.346291    185.917354      0.000000   \n",
       "BERRY_FARMS07          2238.0      8.408400     20.076972      0.000000   \n",
       "SLHOUSE07              2238.0      0.615282      1.343166      0.000000   \n",
       "GHVEG_FARMS07          2238.0      1.334227      3.038569      0.000000   \n",
       "CSA07                  2238.0      4.168454      5.573161      0.000000   \n",
       "AGRITRSM_OPS07         2238.0      7.833780     10.929370      0.000000   \n",
       "FARM_TO_SCHOOL         2238.0      0.061662      0.240595      0.000000   \n",
       "RECFACPTH07            2238.0      0.086654      0.088825      0.000000   \n",
       "NATAMEN                2238.0      3.502681      1.061684      1.000000   \n",
       "PCT_NHWHITE10          2238.0     79.068807     19.407974      2.804357   \n",
       "PCT_NHBLACK10          2238.0      8.445822     14.180673      0.000000   \n",
       "PCT_HISP10             2238.0      8.274964     13.141296      0.000000   \n",
       "PCT_NHASIAN10          2238.0      1.016786      1.939960      0.000000   \n",
       "PCT_NHNA10             2238.0      1.640196      6.669616      0.000000   \n",
       "PCT_NHPI10             2238.0      0.048291      0.114293      0.000000   \n",
       "PCT_65OLDER10          2238.0     15.990063      4.168630      5.628676   \n",
       "PCT_18YOUNGER10        2238.0     23.455209      3.245460      9.111539   \n",
       "MEDHHINC10             2238.0  43099.194817  10638.000477  21611.000000   \n",
       "POVRATE10              2238.0     16.732574      6.216018      3.500000   \n",
       "PERPOV10               2238.0      0.113494      0.317267      0.000000   \n",
       "CHILDPOVRATE10         2238.0     24.167962      9.068925      3.800000   \n",
       "PERCHLDPOV10           2238.0      0.226095      0.418395      0.000000   \n",
       "METRO13                2238.0      0.372654      0.483619      0.000000   \n",
       "POPLOSS00              2238.0      0.192136      0.394067      0.000000   \n",
       "PCT_OBESE_ADULTS10     2238.0     30.588829      4.229043     13.100000   \n",
       "\n",
       "                                25%           50%           75%            max  \n",
       "PCT_LACCESS_POP10         11.033408     19.255416     29.226552     100.000001  \n",
       "PCT_LACCESS_LOWI10         3.439809      6.142683     10.313275      72.274456  \n",
       "PCT_LACCESS_CHILD10        2.425050      4.402790      6.940497      34.015595  \n",
       "PCT_LACCESS_SENIORS10      1.621040      2.816615      4.525626      29.208633  \n",
       "PCT_LACCESS_HHNV10         1.612766      2.544292      3.800336      13.999149  \n",
       "GROCPTH07                  0.159372      0.222249      0.323943       3.231018  \n",
       "SUPERCPTH07                0.000000      0.000000      0.016785       0.169779  \n",
       "CONVSPTH07                 0.585228      0.761690      0.993579       7.194245  \n",
       "SPECSPTH07                 0.000000      0.051303      0.094127       0.770119  \n",
       "SNAPSPTH08                 0.447842      0.624954      0.846829       2.976190  \n",
       "WICSPTH08                  0.123704      0.187947      0.289424       4.618937  \n",
       "FFRPTH07                   0.428552      0.589135      0.732906       2.922552  \n",
       "FSRPTH07                   0.510273      0.681829      0.893788       7.194245  \n",
       "PC_FFRSALES07            576.210444    632.337378    721.823151     939.130452  \n",
       "PC_FSRSALES07            534.383583    617.339007    711.769798    1205.714280  \n",
       "PCT_SNAP09                 9.106665     11.886230     14.229455      17.138235  \n",
       "SNAP_PART_RATE10          73.000000     78.000000     83.000000     100.000000  \n",
       "SNAP_OAPP10                0.000000      1.000000      1.000000       1.000000  \n",
       "SNAP_FACEWAIVER10          1.000000      1.000000      1.000000       1.000000  \n",
       "SNAP_VEHEXCL10             1.000000      1.000000      1.000000       1.000000  \n",
       "SNAP_BBCE10                0.000000      1.000000      1.000000       1.000000  \n",
       "SNAP_REPORTSIMPLE10        1.000000      1.000000      1.000000       1.000000  \n",
       "PCT_NSLP09                 9.549006     11.416674     13.112031      13.743786  \n",
       "PCT_FREE_LUNCH10          30.981523     41.390535     52.513567      99.402066  \n",
       "PCT_REDUCED_LUNCH10        6.637592      8.174810     10.056457      47.290669  \n",
       "PCT_SBP09                  2.828934      3.416376      5.427669       6.771012  \n",
       "PCT_SFSP09                 0.548879      0.625526      0.770496       2.234327  \n",
       "PCT_WIC09                  2.507607      2.731320      3.286145       5.078872  \n",
       "PCT_CACFP09                0.954012      1.147388      1.424865       2.552547  \n",
       "FOODINSEC_07_09           11.800000     13.500000     15.000000      17.700000  \n",
       "...                             ...           ...           ...            ...  \n",
       "MILK_SODA_PRICE10          0.815374      0.844997      1.040049       1.242792  \n",
       "PCT_LOCLFARM07             2.800000      4.700000      8.100000     100.000000  \n",
       "FMRKTPTH09                 0.000000      0.011137      0.044033       1.019888  \n",
       "VEG_FARMS07                4.000000     11.000000     26.750000    1100.000000  \n",
       "FRESHVEG_FARMS07           4.000000     11.000000     24.000000    1100.000000  \n",
       "ORCHARD_FARMS07            3.000000      9.000000     23.000000    4685.000000  \n",
       "BERRY_FARMS07              0.000000      3.000000      9.000000     395.000000  \n",
       "SLHOUSE07                  0.000000      0.000000      1.000000      41.000000  \n",
       "GHVEG_FARMS07              0.000000      0.000000      2.000000      80.000000  \n",
       "CSA07                      1.000000      3.000000      6.000000      79.000000  \n",
       "AGRITRSM_OPS07             2.000000      5.000000     10.000000     161.000000  \n",
       "FARM_TO_SCHOOL             0.000000      0.000000      0.000000       1.000000  \n",
       "RECFACPTH07                0.016420      0.078938      0.122835       1.493280  \n",
       "NATAMEN                    3.000000      3.000000      4.000000       7.000000  \n",
       "PCT_NHWHITE10             68.056596     86.292713     94.450251      99.163180  \n",
       "PCT_NHBLACK10              0.410195      1.864511      9.213162      84.048313  \n",
       "PCT_HISP10                 1.562141      3.251949      8.399335      95.744774  \n",
       "PCT_NHASIAN10              0.264216      0.448052      0.925852      31.738475  \n",
       "PCT_NHNA10                 0.194490      0.305268      0.642402      94.096864  \n",
       "PCT_NHPI10                 0.009843      0.022267      0.044146       2.019058  \n",
       "PCT_65OLDER10             13.239609     15.657129     18.210198      43.384714  \n",
       "PCT_18YOUNGER10           21.480705     23.382111     25.079159      40.126925  \n",
       "MEDHHINC10             36111.500000  41349.500000  47725.500000  119075.000000  \n",
       "POVRATE10                 12.225000     15.850000     20.100000      49.100000  \n",
       "PERPOV10                   0.000000      0.000000      0.000000       1.000000  \n",
       "CHILDPOVRATE10            17.325000     23.600000     29.800000      61.100000  \n",
       "PERCHLDPOV10               0.000000      0.000000      0.000000       1.000000  \n",
       "METRO13                    0.000000      0.000000      1.000000       1.000000  \n",
       "POPLOSS00                  0.000000      0.000000      0.000000       1.000000  \n",
       "PCT_OBESE_ADULTS10        28.300000     30.800000     33.100000      47.900000  \n",
       "\n",
       "[64 rows x 8 columns]"
      ]
     },
     "execution_count": 7,
     "metadata": {},
     "output_type": "execute_result"
    }
   ],
   "source": [
    "# Summary Table - transpose for ease of reading\n",
    "summary_table = data.describe().transpose()\n",
    "summary_table"
   ]
  },
  {
   "cell_type": "markdown",
   "metadata": {},
   "source": [
    "## Check for Outliers"
   ]
  },
  {
   "cell_type": "code",
   "execution_count": 8,
   "metadata": {
    "collapsed": false
   },
   "outputs": [
    {
     "data": {
      "text/plain": [
       "count    2238.000000\n",
       "mean       30.588829\n",
       "std         4.229043\n",
       "min        13.100000\n",
       "25%        28.300000\n",
       "50%        30.800000\n",
       "75%        33.100000\n",
       "max        47.900000\n",
       "Name: PCT_OBESE_ADULTS10, dtype: float64"
      ]
     },
     "execution_count": 8,
     "metadata": {},
     "output_type": "execute_result"
    }
   ],
   "source": [
    "# check the response variable distribution\n",
    "data['PCT_OBESE_ADULTS10'].describe()"
   ]
  },
  {
   "cell_type": "code",
   "execution_count": 9,
   "metadata": {
    "collapsed": false
   },
   "outputs": [
    {
     "data": {
      "text/plain": [
       "<matplotlib.text.Text at 0x11987a110>"
      ]
     },
     "execution_count": 9,
     "metadata": {},
     "output_type": "execute_result"
    },
    {
     "data": {
      "image/png": "[encoded data removed]",
      "text/plain": [
       "<matplotlib.figure.Figure at 0x118ecde10>"
      ]
     },
     "metadata": {},
     "output_type": "display_data"
    }
   ],
   "source": [
    "plt.hist(data['PCT_OBESE_ADULTS10'],bins=50)\n",
    "plt.title('Obesity Rates, %', size = 14)"
   ]
  },
  {
   "cell_type": "code",
   "execution_count": 10,
   "metadata": {
    "collapsed": false
   },
   "outputs": [
    {
     "name": "stdout",
     "output_type": "stream",
     "text": [
      "17.9017014807\n",
      "43.275957143\n"
     ]
    }
   ],
   "source": [
    "# calculate bottom and top values for 3 STD from the mean for the outcome variable\n",
    "bottom_border=data['PCT_OBESE_ADULTS10'].mean()-3*data['PCT_OBESE_ADULTS10'].std()\n",
    "top_border=data['PCT_OBESE_ADULTS10'].mean()+3*data['PCT_OBESE_ADULTS10'].std()\n",
    "print bottom_border\n",
    "print top_border"
   ]
  },
  {
   "cell_type": "code",
   "execution_count": 11,
   "metadata": {
    "collapsed": false,
    "scrolled": true
   },
   "outputs": [
    {
     "data": {
      "text/plain": [
       "FIPS\n",
       "56039    13.1\n",
       "8037     13.2\n",
       "8107     13.4\n",
       "35049    13.8\n",
       "8097     14.2\n",
       "8117     14.5\n",
       "8013     14.9\n",
       "49043    15.3\n",
       "6041     15.4\n",
       "8035     16.2\n",
       "8015     16.2\n",
       "8067     16.7\n",
       "8113     16.9\n",
       "8007     17.0\n",
       "36119    17.2\n",
       "8045     17.4\n",
       "30031    17.5\n",
       "8119     17.8\n",
       "1085     43.8\n",
       "28133    43.9\n",
       "38085    44.3\n",
       "28027    47.4\n",
       "1063     47.9\n",
       "Name: PCT_OBESE_ADULTS10, dtype: float64"
      ]
     },
     "execution_count": 11,
     "metadata": {},
     "output_type": "execute_result"
    }
   ],
   "source": [
    "outliers = data[(data['PCT_OBESE_ADULTS10']<bottom_border) | (data['PCT_OBESE_ADULTS10']>top_border)]['PCT_OBESE_ADULTS10'].sort_values()\n",
    "outliers"
   ]
  },
  {
   "cell_type": "markdown",
   "metadata": {},
   "source": [
    "### There are 23 rows with outliers in the outcome variable in the train data set"
   ]
  },
  {
   "cell_type": "code",
   "execution_count": 12,
   "metadata": {
    "collapsed": true
   },
   "outputs": [],
   "source": [
    "# Access and Proximity to Grocery Store variable"
   ]
  },
  {
   "cell_type": "code",
   "execution_count": 13,
   "metadata": {
    "collapsed": false
   },
   "outputs": [
    {
     "data": {
      "text/html": [
       "<div>\n",
       "<table border=\"1\" class=\"dataframe\">\n",
       "  <thead>\n",
       "    <tr style=\"text-align: right;\">\n",
       "      <th></th>\n",
       "      <th>PCT_LACCESS_POP10</th>\n",
       "      <th>PCT_LACCESS_LOWI10</th>\n",
       "      <th>PCT_LACCESS_CHILD10</th>\n",
       "      <th>PCT_LACCESS_SENIORS10</th>\n",
       "      <th>PCT_LACCESS_HHNV10</th>\n",
       "    </tr>\n",
       "  </thead>\n",
       "  <tbody>\n",
       "    <tr>\n",
       "      <th>PCT_LACCESS_POP10</th>\n",
       "      <td>1.000000</td>\n",
       "      <td>0.907387</td>\n",
       "      <td>0.962960</td>\n",
       "      <td>0.924933</td>\n",
       "      <td>0.032980</td>\n",
       "    </tr>\n",
       "    <tr>\n",
       "      <th>PCT_LACCESS_LOWI10</th>\n",
       "      <td>0.907387</td>\n",
       "      <td>1.000000</td>\n",
       "      <td>0.885786</td>\n",
       "      <td>0.843961</td>\n",
       "      <td>0.226538</td>\n",
       "    </tr>\n",
       "    <tr>\n",
       "      <th>PCT_LACCESS_CHILD10</th>\n",
       "      <td>0.962960</td>\n",
       "      <td>0.885786</td>\n",
       "      <td>1.000000</td>\n",
       "      <td>0.830421</td>\n",
       "      <td>0.026032</td>\n",
       "    </tr>\n",
       "    <tr>\n",
       "      <th>PCT_LACCESS_SENIORS10</th>\n",
       "      <td>0.924933</td>\n",
       "      <td>0.843961</td>\n",
       "      <td>0.830421</td>\n",
       "      <td>1.000000</td>\n",
       "      <td>0.035306</td>\n",
       "    </tr>\n",
       "    <tr>\n",
       "      <th>PCT_LACCESS_HHNV10</th>\n",
       "      <td>0.032980</td>\n",
       "      <td>0.226538</td>\n",
       "      <td>0.026032</td>\n",
       "      <td>0.035306</td>\n",
       "      <td>1.000000</td>\n",
       "    </tr>\n",
       "  </tbody>\n",
       "</table>\n",
       "</div>"
      ],
      "text/plain": [
       "                       PCT_LACCESS_POP10  PCT_LACCESS_LOWI10  \\\n",
       "PCT_LACCESS_POP10               1.000000            0.907387   \n",
       "PCT_LACCESS_LOWI10              0.907387            1.000000   \n",
       "PCT_LACCESS_CHILD10             0.962960            0.885786   \n",
       "PCT_LACCESS_SENIORS10           0.924933            0.843961   \n",
       "PCT_LACCESS_HHNV10              0.032980            0.226538   \n",
       "\n",
       "                       PCT_LACCESS_CHILD10  PCT_LACCESS_SENIORS10  \\\n",
       "PCT_LACCESS_POP10                 0.962960               0.924933   \n",
       "PCT_LACCESS_LOWI10                0.885786               0.843961   \n",
       "PCT_LACCESS_CHILD10               1.000000               0.830421   \n",
       "PCT_LACCESS_SENIORS10             0.830421               1.000000   \n",
       "PCT_LACCESS_HHNV10                0.026032               0.035306   \n",
       "\n",
       "                       PCT_LACCESS_HHNV10  \n",
       "PCT_LACCESS_POP10                0.032980  \n",
       "PCT_LACCESS_LOWI10               0.226538  \n",
       "PCT_LACCESS_CHILD10              0.026032  \n",
       "PCT_LACCESS_SENIORS10            0.035306  \n",
       "PCT_LACCESS_HHNV10               1.000000  "
      ]
     },
     "execution_count": 13,
     "metadata": {},
     "output_type": "execute_result"
    }
   ],
   "source": [
    "data.iloc[:,:5].corr()"
   ]
  },
  {
   "cell_type": "markdown",
   "metadata": {},
   "source": [
    "#### All  'Access and Proximity' predictor variables with the exception of PCT_LACCESS_HHNV10 are highly correlated"
   ]
  },
  {
   "cell_type": "code",
   "execution_count": 14,
   "metadata": {
    "collapsed": false
   },
   "outputs": [
    {
     "data": {
      "text/plain": [
       "<matplotlib.text.Text at 0x11c3f93d0>"
      ]
     },
     "execution_count": 14,
     "metadata": {},
     "output_type": "execute_result"
    },
    {
     "data": {
      "image/png": "[encoded data removed]",
      "text/plain": [
       "<matplotlib.figure.Figure at 0x11999ae50>"
      ]
     },
     "metadata": {},
     "output_type": "display_data"
    }
   ],
   "source": [
    "# create a scatter plot for two variables with high correlation\n",
    "plt.scatter(data.PCT_LACCESS_POP10, data.PCT_LACCESS_CHILD10)\n",
    "plt.xlabel('Population, low access to store (%), 2010',size = 14)\n",
    "plt.ylabel('Children, low access to store (%), 2010',size = 14)\n",
    "plt.title('Access to Stores', size=16)"
   ]
  },
  {
   "cell_type": "code",
   "execution_count": 15,
   "metadata": {
    "collapsed": false
   },
   "outputs": [
    {
     "data": {
      "text/plain": [
       "<matplotlib.text.Text at 0x11c3b3050>"
      ]
     },
     "execution_count": 15,
     "metadata": {},
     "output_type": "execute_result"
    },
    {
     "data": {
      "image/png": "[encoded data removed]",
      "text/plain": [
       "<matplotlib.figure.Figure at 0x11c4e7d50>"
      ]
     },
     "metadata": {},
     "output_type": "display_data"
    }
   ],
   "source": [
    "plt.scatter(data.PCT_LACCESS_HHNV10, data.PCT_OBESE_ADULTS10)\n",
    "plt.xlabel('Households, no car & low access to store (%)', size = 14)\n",
    "plt.ylabel('Adult obesity rate (%)', size = 14)"
   ]
  },
  {
   "cell_type": "code",
   "execution_count": 16,
   "metadata": {
    "collapsed": false
   },
   "outputs": [
    {
     "data": {
      "text/plain": [
       "PCT_OBESE_ADULTS10    1.000000\n",
       "PCT_FREE_LUNCH10      0.499841\n",
       "CHILDPOVRATE10        0.470555\n",
       "PCT_SNAP09            0.462712\n",
       "POVRATE10             0.460313\n",
       "PCT_LACCESS_HHNV10    0.441692\n",
       "Name: PCT_OBESE_ADULTS10, dtype: float64"
      ]
     },
     "execution_count": 16,
     "metadata": {},
     "output_type": "execute_result"
    }
   ],
   "source": [
    "# Run correlations with all variables\n",
    "# see the top 10 predicotrs (i.e. highest correlation with the outcome variable)\n",
    "\n",
    "corr = data.corr()\n",
    "corr['PCT_OBESE_ADULTS10'].sort_values(ascending=False).head(6)"
   ]
  },
  {
   "cell_type": "code",
   "execution_count": 17,
   "metadata": {
    "collapsed": false
   },
   "outputs": [
    {
     "data": {
      "text/plain": [
       "<matplotlib.text.Text at 0x11c7e3150>"
      ]
     },
     "execution_count": 17,
     "metadata": {},
     "output_type": "execute_result"
    },
    {
     "data": {
      "image/png": "[encoded data removed]",
      "text/plain": [
       "<matplotlib.figure.Figure at 0x1198dde10>"
      ]
     },
     "metadata": {},
     "output_type": "display_data"
    }
   ],
   "source": [
    "# create scatterplot of the most correlated variable\n",
    "fit = np.polyfit(data.PCT_FREE_LUNCH10,data.PCT_OBESE_ADULTS10,1)\n",
    "fit_fn = np.poly1d(fit) \n",
    "\n",
    "plt.plot(data.PCT_FREE_LUNCH10,data.PCT_OBESE_ADULTS10, 'yo', data.PCT_FREE_LUNCH10, fit_fn(data.PCT_FREE_LUNCH10), '--k')\n",
    "plt.xlabel('Students eligible for free lunch (%), 2010', size=14)\n",
    "plt.ylabel('Adult obesity rate (%)', size=14)"
   ]
  },
  {
   "cell_type": "code",
   "execution_count": 18,
   "metadata": {
    "collapsed": false
   },
   "outputs": [
    {
     "data": {
      "text/html": [
       "<div>\n",
       "<table border=\"1\" class=\"dataframe\">\n",
       "  <thead>\n",
       "    <tr style=\"text-align: right;\">\n",
       "      <th></th>\n",
       "      <th>PCT_OBESE_ADULTS10</th>\n",
       "    </tr>\n",
       "    <tr>\n",
       "      <th>PERPOV10</th>\n",
       "      <th></th>\n",
       "    </tr>\n",
       "  </thead>\n",
       "  <tbody>\n",
       "    <tr>\n",
       "      <th>0</th>\n",
       "      <td>30.072933</td>\n",
       "    </tr>\n",
       "    <tr>\n",
       "      <th>1</th>\n",
       "      <td>34.618504</td>\n",
       "    </tr>\n",
       "  </tbody>\n",
       "</table>\n",
       "</div>"
      ],
      "text/plain": [
       "          PCT_OBESE_ADULTS10\n",
       "PERPOV10                    \n",
       "0                  30.072933\n",
       "1                  34.618504"
      ]
     },
     "execution_count": 18,
     "metadata": {},
     "output_type": "execute_result"
    }
   ],
   "source": [
    "# compute the average of obesity rate for Persistent-poverty counties predictor\n",
    "data.groupby(['PERPOV10'])[['PCT_OBESE_ADULTS10']].mean()"
   ]
  },
  {
   "cell_type": "code",
   "execution_count": 19,
   "metadata": {
    "collapsed": false
   },
   "outputs": [
    {
     "data": {
      "text/html": [
       "<div>\n",
       "<table border=\"1\" class=\"dataframe\">\n",
       "  <thead>\n",
       "    <tr style=\"text-align: right;\">\n",
       "      <th></th>\n",
       "      <th>PCT_OBESE_ADULTS10</th>\n",
       "    </tr>\n",
       "    <tr>\n",
       "      <th>PERCHLDPOV10</th>\n",
       "      <th></th>\n",
       "    </tr>\n",
       "  </thead>\n",
       "  <tbody>\n",
       "    <tr>\n",
       "      <th>0</th>\n",
       "      <td>29.774134</td>\n",
       "    </tr>\n",
       "    <tr>\n",
       "      <th>1</th>\n",
       "      <td>33.377470</td>\n",
       "    </tr>\n",
       "  </tbody>\n",
       "</table>\n",
       "</div>"
      ],
      "text/plain": [
       "              PCT_OBESE_ADULTS10\n",
       "PERCHLDPOV10                    \n",
       "0                      29.774134\n",
       "1                      33.377470"
      ]
     },
     "execution_count": 19,
     "metadata": {},
     "output_type": "execute_result"
    }
   ],
   "source": [
    "# compute the average of obesity rate for Persistent-child-poverty counties counties\n",
    "data.groupby(['PERCHLDPOV10'])[['PCT_OBESE_ADULTS10']].mean()"
   ]
  },
  {
   "cell_type": "code",
   "execution_count": 20,
   "metadata": {
    "collapsed": false
   },
   "outputs": [
    {
     "data": {
      "text/html": [
       "<div>\n",
       "<table border=\"1\" class=\"dataframe\">\n",
       "  <thead>\n",
       "    <tr style=\"text-align: right;\">\n",
       "      <th></th>\n",
       "      <th>PCT_LACCESS_POP10</th>\n",
       "      <th>PCT_LACCESS_LOWI10</th>\n",
       "      <th>PCT_LACCESS_CHILD10</th>\n",
       "      <th>PCT_LACCESS_SENIORS10</th>\n",
       "      <th>PCT_LACCESS_HHNV10</th>\n",
       "      <th>GROCPTH07</th>\n",
       "      <th>SUPERCPTH07</th>\n",
       "      <th>CONVSPTH07</th>\n",
       "      <th>SPECSPTH07</th>\n",
       "      <th>SNAPSPTH08</th>\n",
       "      <th>...</th>\n",
       "      <th>PCT_65OLDER10</th>\n",
       "      <th>PCT_18YOUNGER10</th>\n",
       "      <th>MEDHHINC10</th>\n",
       "      <th>POVRATE10</th>\n",
       "      <th>PERPOV10</th>\n",
       "      <th>CHILDPOVRATE10</th>\n",
       "      <th>PERCHLDPOV10</th>\n",
       "      <th>METRO13</th>\n",
       "      <th>POPLOSS00</th>\n",
       "      <th>PCT_OBESE_ADULTS10</th>\n",
       "    </tr>\n",
       "    <tr>\n",
       "      <th>FIPS</th>\n",
       "      <th></th>\n",
       "      <th></th>\n",
       "      <th></th>\n",
       "      <th></th>\n",
       "      <th></th>\n",
       "      <th></th>\n",
       "      <th></th>\n",
       "      <th></th>\n",
       "      <th></th>\n",
       "      <th></th>\n",
       "      <th></th>\n",
       "      <th></th>\n",
       "      <th></th>\n",
       "      <th></th>\n",
       "      <th></th>\n",
       "      <th></th>\n",
       "      <th></th>\n",
       "      <th></th>\n",
       "      <th></th>\n",
       "      <th></th>\n",
       "      <th></th>\n",
       "    </tr>\n",
       "  </thead>\n",
       "  <tbody>\n",
       "    <tr>\n",
       "      <th>19109</th>\n",
       "      <td>46.190288</td>\n",
       "      <td>11.392737</td>\n",
       "      <td>10.532197</td>\n",
       "      <td>10.594349</td>\n",
       "      <td>2.188645</td>\n",
       "      <td>0.517598</td>\n",
       "      <td>0.000000</td>\n",
       "      <td>1.293996</td>\n",
       "      <td>0.064700</td>\n",
       "      <td>0.634088</td>\n",
       "      <td>...</td>\n",
       "      <td>21.868365</td>\n",
       "      <td>22.872032</td>\n",
       "      <td>47930</td>\n",
       "      <td>10.3</td>\n",
       "      <td>0</td>\n",
       "      <td>13.8</td>\n",
       "      <td>0</td>\n",
       "      <td>0</td>\n",
       "      <td>1</td>\n",
       "      <td>31.1</td>\n",
       "    </tr>\n",
       "    <tr>\n",
       "      <th>39131</th>\n",
       "      <td>23.128594</td>\n",
       "      <td>10.872407</td>\n",
       "      <td>5.595606</td>\n",
       "      <td>4.319223</td>\n",
       "      <td>6.841612</td>\n",
       "      <td>0.179115</td>\n",
       "      <td>0.071646</td>\n",
       "      <td>0.716461</td>\n",
       "      <td>0.000000</td>\n",
       "      <td>1.059993</td>\n",
       "      <td>...</td>\n",
       "      <td>14.671357</td>\n",
       "      <td>24.800585</td>\n",
       "      <td>35051</td>\n",
       "      <td>26.3</td>\n",
       "      <td>0</td>\n",
       "      <td>36.9</td>\n",
       "      <td>1</td>\n",
       "      <td>0</td>\n",
       "      <td>0</td>\n",
       "      <td>32.1</td>\n",
       "    </tr>\n",
       "    <tr>\n",
       "      <th>5015</th>\n",
       "      <td>8.595426</td>\n",
       "      <td>4.054456</td>\n",
       "      <td>2.188032</td>\n",
       "      <td>1.396943</td>\n",
       "      <td>2.017592</td>\n",
       "      <td>0.183298</td>\n",
       "      <td>0.036660</td>\n",
       "      <td>1.759660</td>\n",
       "      <td>0.109979</td>\n",
       "      <td>0.415363</td>\n",
       "      <td>...</td>\n",
       "      <td>18.694892</td>\n",
       "      <td>22.527873</td>\n",
       "      <td>33789</td>\n",
       "      <td>16.4</td>\n",
       "      <td>0</td>\n",
       "      <td>26.5</td>\n",
       "      <td>1</td>\n",
       "      <td>0</td>\n",
       "      <td>0</td>\n",
       "      <td>28.7</td>\n",
       "    </tr>\n",
       "    <tr>\n",
       "      <th>47143</th>\n",
       "      <td>8.224891</td>\n",
       "      <td>4.529821</td>\n",
       "      <td>2.204625</td>\n",
       "      <td>1.070721</td>\n",
       "      <td>3.097653</td>\n",
       "      <td>0.196303</td>\n",
       "      <td>0.032717</td>\n",
       "      <td>0.556192</td>\n",
       "      <td>0.000000</td>\n",
       "      <td>0.909266</td>\n",
       "      <td>...</td>\n",
       "      <td>15.706247</td>\n",
       "      <td>23.439907</td>\n",
       "      <td>36308</td>\n",
       "      <td>20.6</td>\n",
       "      <td>0</td>\n",
       "      <td>32.2</td>\n",
       "      <td>0</td>\n",
       "      <td>0</td>\n",
       "      <td>0</td>\n",
       "      <td>37.2</td>\n",
       "    </tr>\n",
       "    <tr>\n",
       "      <th>19155</th>\n",
       "      <td>37.655753</td>\n",
       "      <td>12.175355</td>\n",
       "      <td>9.390865</td>\n",
       "      <td>5.193847</td>\n",
       "      <td>2.091801</td>\n",
       "      <td>0.167463</td>\n",
       "      <td>0.022328</td>\n",
       "      <td>0.502389</td>\n",
       "      <td>0.089314</td>\n",
       "      <td>0.526934</td>\n",
       "      <td>...</td>\n",
       "      <td>14.312244</td>\n",
       "      <td>24.129973</td>\n",
       "      <td>47870</td>\n",
       "      <td>14.5</td>\n",
       "      <td>0</td>\n",
       "      <td>19.4</td>\n",
       "      <td>0</td>\n",
       "      <td>1</td>\n",
       "      <td>0</td>\n",
       "      <td>33.6</td>\n",
       "    </tr>\n",
       "  </tbody>\n",
       "</table>\n",
       "<p>5 rows × 64 columns</p>\n",
       "</div>"
      ],
      "text/plain": [
       "       PCT_LACCESS_POP10  PCT_LACCESS_LOWI10  PCT_LACCESS_CHILD10  \\\n",
       "FIPS                                                                \n",
       "19109          46.190288           11.392737            10.532197   \n",
       "39131          23.128594           10.872407             5.595606   \n",
       "5015            8.595426            4.054456             2.188032   \n",
       "47143           8.224891            4.529821             2.204625   \n",
       "19155          37.655753           12.175355             9.390865   \n",
       "\n",
       "       PCT_LACCESS_SENIORS10  PCT_LACCESS_HHNV10  GROCPTH07  SUPERCPTH07  \\\n",
       "FIPS                                                                       \n",
       "19109              10.594349            2.188645   0.517598     0.000000   \n",
       "39131               4.319223            6.841612   0.179115     0.071646   \n",
       "5015                1.396943            2.017592   0.183298     0.036660   \n",
       "47143               1.070721            3.097653   0.196303     0.032717   \n",
       "19155               5.193847            2.091801   0.167463     0.022328   \n",
       "\n",
       "       CONVSPTH07  SPECSPTH07  SNAPSPTH08         ...          PCT_65OLDER10  \\\n",
       "FIPS                                              ...                          \n",
       "19109    1.293996    0.064700    0.634088         ...              21.868365   \n",
       "39131    0.716461    0.000000    1.059993         ...              14.671357   \n",
       "5015     1.759660    0.109979    0.415363         ...              18.694892   \n",
       "47143    0.556192    0.000000    0.909266         ...              15.706247   \n",
       "19155    0.502389    0.089314    0.526934         ...              14.312244   \n",
       "\n",
       "       PCT_18YOUNGER10  MEDHHINC10  POVRATE10  PERPOV10  CHILDPOVRATE10  \\\n",
       "FIPS                                                                      \n",
       "19109        22.872032       47930       10.3         0            13.8   \n",
       "39131        24.800585       35051       26.3         0            36.9   \n",
       "5015         22.527873       33789       16.4         0            26.5   \n",
       "47143        23.439907       36308       20.6         0            32.2   \n",
       "19155        24.129973       47870       14.5         0            19.4   \n",
       "\n",
       "       PERCHLDPOV10  METRO13  POPLOSS00  PCT_OBESE_ADULTS10  \n",
       "FIPS                                                         \n",
       "19109             0        0          1                31.1  \n",
       "39131             1        0          0                32.1  \n",
       "5015              1        0          0                28.7  \n",
       "47143             0        0          0                37.2  \n",
       "19155             0        1          0                33.6  \n",
       "\n",
       "[5 rows x 64 columns]"
      ]
     },
     "execution_count": 20,
     "metadata": {},
     "output_type": "execute_result"
    }
   ],
   "source": [
    "data.head()"
   ]
  },
  {
   "cell_type": "markdown",
   "metadata": {},
   "source": [
    "## Check for multicollinearity"
   ]
  },
  {
   "cell_type": "code",
   "execution_count": 21,
   "metadata": {
    "collapsed": true
   },
   "outputs": [],
   "source": [
    "corr=data.iloc[:,:-1].corr()"
   ]
  },
  {
   "cell_type": "code",
   "execution_count": 22,
   "metadata": {
    "collapsed": false,
    "scrolled": true
   },
   "outputs": [
    {
     "data": {
      "text/html": [
       "<div>\n",
       "<table border=\"1\" class=\"dataframe\">\n",
       "  <thead>\n",
       "    <tr style=\"text-align: right;\">\n",
       "      <th></th>\n",
       "      <th>epigen_value</th>\n",
       "      <th>feature</th>\n",
       "    </tr>\n",
       "  </thead>\n",
       "  <tbody>\n",
       "    <tr>\n",
       "      <th>0</th>\n",
       "      <td>9.556060</td>\n",
       "      <td>PCT_LACCESS_POP10</td>\n",
       "    </tr>\n",
       "    <tr>\n",
       "      <th>1</th>\n",
       "      <td>6.933752</td>\n",
       "      <td>PCT_LACCESS_LOWI10</td>\n",
       "    </tr>\n",
       "    <tr>\n",
       "      <th>2</th>\n",
       "      <td>4.864587</td>\n",
       "      <td>PCT_LACCESS_CHILD10</td>\n",
       "    </tr>\n",
       "    <tr>\n",
       "      <th>3</th>\n",
       "      <td>3.668473</td>\n",
       "      <td>PCT_LACCESS_SENIORS10</td>\n",
       "    </tr>\n",
       "    <tr>\n",
       "      <th>4</th>\n",
       "      <td>2.901639</td>\n",
       "      <td>PCT_LACCESS_HHNV10</td>\n",
       "    </tr>\n",
       "    <tr>\n",
       "      <th>5</th>\n",
       "      <td>2.475528</td>\n",
       "      <td>GROCPTH07</td>\n",
       "    </tr>\n",
       "    <tr>\n",
       "      <th>6</th>\n",
       "      <td>2.243366</td>\n",
       "      <td>SUPERCPTH07</td>\n",
       "    </tr>\n",
       "    <tr>\n",
       "      <th>7</th>\n",
       "      <td>2.004019</td>\n",
       "      <td>CONVSPTH07</td>\n",
       "    </tr>\n",
       "    <tr>\n",
       "      <th>8</th>\n",
       "      <td>1.817163</td>\n",
       "      <td>SPECSPTH07</td>\n",
       "    </tr>\n",
       "    <tr>\n",
       "      <th>9</th>\n",
       "      <td>1.635960</td>\n",
       "      <td>SNAPSPTH08</td>\n",
       "    </tr>\n",
       "    <tr>\n",
       "      <th>10</th>\n",
       "      <td>1.344481</td>\n",
       "      <td>WICSPTH08</td>\n",
       "    </tr>\n",
       "    <tr>\n",
       "      <th>11</th>\n",
       "      <td>1.277720</td>\n",
       "      <td>FFRPTH07</td>\n",
       "    </tr>\n",
       "    <tr>\n",
       "      <th>12</th>\n",
       "      <td>1.173355</td>\n",
       "      <td>FSRPTH07</td>\n",
       "    </tr>\n",
       "    <tr>\n",
       "      <th>13</th>\n",
       "      <td>1.138137</td>\n",
       "      <td>PC_FFRSALES07</td>\n",
       "    </tr>\n",
       "    <tr>\n",
       "      <th>14</th>\n",
       "      <td>1.052089</td>\n",
       "      <td>PC_FSRSALES07</td>\n",
       "    </tr>\n",
       "    <tr>\n",
       "      <th>15</th>\n",
       "      <td>1.026067</td>\n",
       "      <td>PCT_SNAP09</td>\n",
       "    </tr>\n",
       "    <tr>\n",
       "      <th>16</th>\n",
       "      <td>0.962364</td>\n",
       "      <td>SNAP_PART_RATE10</td>\n",
       "    </tr>\n",
       "    <tr>\n",
       "      <th>17</th>\n",
       "      <td>0.900739</td>\n",
       "      <td>SNAP_OAPP10</td>\n",
       "    </tr>\n",
       "    <tr>\n",
       "      <th>18</th>\n",
       "      <td>0.871521</td>\n",
       "      <td>SNAP_FACEWAIVER10</td>\n",
       "    </tr>\n",
       "    <tr>\n",
       "      <th>19</th>\n",
       "      <td>0.857980</td>\n",
       "      <td>SNAP_VEHEXCL10</td>\n",
       "    </tr>\n",
       "    <tr>\n",
       "      <th>20</th>\n",
       "      <td>0.781214</td>\n",
       "      <td>SNAP_BBCE10</td>\n",
       "    </tr>\n",
       "    <tr>\n",
       "      <th>21</th>\n",
       "      <td>0.772690</td>\n",
       "      <td>SNAP_REPORTSIMPLE10</td>\n",
       "    </tr>\n",
       "    <tr>\n",
       "      <th>22</th>\n",
       "      <td>0.749982</td>\n",
       "      <td>PCT_NSLP09</td>\n",
       "    </tr>\n",
       "    <tr>\n",
       "      <th>23</th>\n",
       "      <td>0.737831</td>\n",
       "      <td>PCT_FREE_LUNCH10</td>\n",
       "    </tr>\n",
       "    <tr>\n",
       "      <th>24</th>\n",
       "      <td>0.698527</td>\n",
       "      <td>PCT_REDUCED_LUNCH10</td>\n",
       "    </tr>\n",
       "    <tr>\n",
       "      <th>25</th>\n",
       "      <td>0.680846</td>\n",
       "      <td>PCT_SBP09</td>\n",
       "    </tr>\n",
       "    <tr>\n",
       "      <th>26</th>\n",
       "      <td>0.636546</td>\n",
       "      <td>PCT_SFSP09</td>\n",
       "    </tr>\n",
       "    <tr>\n",
       "      <th>27</th>\n",
       "      <td>0.000595</td>\n",
       "      <td>PCT_WIC09</td>\n",
       "    </tr>\n",
       "    <tr>\n",
       "      <th>28</th>\n",
       "      <td>0.001541</td>\n",
       "      <td>PCT_CACFP09</td>\n",
       "    </tr>\n",
       "    <tr>\n",
       "      <th>29</th>\n",
       "      <td>0.007749</td>\n",
       "      <td>FOODINSEC_07_09</td>\n",
       "    </tr>\n",
       "    <tr>\n",
       "      <th>...</th>\n",
       "      <td>...</td>\n",
       "      <td>...</td>\n",
       "    </tr>\n",
       "    <tr>\n",
       "      <th>33</th>\n",
       "      <td>0.022399</td>\n",
       "      <td>SODA_PRICE10</td>\n",
       "    </tr>\n",
       "    <tr>\n",
       "      <th>34</th>\n",
       "      <td>0.040723</td>\n",
       "      <td>MILK_SODA_PRICE10</td>\n",
       "    </tr>\n",
       "    <tr>\n",
       "      <th>35</th>\n",
       "      <td>0.052808</td>\n",
       "      <td>PCT_LOCLFARM07</td>\n",
       "    </tr>\n",
       "    <tr>\n",
       "      <th>36</th>\n",
       "      <td>0.057319</td>\n",
       "      <td>FMRKTPTH09</td>\n",
       "    </tr>\n",
       "    <tr>\n",
       "      <th>37</th>\n",
       "      <td>0.072206</td>\n",
       "      <td>VEG_FARMS07</td>\n",
       "    </tr>\n",
       "    <tr>\n",
       "      <th>38</th>\n",
       "      <td>0.090174</td>\n",
       "      <td>FRESHVEG_FARMS07</td>\n",
       "    </tr>\n",
       "    <tr>\n",
       "      <th>39</th>\n",
       "      <td>0.102280</td>\n",
       "      <td>ORCHARD_FARMS07</td>\n",
       "    </tr>\n",
       "    <tr>\n",
       "      <th>40</th>\n",
       "      <td>0.111294</td>\n",
       "      <td>BERRY_FARMS07</td>\n",
       "    </tr>\n",
       "    <tr>\n",
       "      <th>41</th>\n",
       "      <td>0.611635</td>\n",
       "      <td>SLHOUSE07</td>\n",
       "    </tr>\n",
       "    <tr>\n",
       "      <th>42</th>\n",
       "      <td>0.595070</td>\n",
       "      <td>GHVEG_FARMS07</td>\n",
       "    </tr>\n",
       "    <tr>\n",
       "      <th>43</th>\n",
       "      <td>0.581421</td>\n",
       "      <td>CSA07</td>\n",
       "    </tr>\n",
       "    <tr>\n",
       "      <th>44</th>\n",
       "      <td>0.566841</td>\n",
       "      <td>AGRITRSM_OPS07</td>\n",
       "    </tr>\n",
       "    <tr>\n",
       "      <th>45</th>\n",
       "      <td>0.549964</td>\n",
       "      <td>FARM_TO_SCHOOL</td>\n",
       "    </tr>\n",
       "    <tr>\n",
       "      <th>46</th>\n",
       "      <td>0.154218</td>\n",
       "      <td>RECFACPTH07</td>\n",
       "    </tr>\n",
       "    <tr>\n",
       "      <th>47</th>\n",
       "      <td>0.504306</td>\n",
       "      <td>NATAMEN</td>\n",
       "    </tr>\n",
       "    <tr>\n",
       "      <th>48</th>\n",
       "      <td>0.480615</td>\n",
       "      <td>PCT_NHWHITE10</td>\n",
       "    </tr>\n",
       "    <tr>\n",
       "      <th>49</th>\n",
       "      <td>0.212793</td>\n",
       "      <td>PCT_NHBLACK10</td>\n",
       "    </tr>\n",
       "    <tr>\n",
       "      <th>50</th>\n",
       "      <td>0.453165</td>\n",
       "      <td>PCT_HISP10</td>\n",
       "    </tr>\n",
       "    <tr>\n",
       "      <th>51</th>\n",
       "      <td>0.435413</td>\n",
       "      <td>PCT_NHASIAN10</td>\n",
       "    </tr>\n",
       "    <tr>\n",
       "      <th>52</th>\n",
       "      <td>0.229769</td>\n",
       "      <td>PCT_NHNA10</td>\n",
       "    </tr>\n",
       "    <tr>\n",
       "      <th>53</th>\n",
       "      <td>0.252519</td>\n",
       "      <td>PCT_NHPI10</td>\n",
       "    </tr>\n",
       "    <tr>\n",
       "      <th>54</th>\n",
       "      <td>0.260452</td>\n",
       "      <td>PCT_65OLDER10</td>\n",
       "    </tr>\n",
       "    <tr>\n",
       "      <th>55</th>\n",
       "      <td>0.398005</td>\n",
       "      <td>PCT_18YOUNGER10</td>\n",
       "    </tr>\n",
       "    <tr>\n",
       "      <th>56</th>\n",
       "      <td>0.377525</td>\n",
       "      <td>MEDHHINC10</td>\n",
       "    </tr>\n",
       "    <tr>\n",
       "      <th>57</th>\n",
       "      <td>0.366816</td>\n",
       "      <td>POVRATE10</td>\n",
       "    </tr>\n",
       "    <tr>\n",
       "      <th>58</th>\n",
       "      <td>0.292755</td>\n",
       "      <td>PERPOV10</td>\n",
       "    </tr>\n",
       "    <tr>\n",
       "      <th>59</th>\n",
       "      <td>0.344180</td>\n",
       "      <td>CHILDPOVRATE10</td>\n",
       "    </tr>\n",
       "    <tr>\n",
       "      <th>60</th>\n",
       "      <td>0.329170</td>\n",
       "      <td>PERCHLDPOV10</td>\n",
       "    </tr>\n",
       "    <tr>\n",
       "      <th>61</th>\n",
       "      <td>0.309629</td>\n",
       "      <td>METRO13</td>\n",
       "    </tr>\n",
       "    <tr>\n",
       "      <th>62</th>\n",
       "      <td>0.313384</td>\n",
       "      <td>POPLOSS00</td>\n",
       "    </tr>\n",
       "  </tbody>\n",
       "</table>\n",
       "<p>63 rows × 2 columns</p>\n",
       "</div>"
      ],
      "text/plain": [
       "    epigen_value                feature\n",
       "0       9.556060      PCT_LACCESS_POP10\n",
       "1       6.933752     PCT_LACCESS_LOWI10\n",
       "2       4.864587    PCT_LACCESS_CHILD10\n",
       "3       3.668473  PCT_LACCESS_SENIORS10\n",
       "4       2.901639     PCT_LACCESS_HHNV10\n",
       "5       2.475528              GROCPTH07\n",
       "6       2.243366            SUPERCPTH07\n",
       "7       2.004019             CONVSPTH07\n",
       "8       1.817163             SPECSPTH07\n",
       "9       1.635960             SNAPSPTH08\n",
       "10      1.344481              WICSPTH08\n",
       "11      1.277720               FFRPTH07\n",
       "12      1.173355               FSRPTH07\n",
       "13      1.138137          PC_FFRSALES07\n",
       "14      1.052089          PC_FSRSALES07\n",
       "15      1.026067             PCT_SNAP09\n",
       "16      0.962364       SNAP_PART_RATE10\n",
       "17      0.900739            SNAP_OAPP10\n",
       "18      0.871521      SNAP_FACEWAIVER10\n",
       "19      0.857980         SNAP_VEHEXCL10\n",
       "20      0.781214            SNAP_BBCE10\n",
       "21      0.772690    SNAP_REPORTSIMPLE10\n",
       "22      0.749982             PCT_NSLP09\n",
       "23      0.737831       PCT_FREE_LUNCH10\n",
       "24      0.698527    PCT_REDUCED_LUNCH10\n",
       "25      0.680846              PCT_SBP09\n",
       "26      0.636546             PCT_SFSP09\n",
       "27      0.000595              PCT_WIC09\n",
       "28      0.001541            PCT_CACFP09\n",
       "29      0.007749        FOODINSEC_07_09\n",
       "..           ...                    ...\n",
       "33      0.022399           SODA_PRICE10\n",
       "34      0.040723      MILK_SODA_PRICE10\n",
       "35      0.052808         PCT_LOCLFARM07\n",
       "36      0.057319             FMRKTPTH09\n",
       "37      0.072206            VEG_FARMS07\n",
       "38      0.090174       FRESHVEG_FARMS07\n",
       "39      0.102280        ORCHARD_FARMS07\n",
       "40      0.111294          BERRY_FARMS07\n",
       "41      0.611635              SLHOUSE07\n",
       "42      0.595070          GHVEG_FARMS07\n",
       "43      0.581421                  CSA07\n",
       "44      0.566841         AGRITRSM_OPS07\n",
       "45      0.549964         FARM_TO_SCHOOL\n",
       "46      0.154218            RECFACPTH07\n",
       "47      0.504306                NATAMEN\n",
       "48      0.480615          PCT_NHWHITE10\n",
       "49      0.212793          PCT_NHBLACK10\n",
       "50      0.453165             PCT_HISP10\n",
       "51      0.435413          PCT_NHASIAN10\n",
       "52      0.229769             PCT_NHNA10\n",
       "53      0.252519             PCT_NHPI10\n",
       "54      0.260452          PCT_65OLDER10\n",
       "55      0.398005        PCT_18YOUNGER10\n",
       "56      0.377525             MEDHHINC10\n",
       "57      0.366816              POVRATE10\n",
       "58      0.292755               PERPOV10\n",
       "59      0.344180         CHILDPOVRATE10\n",
       "60      0.329170           PERCHLDPOV10\n",
       "61      0.309629                METRO13\n",
       "62      0.313384              POPLOSS00\n",
       "\n",
       "[63 rows x 2 columns]"
      ]
     },
     "execution_count": 22,
     "metadata": {},
     "output_type": "execute_result"
    }
   ],
   "source": [
    "# get eigen values for predictor variables\n",
    "w, v = np.linalg.eig(corr)\n",
    "eigen_val=pd.DataFrame({'feature':corr.columns,'epigen_value':w})\n",
    "eigen_val"
   ]
  },
  {
   "cell_type": "code",
   "execution_count": 23,
   "metadata": {
    "collapsed": false
   },
   "outputs": [],
   "source": [
    "# get predictors with eigen values close to zero\n",
    "low_eigen = eigen_val[eigen_val.epigen_value < 0.01]"
   ]
  },
  {
   "cell_type": "code",
   "execution_count": 24,
   "metadata": {
    "collapsed": false
   },
   "outputs": [
    {
     "data": {
      "text/html": [
       "<div>\n",
       "<table border=\"1\" class=\"dataframe\">\n",
       "  <thead>\n",
       "    <tr style=\"text-align: right;\">\n",
       "      <th></th>\n",
       "      <th>epigen_value</th>\n",
       "      <th>feature</th>\n",
       "    </tr>\n",
       "  </thead>\n",
       "  <tbody>\n",
       "    <tr>\n",
       "      <th>27</th>\n",
       "      <td>0.000595</td>\n",
       "      <td>PCT_WIC09</td>\n",
       "    </tr>\n",
       "    <tr>\n",
       "      <th>28</th>\n",
       "      <td>0.001541</td>\n",
       "      <td>PCT_CACFP09</td>\n",
       "    </tr>\n",
       "    <tr>\n",
       "      <th>29</th>\n",
       "      <td>0.007749</td>\n",
       "      <td>FOODINSEC_07_09</td>\n",
       "    </tr>\n",
       "  </tbody>\n",
       "</table>\n",
       "</div>"
      ],
      "text/plain": [
       "    epigen_value          feature\n",
       "27      0.000595        PCT_WIC09\n",
       "28      0.001541      PCT_CACFP09\n",
       "29      0.007749  FOODINSEC_07_09"
      ]
     },
     "execution_count": 24,
     "metadata": {},
     "output_type": "execute_result"
    }
   ],
   "source": [
    "low_eigen"
   ]
  },
  {
   "cell_type": "code",
   "execution_count": 25,
   "metadata": {
    "collapsed": false
   },
   "outputs": [
    {
     "data": {
      "text/html": [
       "<div>\n",
       "<table border=\"1\" class=\"dataframe\">\n",
       "  <thead>\n",
       "    <tr style=\"text-align: right;\">\n",
       "      <th></th>\n",
       "      <th>Feature</th>\n",
       "      <th>PCT_WIC09</th>\n",
       "      <th>PCT_CACFP09</th>\n",
       "      <th>FOODINSEC_07_09</th>\n",
       "    </tr>\n",
       "  </thead>\n",
       "  <tbody>\n",
       "    <tr>\n",
       "      <th>0</th>\n",
       "      <td>PCT_LACCESS_POP10</td>\n",
       "      <td>-0.014154</td>\n",
       "      <td>0.007147</td>\n",
       "      <td>0.795369</td>\n",
       "    </tr>\n",
       "    <tr>\n",
       "      <th>1</th>\n",
       "      <td>PCT_LACCESS_LOWI10</td>\n",
       "      <td>0.001616</td>\n",
       "      <td>0.002471</td>\n",
       "      <td>-0.038144</td>\n",
       "    </tr>\n",
       "    <tr>\n",
       "      <th>2</th>\n",
       "      <td>PCT_LACCESS_CHILD10</td>\n",
       "      <td>0.004192</td>\n",
       "      <td>-0.007290</td>\n",
       "      <td>-0.487998</td>\n",
       "    </tr>\n",
       "    <tr>\n",
       "      <th>3</th>\n",
       "      <td>PCT_LACCESS_SENIORS10</td>\n",
       "      <td>0.007697</td>\n",
       "      <td>0.000305</td>\n",
       "      <td>-0.321569</td>\n",
       "    </tr>\n",
       "    <tr>\n",
       "      <th>4</th>\n",
       "      <td>PCT_LACCESS_HHNV10</td>\n",
       "      <td>0.004866</td>\n",
       "      <td>-0.002173</td>\n",
       "      <td>-0.000535</td>\n",
       "    </tr>\n",
       "  </tbody>\n",
       "</table>\n",
       "</div>"
      ],
      "text/plain": [
       "                 Feature  PCT_WIC09  PCT_CACFP09  FOODINSEC_07_09\n",
       "0      PCT_LACCESS_POP10  -0.014154     0.007147         0.795369\n",
       "1     PCT_LACCESS_LOWI10   0.001616     0.002471        -0.038144\n",
       "2    PCT_LACCESS_CHILD10   0.004192    -0.007290        -0.487998\n",
       "3  PCT_LACCESS_SENIORS10   0.007697     0.000305        -0.321569\n",
       "4     PCT_LACCESS_HHNV10   0.004866    -0.002173        -0.000535"
      ]
     },
     "execution_count": 25,
     "metadata": {},
     "output_type": "execute_result"
    }
   ],
   "source": [
    "# Get vecors for features with eigen values close to zero\n",
    "columns=data.columns.values[:-1]\n",
    "\n",
    "vectors = pd.DataFrame({'Feature':columns})\n",
    "\n",
    "for i in low_eigen.feature.values:\n",
    "    index = low_eigen[low_eigen.feature == i].index\n",
    "    vectors[i]=v[:,index]\n",
    "vectors.head()"
   ]
  },
  {
   "cell_type": "code",
   "execution_count": 26,
   "metadata": {
    "collapsed": false,
    "scrolled": false
   },
   "outputs": [],
   "source": [
    "# get features with eigen vectors that are NOT close to zero (i.e. strongly correlated with each other)\n",
    "vectors.iloc[:,1:]=vectors.iloc[:,1:].abs()"
   ]
  },
  {
   "cell_type": "code",
   "execution_count": 27,
   "metadata": {
    "collapsed": false
   },
   "outputs": [
    {
     "name": "stdout",
     "output_type": "stream",
     "text": [
      "              Feature  PCT_WIC09\n",
      "0   PCT_LACCESS_POP10   0.014154\n",
      "14      PC_FSRSALES07   0.011043\n",
      "15         PCT_SNAP09   0.011593\n",
      "22         PCT_NSLP09   0.020444\n",
      "25          PCT_SBP09   0.020140\n",
      "29    FOODINSEC_07_09   0.018293\n",
      "30    VLFOODSEC_07_09   0.016012\n",
      "32       MILK_PRICE10   0.026192\n",
      "33       SODA_PRICE10   0.013417\n",
      "34  MILK_SODA_PRICE10   0.028365\n",
      "48      PCT_NHWHITE10   0.685061\n",
      "49      PCT_NHBLACK10   0.499488\n",
      "50         PCT_HISP10   0.457496\n",
      "51      PCT_NHASIAN10   0.076047\n",
      "52         PCT_NHNA10   0.248387\n",
      "57          POVRATE10   0.011948\n",
      "59     CHILDPOVRATE10   0.011661\n",
      "XXX\n",
      "                  Feature  PCT_CACFP09\n",
      "7              CONVSPTH07     0.019214\n",
      "12               FSRPTH07     0.019868\n",
      "13          PC_FFRSALES07     0.024068\n",
      "14          PC_FSRSALES07     0.018901\n",
      "16       SNAP_PART_RATE10     0.013811\n",
      "22             PCT_NSLP09     0.023606\n",
      "23       PCT_FREE_LUNCH10     0.010139\n",
      "25              PCT_SBP09     0.014625\n",
      "27              PCT_WIC09     0.012671\n",
      "28            PCT_CACFP09     0.012778\n",
      "29        FOODINSEC_07_09     0.027787\n",
      "30        VLFOODSEC_07_09     0.011264\n",
      "31  FOODINSEC_CHILD_01_07     0.020220\n",
      "32           MILK_PRICE10     0.644741\n",
      "33           SODA_PRICE10     0.282895\n",
      "34      MILK_SODA_PRICE10     0.705319\n",
      "48          PCT_NHWHITE10     0.031613\n",
      "49          PCT_NHBLACK10     0.014040\n",
      "50             PCT_HISP10     0.022359\n",
      "52             PCT_NHNA10     0.012013\n",
      "XXX\n",
      "                  Feature  FOODINSEC_07_09\n",
      "0       PCT_LACCESS_POP10         0.795369\n",
      "1      PCT_LACCESS_LOWI10         0.038144\n",
      "2     PCT_LACCESS_CHILD10         0.487998\n",
      "3   PCT_LACCESS_SENIORS10         0.321569\n",
      "7              CONVSPTH07         0.015994\n",
      "12               FSRPTH07         0.020859\n",
      "23       PCT_FREE_LUNCH10         0.013163\n",
      "37            VEG_FARMS07         0.017342\n",
      "38       FRESHVEG_FARMS07         0.020906\n",
      "49          PCT_NHBLACK10         0.015774\n",
      "50             PCT_HISP10         0.010685\n",
      "54          PCT_65OLDER10         0.090949\n",
      "55        PCT_18YOUNGER10         0.096716\n",
      "57              POVRATE10         0.053852\n",
      "59         CHILDPOVRATE10         0.035352\n",
      "XXX\n"
     ]
    }
   ],
   "source": [
    "# For each vector print features that have high collinearity\n",
    "d={}\n",
    "for i in range(1,len(vectors.columns)):\n",
    "    d['collinear{0}'.format(i)] = vectors[vectors.iloc[:,i]>0.01].iloc[:,[0,i]]\n",
    "    print vectors[vectors.iloc[:,i]>0.01].iloc[:,[0,i]]\n",
    "    print \"XXX\""
   ]
  },
  {
   "cell_type": "code",
   "execution_count": 28,
   "metadata": {
    "collapsed": false
   },
   "outputs": [
    {
     "data": {
      "text/html": [
       "<div>\n",
       "<table border=\"1\" class=\"dataframe\">\n",
       "  <thead>\n",
       "    <tr style=\"text-align: right;\">\n",
       "      <th></th>\n",
       "      <th>Feature</th>\n",
       "      <th>PCT_WIC09</th>\n",
       "    </tr>\n",
       "  </thead>\n",
       "  <tbody>\n",
       "    <tr>\n",
       "      <th>0</th>\n",
       "      <td>PCT_LACCESS_POP10</td>\n",
       "      <td>0.014154</td>\n",
       "    </tr>\n",
       "    <tr>\n",
       "      <th>14</th>\n",
       "      <td>PC_FSRSALES07</td>\n",
       "      <td>0.011043</td>\n",
       "    </tr>\n",
       "    <tr>\n",
       "      <th>15</th>\n",
       "      <td>PCT_SNAP09</td>\n",
       "      <td>0.011593</td>\n",
       "    </tr>\n",
       "    <tr>\n",
       "      <th>22</th>\n",
       "      <td>PCT_NSLP09</td>\n",
       "      <td>0.020444</td>\n",
       "    </tr>\n",
       "    <tr>\n",
       "      <th>25</th>\n",
       "      <td>PCT_SBP09</td>\n",
       "      <td>0.020140</td>\n",
       "    </tr>\n",
       "  </tbody>\n",
       "</table>\n",
       "</div>"
      ],
      "text/plain": [
       "              Feature  PCT_WIC09\n",
       "0   PCT_LACCESS_POP10   0.014154\n",
       "14      PC_FSRSALES07   0.011043\n",
       "15         PCT_SNAP09   0.011593\n",
       "22         PCT_NSLP09   0.020444\n",
       "25          PCT_SBP09   0.020140"
      ]
     },
     "execution_count": 28,
     "metadata": {},
     "output_type": "execute_result"
    }
   ],
   "source": [
    "# Collinear variables can be tested to identify the best predictor and drop the rest of them\n",
    "d['collinear1'].head()"
   ]
  },
  {
   "cell_type": "markdown",
   "metadata": {},
   "source": [
    "### Summary"
   ]
  },
  {
   "cell_type": "markdown",
   "metadata": {},
   "source": [
    "- Records with the response variable = NULL were removed from the dataset"
   ]
  },
  {
   "cell_type": "markdown",
   "metadata": {},
   "source": [
    "- Numerical columns that contained string values were converted to foat and string values were converted to NULLs"
   ]
  },
  {
   "cell_type": "markdown",
   "metadata": {},
   "source": [
    "- Response variable (\"Obesity rate\") follows the normal distribution. Outliers are present on both bottom and top end of the value range of thee standard deviations"
   ]
  },
  {
   "cell_type": "markdown",
   "metadata": {},
   "source": [
    "- Many predicor variables have outliers: *need to check if removing outliers will improve model preformace*"
   ]
  },
  {
   "cell_type": "markdown",
   "metadata": {},
   "source": [
    "- Some of the predictor variables are highly correlated"
   ]
  },
  {
   "cell_type": "markdown",
   "metadata": {},
   "source": [
    "- Multicollinearity test (using eigenvalues and eigenvectors) returned sets of collinear variables: *test and remove collinear features*"
   ]
  },
  {
   "cell_type": "markdown",
   "metadata": {},
   "source": [
    "### Initial findings"
   ]
  },
  {
   "cell_type": "markdown",
   "metadata": {},
   "source": [
    "- Counties with high poverty rates have ~5% higher obesity rates than counties with lower poverty rates as was stated in the hypothesis"
   ]
  },
  {
   "cell_type": "markdown",
   "metadata": {},
   "source": [
    "- Percent of students in a County eligible for free lunch had the strongest correlation with a predictor variable"
   ]
  },
  {
   "cell_type": "markdown",
   "metadata": {},
   "source": [
    "# Modeling"
   ]
  },
  {
   "cell_type": "markdown",
   "metadata": {},
   "source": [
    "### Benchmark:"
   ]
  },
  {
   "cell_type": "code",
   "execution_count": 29,
   "metadata": {
    "collapsed": false
   },
   "outputs": [
    {
     "name": "stdout",
     "output_type": "stream",
     "text": [
      "Performance benchmark MSE = 17.876810\n"
     ]
    }
   ],
   "source": [
    "# Set a benchmark for linear regression model - MSE\n",
    "y_mean = data['PCT_OBESE_ADULTS10'].mean()\n",
    "MSE_benchmark = ((data['PCT_OBESE_ADULTS10'] - y_mean)**2).mean()\n",
    "print \"Performance benchmark MSE = %f\" %(MSE_benchmark)"
   ]
  },
  {
   "cell_type": "code",
   "execution_count": 30,
   "metadata": {
    "collapsed": true
   },
   "outputs": [],
   "source": [
    "# convert columns with type 'object' info float and coers invalid values to NaN\n",
    "data_test[['MEDHHINC10','POVRATE10','CHILDPOVRATE10',\n",
    "      'POPLOSS00']]=data_test[['MEDHHINC10',\n",
    "                          'POVRATE10','CHILDPOVRATE10','POPLOSS00']].apply(lambda x: pd.to_numeric(x, errors='coerce'))"
   ]
  },
  {
   "cell_type": "code",
   "execution_count": 31,
   "metadata": {
    "collapsed": true
   },
   "outputs": [],
   "source": [
    "#drop rows with NULL values in predictor variable\n",
    "data_test.dropna(subset=['PCT_OBESE_ADULTS10'],inplace=True) "
   ]
  },
  {
   "cell_type": "code",
   "execution_count": 32,
   "metadata": {
    "collapsed": true
   },
   "outputs": [],
   "source": [
    "# Fill zero instead of NULL values \n",
    "data_test.fillna(value=0,inplace=True)"
   ]
  },
  {
   "cell_type": "code",
   "execution_count": 33,
   "metadata": {
    "collapsed": false
   },
   "outputs": [],
   "source": [
    "# set a list of features for the model \n",
    "feature_cols = list(data.columns.values)[:-1]\n",
    "X_train = data[feature_cols]\n",
    "y_train = data['PCT_OBESE_ADULTS10']\n",
    "\n",
    "X_test = data_test[feature_cols]\n",
    "y_test = data_test['PCT_OBESE_ADULTS10']"
   ]
  },
  {
   "cell_type": "code",
   "execution_count": 34,
   "metadata": {
    "collapsed": false
   },
   "outputs": [
    {
     "name": "stdout",
     "output_type": "stream",
     "text": [
      "2238\n",
      "785\n"
     ]
    }
   ],
   "source": [
    "print len(X_train)\n",
    "print len(X_test)"
   ]
  },
  {
   "cell_type": "markdown",
   "metadata": {
    "collapsed": true
   },
   "source": [
    "## Build a Random Forest Model to identify feature importance"
   ]
  },
  {
   "cell_type": "code",
   "execution_count": 35,
   "metadata": {
    "collapsed": false
   },
   "outputs": [
    {
     "data": {
      "text/plain": [
       "RandomForestRegressor(bootstrap=True, criterion='mse', max_depth=None,\n",
       "           max_features='auto', max_leaf_nodes=None,\n",
       "           min_impurity_split=1e-07, min_samples_leaf=1,\n",
       "           min_samples_split=2, min_weight_fraction_leaf=0.0,\n",
       "           n_estimators=100, n_jobs=1, oob_score=False, random_state=None,\n",
       "           verbose=0, warm_start=False)"
      ]
     },
     "execution_count": 35,
     "metadata": {},
     "output_type": "execute_result"
    }
   ],
   "source": [
    "from sklearn.ensemble import RandomForestRegressor\n",
    "from sklearn.metrics import r2_score\n",
    "\n",
    "model = RandomForestRegressor(n_estimators = 100)\n",
    "    \n",
    "model.fit(X_train, y_train)"
   ]
  },
  {
   "cell_type": "code",
   "execution_count": 36,
   "metadata": {
    "collapsed": false
   },
   "outputs": [
    {
     "name": "stdout",
     "output_type": "stream",
     "text": [
      "Features sorted by their Importance score:\n"
     ]
    },
    {
     "data": {
      "text/html": [
       "<div>\n",
       "<table border=\"1\" class=\"dataframe\">\n",
       "  <thead>\n",
       "    <tr style=\"text-align: right;\">\n",
       "      <th></th>\n",
       "      <th>Features</th>\n",
       "      <th>Importance Score</th>\n",
       "    </tr>\n",
       "  </thead>\n",
       "  <tbody>\n",
       "    <tr>\n",
       "      <th>23</th>\n",
       "      <td>PCT_FREE_LUNCH10</td>\n",
       "      <td>0.1161</td>\n",
       "    </tr>\n",
       "    <tr>\n",
       "      <th>47</th>\n",
       "      <td>NATAMEN</td>\n",
       "      <td>0.1006</td>\n",
       "    </tr>\n",
       "    <tr>\n",
       "      <th>15</th>\n",
       "      <td>PCT_SNAP09</td>\n",
       "      <td>0.0842</td>\n",
       "    </tr>\n",
       "    <tr>\n",
       "      <th>49</th>\n",
       "      <td>PCT_NHBLACK10</td>\n",
       "      <td>0.0708</td>\n",
       "    </tr>\n",
       "    <tr>\n",
       "      <th>14</th>\n",
       "      <td>PC_FSRSALES07</td>\n",
       "      <td>0.0629</td>\n",
       "    </tr>\n",
       "    <tr>\n",
       "      <th>51</th>\n",
       "      <td>PCT_NHASIAN10</td>\n",
       "      <td>0.0492</td>\n",
       "    </tr>\n",
       "    <tr>\n",
       "      <th>22</th>\n",
       "      <td>PCT_NSLP09</td>\n",
       "      <td>0.0447</td>\n",
       "    </tr>\n",
       "    <tr>\n",
       "      <th>12</th>\n",
       "      <td>FSRPTH07</td>\n",
       "      <td>0.0320</td>\n",
       "    </tr>\n",
       "    <tr>\n",
       "      <th>9</th>\n",
       "      <td>SNAPSPTH08</td>\n",
       "      <td>0.0272</td>\n",
       "    </tr>\n",
       "    <tr>\n",
       "      <th>48</th>\n",
       "      <td>PCT_NHWHITE10</td>\n",
       "      <td>0.0213</td>\n",
       "    </tr>\n",
       "  </tbody>\n",
       "</table>\n",
       "</div>"
      ],
      "text/plain": [
       "            Features  Importance Score\n",
       "23  PCT_FREE_LUNCH10            0.1161\n",
       "47           NATAMEN            0.1006\n",
       "15        PCT_SNAP09            0.0842\n",
       "49     PCT_NHBLACK10            0.0708\n",
       "14     PC_FSRSALES07            0.0629\n",
       "51     PCT_NHASIAN10            0.0492\n",
       "22        PCT_NSLP09            0.0447\n",
       "12          FSRPTH07            0.0320\n",
       "9         SNAPSPTH08            0.0272\n",
       "48     PCT_NHWHITE10            0.0213"
      ]
     },
     "execution_count": 36,
     "metadata": {},
     "output_type": "execute_result"
    }
   ],
   "source": [
    "features = X_train.columns\n",
    "\n",
    "features_df = pd.DataFrame({'Features': features, 'Importance Score': model.feature_importances_.round(4)})\n",
    "features_df.sort_values('Importance Score', inplace=True, ascending=False)\n",
    "\n",
    "# crete a table with top 20 featueres\n",
    "top_20_rf = features_df['Features'].head(20)\n",
    "\n",
    "print \"Features sorted by their Importance score:\"\n",
    "features_df.head(10)"
   ]
  },
  {
   "cell_type": "markdown",
   "metadata": {},
   "source": [
    "### Top Ten Predictors with the Highest Importance Score (Random Forest Model, n=estimators=100:"
   ]
  },
  {
   "cell_type": "markdown",
   "metadata": {},
   "source": [
    "- Students eligible for free lunch (%), 2010\n",
    "- SNAP participants (% pop), 2009*\n",
    "- ERS natural amenity index, 1999\n",
    "- % Black, 2010\n",
    "- Expenditures per capita, restaurants ($), 2007*\n",
    "- National School Lunch Program participants (% pop), 2009*\n",
    "- % Asian, 2010\n",
    "- Full-service restaurants/1,000 pop, 2007\n",
    "- SNAP-authorized stores/1,000 pop, 2008\n",
    "- % White, 2010"
   ]
  },
  {
   "cell_type": "code",
   "execution_count": 37,
   "metadata": {
    "collapsed": false
   },
   "outputs": [],
   "source": [
    "# 5 cross validation iterations\n",
    "from sklearn.model_selection import KFold, cross_val_score\n",
    "cv = KFold(n_splits=5, shuffle=True)"
   ]
  },
  {
   "cell_type": "code",
   "execution_count": 38,
   "metadata": {
    "collapsed": false,
    "scrolled": true
   },
   "outputs": [
    {
     "name": "stdout",
     "output_type": "stream",
     "text": [
      "Random Forest MSE on the train set: 5.350210\n"
     ]
    }
   ],
   "source": [
    "score = -np.mean(cross_val_score(model, X_train, y_train, scoring='neg_mean_squared_error', cv=cv))\n",
    "print \"Random Forest MSE on the train set: %f\" %(score)"
   ]
  },
  {
   "cell_type": "code",
   "execution_count": 39,
   "metadata": {
    "collapsed": false
   },
   "outputs": [
    {
     "name": "stdout",
     "output_type": "stream",
     "text": [
      "R-squared = 0.677937\n"
     ]
    }
   ],
   "source": [
    "# check how close the data are to the fitted regression line \n",
    "r2 = r2_score(y_test, model.predict(X_test))\n",
    "print \"R-squared = %f\" %(r2)"
   ]
  },
  {
   "cell_type": "code",
   "execution_count": 40,
   "metadata": {
    "collapsed": false
   },
   "outputs": [
    {
     "data": {
      "text/plain": [
       "<matplotlib.text.Text at 0x11ff1d250>"
      ]
     },
     "execution_count": 40,
     "metadata": {},
     "output_type": "execute_result"
    },
    {
     "data": {
      "image/png": "[encoded data removed]",
      "text/plain": [
       "<matplotlib.figure.Figure at 0x11ff25d10>"
      ]
     },
     "metadata": {},
     "output_type": "display_data"
    }
   ],
   "source": [
    "fit = np.polyfit(y_test,model.predict(X_test),1)\n",
    "fit_fn = np.poly1d(fit) \n",
    "\n",
    "# fit_fn is now a function which takes in x and returns an estimate for y\n",
    "\n",
    "plt.plot(y_test,model.predict(X_test), 'rd', y_test, fit_fn(y_test), '--k')\n",
    "plt.xlabel('Actual obesity rate, %')\n",
    "plt.ylabel('Predicted obesity rate, %')\n",
    "plt.title('Obesity Rates, %')"
   ]
  },
  {
   "cell_type": "code",
   "execution_count": 41,
   "metadata": {
    "collapsed": true
   },
   "outputs": [],
   "source": [
    "from sklearn.metrics import mean_squared_error"
   ]
  },
  {
   "cell_type": "code",
   "execution_count": 42,
   "metadata": {
    "collapsed": false
   },
   "outputs": [
    {
     "data": {
      "text/plain": [
       "5.5534353732484094"
      ]
     },
     "execution_count": 42,
     "metadata": {},
     "output_type": "execute_result"
    }
   ],
   "source": [
    "# get MSE for test data set\n",
    "MSE_rf = mean_squared_error(y_test, model.predict(X_test))\n",
    "MSE_rf"
   ]
  },
  {
   "cell_type": "code",
   "execution_count": 43,
   "metadata": {
    "collapsed": false
   },
   "outputs": [],
   "source": [
    "# Create performance score table to collect MSE resulrs for all tested models\n",
    "Performance = pd.DataFrame({'Model': 'Random Forest', 'n_features': len(X_test.columns),'MSE':MSE_rf},index=[1])\n",
    "Performance = Performance[['Model','n_features','MSE']]"
   ]
  },
  {
   "cell_type": "markdown",
   "metadata": {},
   "source": [
    "# Linear Regression Model"
   ]
  },
  {
   "cell_type": "markdown",
   "metadata": {},
   "source": [
    "## FOR LOOP for Linear Regression - feature testing "
   ]
  },
  {
   "cell_type": "code",
   "execution_count": 44,
   "metadata": {
    "collapsed": true
   },
   "outputs": [],
   "source": [
    "from sklearn.linear_model import LinearRegression"
   ]
  },
  {
   "cell_type": "code",
   "execution_count": 45,
   "metadata": {
    "collapsed": true
   },
   "outputs": [],
   "source": [
    "from sklearn.preprocessing import StandardScaler\n",
    "stdsc = StandardScaler()"
   ]
  },
  {
   "cell_type": "code",
   "execution_count": 46,
   "metadata": {
    "collapsed": false
   },
   "outputs": [],
   "source": [
    "# loop through the features by adding one feature each step starting with feature with the highest importance score (RF)\n",
    "\n",
    "features = features_df.Features.values\n",
    "\n",
    "feature_cols=[]\n",
    "scores = []\n",
    "\n",
    "y_train = data['PCT_OBESE_ADULTS10']\n",
    "y_test = data_test['PCT_OBESE_ADULTS10']\n",
    "\n",
    "for i in features:\n",
    "    feature_cols.append(i)\n",
    "    \n",
    "    X_train=data[feature_cols]\n",
    "    X_test=data_test[feature_cols]\n",
    "\n",
    "    X_train_std = stdsc.fit_transform(X_train)\n",
    "    X_test_std = stdsc.transform(X_test)\n",
    "    \n",
    "    lr = LinearRegression()\n",
    "    lr.fit(X_train_std, y_train)\n",
    "    \n",
    "    score = -np.mean(cross_val_score(lr, X_train_std, y_train, scoring='neg_mean_squared_error', cv=cv))\n",
    "    scores.append(score)"
   ]
  },
  {
   "cell_type": "code",
   "execution_count": 47,
   "metadata": {
    "collapsed": false
   },
   "outputs": [],
   "source": [
    "scores = pd.DataFrame(scores, index=range(1,len(features)+1),columns=[\"MSE\"])\n",
    "scores.index.name = 'N of Features'"
   ]
  },
  {
   "cell_type": "code",
   "execution_count": 48,
   "metadata": {
    "collapsed": false,
    "scrolled": true
   },
   "outputs": [
    {
     "data": {
      "text/plain": [
       "<matplotlib.text.Text at 0x11906ad90>"
      ]
     },
     "execution_count": 48,
     "metadata": {},
     "output_type": "execute_result"
    },
    {
     "data": {
      "image/png": "[encoded data removed]",
      "text/plain": [
       "<matplotlib.figure.Figure at 0x1190729d0>"
      ]
     },
     "metadata": {},
     "output_type": "display_data"
    }
   ],
   "source": [
    "plt.plot(scores.index, scores.MSE)\n",
    "plt.xlabel('N of Features', size = 14)\n",
    "plt.ylabel('MSE', size = 14)"
   ]
  },
  {
   "cell_type": "code",
   "execution_count": 49,
   "metadata": {
    "collapsed": false
   },
   "outputs": [
    {
     "data": {
      "text/plain": [
       "8.6193117267143577"
      ]
     },
     "execution_count": 49,
     "metadata": {},
     "output_type": "execute_result"
    }
   ],
   "source": [
    "MSE_lr_all = mean_squared_error(y_test, lr.predict(X_test_std))\n",
    "MSE_lr_all"
   ]
  },
  {
   "cell_type": "code",
   "execution_count": 50,
   "metadata": {
    "collapsed": true
   },
   "outputs": [],
   "source": [
    "Performance.loc[-1] = ['Linear Regression _all_features', len(X_test.columns), MSE_lr_all]\n",
    "Performance.index = Performance.index + 1 "
   ]
  },
  {
   "cell_type": "code",
   "execution_count": 51,
   "metadata": {
    "collapsed": false
   },
   "outputs": [
    {
     "data": {
      "text/html": [
       "<div>\n",
       "<table border=\"1\" class=\"dataframe\">\n",
       "  <thead>\n",
       "    <tr style=\"text-align: right;\">\n",
       "      <th></th>\n",
       "      <th>Model</th>\n",
       "      <th>n_features</th>\n",
       "      <th>MSE</th>\n",
       "    </tr>\n",
       "  </thead>\n",
       "  <tbody>\n",
       "    <tr>\n",
       "      <th>2</th>\n",
       "      <td>Random Forest</td>\n",
       "      <td>63</td>\n",
       "      <td>5.553435</td>\n",
       "    </tr>\n",
       "    <tr>\n",
       "      <th>0</th>\n",
       "      <td>Linear Regression _all_features</td>\n",
       "      <td>63</td>\n",
       "      <td>8.619312</td>\n",
       "    </tr>\n",
       "  </tbody>\n",
       "</table>\n",
       "</div>"
      ],
      "text/plain": [
       "                             Model  n_features       MSE\n",
       "2                    Random Forest          63  5.553435\n",
       "0  Linear Regression _all_features          63  8.619312"
      ]
     },
     "execution_count": 51,
     "metadata": {},
     "output_type": "execute_result"
    }
   ],
   "source": [
    "Performance"
   ]
  },
  {
   "cell_type": "code",
   "execution_count": 52,
   "metadata": {
    "collapsed": false,
    "scrolled": true
   },
   "outputs": [
    {
     "data": {
      "text/plain": [
       "<matplotlib.text.Text at 0x12086a290>"
      ]
     },
     "execution_count": 52,
     "metadata": {},
     "output_type": "execute_result"
    },
    {
     "data": {
      "image/png": "[encoded data removed]",
      "text/plain": [
       "<matplotlib.figure.Figure at 0x11ffb3290>"
      ]
     },
     "metadata": {},
     "output_type": "display_data"
    }
   ],
   "source": [
    "fit = np.polyfit(y_test,lr.predict(X_test_std),1)\n",
    "fit_fn = np.poly1d(fit) \n",
    "\n",
    "plt.plot(y_test,lr.predict(X_test_std), 'rd', y_test, fit_fn(y_test), '--k')\n",
    "plt.xlabel('Actual obesity rate, %')\n",
    "plt.ylabel('Predicted obesity rate, %')\n",
    "plt.title('Obesity Rates, %')"
   ]
  },
  {
   "cell_type": "markdown",
   "metadata": {},
   "source": [
    "## Linear regression with top 80% features from Random Forest"
   ]
  },
  {
   "cell_type": "code",
   "execution_count": 53,
   "metadata": {
    "collapsed": false,
    "scrolled": true
   },
   "outputs": [
    {
     "data": {
      "text/html": [
       "<div>\n",
       "<table border=\"1\" class=\"dataframe\">\n",
       "  <thead>\n",
       "    <tr style=\"text-align: right;\">\n",
       "      <th></th>\n",
       "      <th>Features</th>\n",
       "      <th>Importance Score</th>\n",
       "      <th>Running Sum</th>\n",
       "    </tr>\n",
       "  </thead>\n",
       "  <tbody>\n",
       "    <tr>\n",
       "      <th>23</th>\n",
       "      <td>PCT_FREE_LUNCH10</td>\n",
       "      <td>0.1161</td>\n",
       "      <td>0.1161</td>\n",
       "    </tr>\n",
       "    <tr>\n",
       "      <th>47</th>\n",
       "      <td>NATAMEN</td>\n",
       "      <td>0.1006</td>\n",
       "      <td>0.2167</td>\n",
       "    </tr>\n",
       "    <tr>\n",
       "      <th>15</th>\n",
       "      <td>PCT_SNAP09</td>\n",
       "      <td>0.0842</td>\n",
       "      <td>0.3009</td>\n",
       "    </tr>\n",
       "    <tr>\n",
       "      <th>49</th>\n",
       "      <td>PCT_NHBLACK10</td>\n",
       "      <td>0.0708</td>\n",
       "      <td>0.3717</td>\n",
       "    </tr>\n",
       "    <tr>\n",
       "      <th>14</th>\n",
       "      <td>PC_FSRSALES07</td>\n",
       "      <td>0.0629</td>\n",
       "      <td>0.4346</td>\n",
       "    </tr>\n",
       "    <tr>\n",
       "      <th>51</th>\n",
       "      <td>PCT_NHASIAN10</td>\n",
       "      <td>0.0492</td>\n",
       "      <td>0.4838</td>\n",
       "    </tr>\n",
       "    <tr>\n",
       "      <th>22</th>\n",
       "      <td>PCT_NSLP09</td>\n",
       "      <td>0.0447</td>\n",
       "      <td>0.5285</td>\n",
       "    </tr>\n",
       "    <tr>\n",
       "      <th>12</th>\n",
       "      <td>FSRPTH07</td>\n",
       "      <td>0.0320</td>\n",
       "      <td>0.5605</td>\n",
       "    </tr>\n",
       "    <tr>\n",
       "      <th>9</th>\n",
       "      <td>SNAPSPTH08</td>\n",
       "      <td>0.0272</td>\n",
       "      <td>0.5877</td>\n",
       "    </tr>\n",
       "    <tr>\n",
       "      <th>48</th>\n",
       "      <td>PCT_NHWHITE10</td>\n",
       "      <td>0.0213</td>\n",
       "      <td>0.6090</td>\n",
       "    </tr>\n",
       "    <tr>\n",
       "      <th>26</th>\n",
       "      <td>PCT_SFSP09</td>\n",
       "      <td>0.0210</td>\n",
       "      <td>0.6300</td>\n",
       "    </tr>\n",
       "    <tr>\n",
       "      <th>50</th>\n",
       "      <td>PCT_HISP10</td>\n",
       "      <td>0.0204</td>\n",
       "      <td>0.6504</td>\n",
       "    </tr>\n",
       "    <tr>\n",
       "      <th>52</th>\n",
       "      <td>PCT_NHNA10</td>\n",
       "      <td>0.0190</td>\n",
       "      <td>0.6694</td>\n",
       "    </tr>\n",
       "    <tr>\n",
       "      <th>4</th>\n",
       "      <td>PCT_LACCESS_HHNV10</td>\n",
       "      <td>0.0165</td>\n",
       "      <td>0.6859</td>\n",
       "    </tr>\n",
       "    <tr>\n",
       "      <th>55</th>\n",
       "      <td>PCT_18YOUNGER10</td>\n",
       "      <td>0.0153</td>\n",
       "      <td>0.7012</td>\n",
       "    </tr>\n",
       "    <tr>\n",
       "      <th>7</th>\n",
       "      <td>CONVSPTH07</td>\n",
       "      <td>0.0142</td>\n",
       "      <td>0.7154</td>\n",
       "    </tr>\n",
       "    <tr>\n",
       "      <th>56</th>\n",
       "      <td>MEDHHINC10</td>\n",
       "      <td>0.0141</td>\n",
       "      <td>0.7295</td>\n",
       "    </tr>\n",
       "    <tr>\n",
       "      <th>46</th>\n",
       "      <td>RECFACPTH07</td>\n",
       "      <td>0.0133</td>\n",
       "      <td>0.7428</td>\n",
       "    </tr>\n",
       "    <tr>\n",
       "      <th>59</th>\n",
       "      <td>CHILDPOVRATE10</td>\n",
       "      <td>0.0130</td>\n",
       "      <td>0.7558</td>\n",
       "    </tr>\n",
       "    <tr>\n",
       "      <th>35</th>\n",
       "      <td>PCT_LOCLFARM07</td>\n",
       "      <td>0.0127</td>\n",
       "      <td>0.7685</td>\n",
       "    </tr>\n",
       "    <tr>\n",
       "      <th>13</th>\n",
       "      <td>PC_FFRSALES07</td>\n",
       "      <td>0.0124</td>\n",
       "      <td>0.7809</td>\n",
       "    </tr>\n",
       "    <tr>\n",
       "      <th>31</th>\n",
       "      <td>FOODINSEC_CHILD_01_07</td>\n",
       "      <td>0.0123</td>\n",
       "      <td>0.7932</td>\n",
       "    </tr>\n",
       "  </tbody>\n",
       "</table>\n",
       "</div>"
      ],
      "text/plain": [
       "                 Features  Importance Score  Running Sum\n",
       "23       PCT_FREE_LUNCH10            0.1161       0.1161\n",
       "47                NATAMEN            0.1006       0.2167\n",
       "15             PCT_SNAP09            0.0842       0.3009\n",
       "49          PCT_NHBLACK10            0.0708       0.3717\n",
       "14          PC_FSRSALES07            0.0629       0.4346\n",
       "51          PCT_NHASIAN10            0.0492       0.4838\n",
       "22             PCT_NSLP09            0.0447       0.5285\n",
       "12               FSRPTH07            0.0320       0.5605\n",
       "9              SNAPSPTH08            0.0272       0.5877\n",
       "48          PCT_NHWHITE10            0.0213       0.6090\n",
       "26             PCT_SFSP09            0.0210       0.6300\n",
       "50             PCT_HISP10            0.0204       0.6504\n",
       "52             PCT_NHNA10            0.0190       0.6694\n",
       "4      PCT_LACCESS_HHNV10            0.0165       0.6859\n",
       "55        PCT_18YOUNGER10            0.0153       0.7012\n",
       "7              CONVSPTH07            0.0142       0.7154\n",
       "56             MEDHHINC10            0.0141       0.7295\n",
       "46            RECFACPTH07            0.0133       0.7428\n",
       "59         CHILDPOVRATE10            0.0130       0.7558\n",
       "35         PCT_LOCLFARM07            0.0127       0.7685\n",
       "13          PC_FFRSALES07            0.0124       0.7809\n",
       "31  FOODINSEC_CHILD_01_07            0.0123       0.7932"
      ]
     },
     "execution_count": 53,
     "metadata": {},
     "output_type": "execute_result"
    }
   ],
   "source": [
    "# Take top 80% of features from Random Forest model by Importance Score\n",
    "\n",
    "features_df['Running Sum']= features_df['Importance Score'].cumsum()\n",
    "\n",
    "top_80pct_rf = features_df[features_df['Running Sum']<=0.8]\n",
    "top_80pct_rf"
   ]
  },
  {
   "cell_type": "code",
   "execution_count": 54,
   "metadata": {
    "collapsed": false,
    "scrolled": true
   },
   "outputs": [
    {
     "name": "stdout",
     "output_type": "stream",
     "text": [
      "Top 80 percent of features represent 22 features\n"
     ]
    }
   ],
   "source": [
    "print \"Top 80 percent of features represent %d features\" %(len(top_80pct_rf))"
   ]
  },
  {
   "cell_type": "code",
   "execution_count": 55,
   "metadata": {
    "collapsed": false
   },
   "outputs": [
    {
     "data": {
      "text/plain": [
       "array(['PCT_FREE_LUNCH10', 'NATAMEN', 'PCT_SNAP09', 'PCT_NHBLACK10',\n",
       "       'PC_FSRSALES07', 'PCT_NHASIAN10', 'PCT_NSLP09', 'FSRPTH07',\n",
       "       'SNAPSPTH08', 'PCT_NHWHITE10', 'PCT_SFSP09', 'PCT_HISP10',\n",
       "       'PCT_NHNA10', 'PCT_LACCESS_HHNV10', 'PCT_18YOUNGER10', 'CONVSPTH07',\n",
       "       'MEDHHINC10', 'RECFACPTH07', 'CHILDPOVRATE10', 'PCT_LOCLFARM07',\n",
       "       'PC_FFRSALES07', 'FOODINSEC_CHILD_01_07'], dtype=object)"
      ]
     },
     "execution_count": 55,
     "metadata": {},
     "output_type": "execute_result"
    }
   ],
   "source": [
    "feature_cols = top_80pct_rf.Features.values\n",
    "feature_cols"
   ]
  },
  {
   "cell_type": "code",
   "execution_count": 56,
   "metadata": {
    "collapsed": false
   },
   "outputs": [],
   "source": [
    "# set a list of features for top 80% of features for Linear Regression model \n",
    "feature_cols = top_80pct_rf.Features.values\n",
    "\n",
    "X_train = data[feature_cols]\n",
    "X_test = data_test[feature_cols]"
   ]
  },
  {
   "cell_type": "code",
   "execution_count": 57,
   "metadata": {
    "collapsed": true
   },
   "outputs": [],
   "source": [
    "from sklearn.preprocessing import StandardScaler\n",
    "stdsc = StandardScaler()\n",
    "\n",
    "# transform training and test features\n",
    "X_train_std = stdsc.fit_transform(X_train)\n",
    "X_test_std = stdsc.transform(X_test)"
   ]
  },
  {
   "cell_type": "code",
   "execution_count": 58,
   "metadata": {
    "collapsed": true
   },
   "outputs": [],
   "source": [
    "lr = LinearRegression()"
   ]
  },
  {
   "cell_type": "code",
   "execution_count": 59,
   "metadata": {
    "collapsed": false
   },
   "outputs": [
    {
     "data": {
      "text/plain": [
       "LinearRegression(copy_X=True, fit_intercept=True, n_jobs=1, normalize=False)"
      ]
     },
     "execution_count": 59,
     "metadata": {},
     "output_type": "execute_result"
    }
   ],
   "source": [
    "lr.fit(X_train_std, y_train)"
   ]
  },
  {
   "cell_type": "code",
   "execution_count": 60,
   "metadata": {
    "collapsed": false,
    "scrolled": false
   },
   "outputs": [
    {
     "data": {
      "text/html": [
       "<div>\n",
       "<table border=\"1\" class=\"dataframe\">\n",
       "  <thead>\n",
       "    <tr style=\"text-align: right;\">\n",
       "      <th></th>\n",
       "      <th>features</th>\n",
       "      <th>coefs</th>\n",
       "    </tr>\n",
       "  </thead>\n",
       "  <tbody>\n",
       "    <tr>\n",
       "      <th>9</th>\n",
       "      <td>PCT_NHWHITE10</td>\n",
       "      <td>-3.621978</td>\n",
       "    </tr>\n",
       "    <tr>\n",
       "      <th>11</th>\n",
       "      <td>PCT_HISP10</td>\n",
       "      <td>-2.779509</td>\n",
       "    </tr>\n",
       "    <tr>\n",
       "      <th>3</th>\n",
       "      <td>PCT_NHBLACK10</td>\n",
       "      <td>-1.731473</td>\n",
       "    </tr>\n",
       "    <tr>\n",
       "      <th>7</th>\n",
       "      <td>FSRPTH07</td>\n",
       "      <td>-1.496630</td>\n",
       "    </tr>\n",
       "    <tr>\n",
       "      <th>12</th>\n",
       "      <td>PCT_NHNA10</td>\n",
       "      <td>-0.919821</td>\n",
       "    </tr>\n",
       "    <tr>\n",
       "      <th>5</th>\n",
       "      <td>PCT_NHASIAN10</td>\n",
       "      <td>-0.853624</td>\n",
       "    </tr>\n",
       "    <tr>\n",
       "      <th>16</th>\n",
       "      <td>MEDHHINC10</td>\n",
       "      <td>-0.714736</td>\n",
       "    </tr>\n",
       "    <tr>\n",
       "      <th>1</th>\n",
       "      <td>NATAMEN</td>\n",
       "      <td>-0.660714</td>\n",
       "    </tr>\n",
       "    <tr>\n",
       "      <th>4</th>\n",
       "      <td>PC_FSRSALES07</td>\n",
       "      <td>-0.513691</td>\n",
       "    </tr>\n",
       "    <tr>\n",
       "      <th>19</th>\n",
       "      <td>PCT_LOCLFARM07</td>\n",
       "      <td>-0.379265</td>\n",
       "    </tr>\n",
       "    <tr>\n",
       "      <th>21</th>\n",
       "      <td>FOODINSEC_CHILD_01_07</td>\n",
       "      <td>-0.364612</td>\n",
       "    </tr>\n",
       "    <tr>\n",
       "      <th>17</th>\n",
       "      <td>RECFACPTH07</td>\n",
       "      <td>-0.258758</td>\n",
       "    </tr>\n",
       "    <tr>\n",
       "      <th>10</th>\n",
       "      <td>PCT_SFSP09</td>\n",
       "      <td>-0.231199</td>\n",
       "    </tr>\n",
       "    <tr>\n",
       "      <th>18</th>\n",
       "      <td>CHILDPOVRATE10</td>\n",
       "      <td>-0.211188</td>\n",
       "    </tr>\n",
       "    <tr>\n",
       "      <th>20</th>\n",
       "      <td>PC_FFRSALES07</td>\n",
       "      <td>-0.165449</td>\n",
       "    </tr>\n",
       "    <tr>\n",
       "      <th>13</th>\n",
       "      <td>PCT_LACCESS_HHNV10</td>\n",
       "      <td>0.152413</td>\n",
       "    </tr>\n",
       "    <tr>\n",
       "      <th>8</th>\n",
       "      <td>SNAPSPTH08</td>\n",
       "      <td>0.187749</td>\n",
       "    </tr>\n",
       "    <tr>\n",
       "      <th>6</th>\n",
       "      <td>PCT_NSLP09</td>\n",
       "      <td>0.190644</td>\n",
       "    </tr>\n",
       "    <tr>\n",
       "      <th>0</th>\n",
       "      <td>PCT_FREE_LUNCH10</td>\n",
       "      <td>0.445633</td>\n",
       "    </tr>\n",
       "    <tr>\n",
       "      <th>14</th>\n",
       "      <td>PCT_18YOUNGER10</td>\n",
       "      <td>0.543496</td>\n",
       "    </tr>\n",
       "    <tr>\n",
       "      <th>2</th>\n",
       "      <td>PCT_SNAP09</td>\n",
       "      <td>0.741370</td>\n",
       "    </tr>\n",
       "    <tr>\n",
       "      <th>15</th>\n",
       "      <td>CONVSPTH07</td>\n",
       "      <td>0.942225</td>\n",
       "    </tr>\n",
       "  </tbody>\n",
       "</table>\n",
       "</div>"
      ],
      "text/plain": [
       "                 features     coefs\n",
       "9           PCT_NHWHITE10 -3.621978\n",
       "11             PCT_HISP10 -2.779509\n",
       "3           PCT_NHBLACK10 -1.731473\n",
       "7                FSRPTH07 -1.496630\n",
       "12             PCT_NHNA10 -0.919821\n",
       "5           PCT_NHASIAN10 -0.853624\n",
       "16             MEDHHINC10 -0.714736\n",
       "1                 NATAMEN -0.660714\n",
       "4           PC_FSRSALES07 -0.513691\n",
       "19         PCT_LOCLFARM07 -0.379265\n",
       "21  FOODINSEC_CHILD_01_07 -0.364612\n",
       "17            RECFACPTH07 -0.258758\n",
       "10             PCT_SFSP09 -0.231199\n",
       "18         CHILDPOVRATE10 -0.211188\n",
       "20          PC_FFRSALES07 -0.165449\n",
       "13     PCT_LACCESS_HHNV10  0.152413\n",
       "8              SNAPSPTH08  0.187749\n",
       "6              PCT_NSLP09  0.190644\n",
       "0        PCT_FREE_LUNCH10  0.445633\n",
       "14        PCT_18YOUNGER10  0.543496\n",
       "2              PCT_SNAP09  0.741370\n",
       "15             CONVSPTH07  0.942225"
      ]
     },
     "execution_count": 60,
     "metadata": {},
     "output_type": "execute_result"
    }
   ],
   "source": [
    "pd.DataFrame(zip(X_train.columns, lr.coef_), columns=['features', 'coefs']).sort_values('coefs')"
   ]
  },
  {
   "cell_type": "code",
   "execution_count": 61,
   "metadata": {
    "collapsed": false
   },
   "outputs": [
    {
     "name": "stdout",
     "output_type": "stream",
     "text": [
      "Linear Regression MSE score on a train set: 6.720036\n"
     ]
    }
   ],
   "source": [
    "MSE_lr = -np.mean(cross_val_score(lr, X_train_std, y_train, scoring='neg_mean_squared_error', cv=cv))\n",
    "print \"Linear Regression MSE score on a train set: %f\" %(MSE_lr)"
   ]
  },
  {
   "cell_type": "code",
   "execution_count": 62,
   "metadata": {
    "collapsed": false
   },
   "outputs": [
    {
     "name": "stdout",
     "output_type": "stream",
     "text": [
      "R squared = 0.598023\n"
     ]
    }
   ],
   "source": [
    "r2 = lr.score(X_test_std,y_test)\n",
    "print \"R squared = %f\" %(r2)"
   ]
  },
  {
   "cell_type": "code",
   "execution_count": 63,
   "metadata": {
    "collapsed": false
   },
   "outputs": [
    {
     "name": "stdout",
     "output_type": "stream",
     "text": [
      "Linear Regression MSE score on a test set: 7.312342\n"
     ]
    }
   ],
   "source": [
    "MSE_lr = -np.mean(cross_val_score(lr, X_test_std, y_test, scoring='neg_mean_squared_error', cv=cv))\n",
    "print \"Linear Regression MSE score on a test set: %f\" %(MSE_lr)"
   ]
  },
  {
   "cell_type": "code",
   "execution_count": 64,
   "metadata": {
    "collapsed": false
   },
   "outputs": [],
   "source": [
    "Performance.loc[-1] = ['Linear Regression', len(X_test.columns), MSE_lr]\n",
    "Performance.index = Performance.index + 1 "
   ]
  },
  {
   "cell_type": "code",
   "execution_count": 65,
   "metadata": {
    "collapsed": false
   },
   "outputs": [
    {
     "data": {
      "text/plain": [
       "<matplotlib.text.Text at 0x119230310>"
      ]
     },
     "execution_count": 65,
     "metadata": {},
     "output_type": "execute_result"
    },
    {
     "data": {
      "image/png": "[encoded data removed]",
      "text/plain": [
       "<matplotlib.figure.Figure at 0x114f3b410>"
      ]
     },
     "metadata": {},
     "output_type": "display_data"
    }
   ],
   "source": [
    "fit = np.polyfit(y_test,lr.predict(X_test_std),1)\n",
    "fit_fn = np.poly1d(fit) \n",
    "# fit_fn is now a function which takes in x and returns an estimate for y\n",
    "\n",
    "plt.plot(y_test,lr.predict(X_test_std), 'rd', y_test, fit_fn(y_test), '--k')\n",
    "plt.xlabel('Actual obesity rate, %')\n",
    "plt.ylabel('Predicted obesity rate, %')\n",
    "plt.title('Obesity Rates, %')"
   ]
  },
  {
   "cell_type": "markdown",
   "metadata": {},
   "source": [
    "## Linear Regression with Outliers Removed"
   ]
  },
  {
   "cell_type": "code",
   "execution_count": 66,
   "metadata": {
    "collapsed": true
   },
   "outputs": [],
   "source": [
    "residuals = pd.DataFrame(X_train)\n",
    "residuals['Predicted Response'] = lr.predict(X_train_std)\n",
    "residuals['Actual Response'] = y_train\n",
    "residuals['Residual'] = lr.predict(X_train_std) - y_train"
   ]
  },
  {
   "cell_type": "code",
   "execution_count": 67,
   "metadata": {
    "collapsed": false
   },
   "outputs": [
    {
     "data": {
      "text/html": [
       "<div>\n",
       "<table border=\"1\" class=\"dataframe\">\n",
       "  <thead>\n",
       "    <tr style=\"text-align: right;\">\n",
       "      <th></th>\n",
       "      <th>PCT_FREE_LUNCH10</th>\n",
       "      <th>NATAMEN</th>\n",
       "      <th>PCT_SNAP09</th>\n",
       "      <th>PCT_NHBLACK10</th>\n",
       "      <th>PC_FSRSALES07</th>\n",
       "      <th>PCT_NHASIAN10</th>\n",
       "      <th>PCT_NSLP09</th>\n",
       "      <th>FSRPTH07</th>\n",
       "      <th>SNAPSPTH08</th>\n",
       "      <th>PCT_NHWHITE10</th>\n",
       "      <th>...</th>\n",
       "      <th>CONVSPTH07</th>\n",
       "      <th>MEDHHINC10</th>\n",
       "      <th>RECFACPTH07</th>\n",
       "      <th>CHILDPOVRATE10</th>\n",
       "      <th>PCT_LOCLFARM07</th>\n",
       "      <th>PC_FFRSALES07</th>\n",
       "      <th>FOODINSEC_CHILD_01_07</th>\n",
       "      <th>Predicted Response</th>\n",
       "      <th>Actual Response</th>\n",
       "      <th>Residual</th>\n",
       "    </tr>\n",
       "    <tr>\n",
       "      <th>FIPS</th>\n",
       "      <th></th>\n",
       "      <th></th>\n",
       "      <th></th>\n",
       "      <th></th>\n",
       "      <th></th>\n",
       "      <th></th>\n",
       "      <th></th>\n",
       "      <th></th>\n",
       "      <th></th>\n",
       "      <th></th>\n",
       "      <th></th>\n",
       "      <th></th>\n",
       "      <th></th>\n",
       "      <th></th>\n",
       "      <th></th>\n",
       "      <th></th>\n",
       "      <th></th>\n",
       "      <th></th>\n",
       "      <th></th>\n",
       "      <th></th>\n",
       "      <th></th>\n",
       "    </tr>\n",
       "  </thead>\n",
       "  <tbody>\n",
       "    <tr>\n",
       "      <th>53015</th>\n",
       "      <td>42.431590</td>\n",
       "      <td>5.0</td>\n",
       "      <td>11.422535</td>\n",
       "      <td>0.558539</td>\n",
       "      <td>713.269544</td>\n",
       "      <td>1.437360</td>\n",
       "      <td>7.990853</td>\n",
       "      <td>0.646400</td>\n",
       "      <td>0.662320</td>\n",
       "      <td>85.758227</td>\n",
       "      <td>...</td>\n",
       "      <td>0.805513</td>\n",
       "      <td>43031</td>\n",
       "      <td>0.069612</td>\n",
       "      <td>28.7</td>\n",
       "      <td>23.1</td>\n",
       "      <td>683.838862</td>\n",
       "      <td>8.5</td>\n",
       "      <td>27.796121</td>\n",
       "      <td>36.7</td>\n",
       "      <td>-8.903879</td>\n",
       "    </tr>\n",
       "    <tr>\n",
       "      <th>53049</th>\n",
       "      <td>41.253181</td>\n",
       "      <td>6.0</td>\n",
       "      <td>11.422535</td>\n",
       "      <td>0.320268</td>\n",
       "      <td>713.269544</td>\n",
       "      <td>2.026769</td>\n",
       "      <td>7.990853</td>\n",
       "      <td>1.351477</td>\n",
       "      <td>0.913007</td>\n",
       "      <td>84.603250</td>\n",
       "      <td>...</td>\n",
       "      <td>1.631093</td>\n",
       "      <td>37832</td>\n",
       "      <td>0.186411</td>\n",
       "      <td>26.7</td>\n",
       "      <td>8.5</td>\n",
       "      <td>683.838862</td>\n",
       "      <td>8.5</td>\n",
       "      <td>26.659585</td>\n",
       "      <td>35.0</td>\n",
       "      <td>-8.340415</td>\n",
       "    </tr>\n",
       "    <tr>\n",
       "      <th>49043</th>\n",
       "      <td>17.825143</td>\n",
       "      <td>6.0</td>\n",
       "      <td>6.653877</td>\n",
       "      <td>0.302830</td>\n",
       "      <td>506.978648</td>\n",
       "      <td>1.211320</td>\n",
       "      <td>12.127896</td>\n",
       "      <td>2.341392</td>\n",
       "      <td>0.276182</td>\n",
       "      <td>85.376060</td>\n",
       "      <td>...</td>\n",
       "      <td>2.482440</td>\n",
       "      <td>74535</td>\n",
       "      <td>0.253886</td>\n",
       "      <td>11.9</td>\n",
       "      <td>6.5</td>\n",
       "      <td>669.738385</td>\n",
       "      <td>9.7</td>\n",
       "      <td>23.118454</td>\n",
       "      <td>15.3</td>\n",
       "      <td>7.818454</td>\n",
       "    </tr>\n",
       "    <tr>\n",
       "      <th>30031</th>\n",
       "      <td>18.698098</td>\n",
       "      <td>5.0</td>\n",
       "      <td>9.482466</td>\n",
       "      <td>0.309452</td>\n",
       "      <td>745.824351</td>\n",
       "      <td>1.129445</td>\n",
       "      <td>8.887485</td>\n",
       "      <td>1.225659</td>\n",
       "      <td>0.271864</td>\n",
       "      <td>93.332812</td>\n",
       "      <td>...</td>\n",
       "      <td>1.225659</td>\n",
       "      <td>49354</td>\n",
       "      <td>0.137457</td>\n",
       "      <td>13.5</td>\n",
       "      <td>5.5</td>\n",
       "      <td>549.185043</td>\n",
       "      <td>8.4</td>\n",
       "      <td>25.824164</td>\n",
       "      <td>17.5</td>\n",
       "      <td>8.324164</td>\n",
       "    </tr>\n",
       "    <tr>\n",
       "      <th>8037</th>\n",
       "      <td>31.455399</td>\n",
       "      <td>5.0</td>\n",
       "      <td>6.350985</td>\n",
       "      <td>0.465544</td>\n",
       "      <td>900.316210</td>\n",
       "      <td>0.990478</td>\n",
       "      <td>7.778858</td>\n",
       "      <td>2.392818</td>\n",
       "      <td>0.153790</td>\n",
       "      <td>67.254823</td>\n",
       "      <td>...</td>\n",
       "      <td>2.412593</td>\n",
       "      <td>69182</td>\n",
       "      <td>0.158203</td>\n",
       "      <td>12.0</td>\n",
       "      <td>7.9</td>\n",
       "      <td>747.095794</td>\n",
       "      <td>8.0</td>\n",
       "      <td>21.547868</td>\n",
       "      <td>13.2</td>\n",
       "      <td>8.347868</td>\n",
       "    </tr>\n",
       "    <tr>\n",
       "      <th>35055</th>\n",
       "      <td>81.286031</td>\n",
       "      <td>5.0</td>\n",
       "      <td>14.483614</td>\n",
       "      <td>0.315754</td>\n",
       "      <td>611.676120</td>\n",
       "      <td>0.610256</td>\n",
       "      <td>11.037727</td>\n",
       "      <td>1.739736</td>\n",
       "      <td>0.637404</td>\n",
       "      <td>36.305674</td>\n",
       "      <td>...</td>\n",
       "      <td>1.802999</td>\n",
       "      <td>32940</td>\n",
       "      <td>0.189789</td>\n",
       "      <td>29.4</td>\n",
       "      <td>10.2</td>\n",
       "      <td>737.196860</td>\n",
       "      <td>12.4</td>\n",
       "      <td>26.650249</td>\n",
       "      <td>18.0</td>\n",
       "      <td>8.650249</td>\n",
       "    </tr>\n",
       "    <tr>\n",
       "      <th>35049</th>\n",
       "      <td>58.835500</td>\n",
       "      <td>5.0</td>\n",
       "      <td>14.483614</td>\n",
       "      <td>0.656863</td>\n",
       "      <td>611.676120</td>\n",
       "      <td>1.088299</td>\n",
       "      <td>11.037727</td>\n",
       "      <td>1.143901</td>\n",
       "      <td>0.329064</td>\n",
       "      <td>43.900257</td>\n",
       "      <td>...</td>\n",
       "      <td>1.143901</td>\n",
       "      <td>48507</td>\n",
       "      <td>0.118575</td>\n",
       "      <td>23.6</td>\n",
       "      <td>14.9</td>\n",
       "      <td>737.196860</td>\n",
       "      <td>12.4</td>\n",
       "      <td>25.163707</td>\n",
       "      <td>13.8</td>\n",
       "      <td>11.363707</td>\n",
       "    </tr>\n",
       "  </tbody>\n",
       "</table>\n",
       "<p>7 rows × 25 columns</p>\n",
       "</div>"
      ],
      "text/plain": [
       "       PCT_FREE_LUNCH10  NATAMEN  PCT_SNAP09  PCT_NHBLACK10  PC_FSRSALES07  \\\n",
       "FIPS                                                                         \n",
       "53015         42.431590      5.0   11.422535       0.558539     713.269544   \n",
       "53049         41.253181      6.0   11.422535       0.320268     713.269544   \n",
       "49043         17.825143      6.0    6.653877       0.302830     506.978648   \n",
       "30031         18.698098      5.0    9.482466       0.309452     745.824351   \n",
       "8037          31.455399      5.0    6.350985       0.465544     900.316210   \n",
       "35055         81.286031      5.0   14.483614       0.315754     611.676120   \n",
       "35049         58.835500      5.0   14.483614       0.656863     611.676120   \n",
       "\n",
       "       PCT_NHASIAN10  PCT_NSLP09  FSRPTH07  SNAPSPTH08  PCT_NHWHITE10  \\\n",
       "FIPS                                                                    \n",
       "53015       1.437360    7.990853  0.646400    0.662320      85.758227   \n",
       "53049       2.026769    7.990853  1.351477    0.913007      84.603250   \n",
       "49043       1.211320   12.127896  2.341392    0.276182      85.376060   \n",
       "30031       1.129445    8.887485  1.225659    0.271864      93.332812   \n",
       "8037        0.990478    7.778858  2.392818    0.153790      67.254823   \n",
       "35055       0.610256   11.037727  1.739736    0.637404      36.305674   \n",
       "35049       1.088299   11.037727  1.143901    0.329064      43.900257   \n",
       "\n",
       "         ...      CONVSPTH07  MEDHHINC10  RECFACPTH07  CHILDPOVRATE10  \\\n",
       "FIPS     ...                                                            \n",
       "53015    ...        0.805513       43031     0.069612            28.7   \n",
       "53049    ...        1.631093       37832     0.186411            26.7   \n",
       "49043    ...        2.482440       74535     0.253886            11.9   \n",
       "30031    ...        1.225659       49354     0.137457            13.5   \n",
       "8037     ...        2.412593       69182     0.158203            12.0   \n",
       "35055    ...        1.802999       32940     0.189789            29.4   \n",
       "35049    ...        1.143901       48507     0.118575            23.6   \n",
       "\n",
       "       PCT_LOCLFARM07  PC_FFRSALES07  FOODINSEC_CHILD_01_07  \\\n",
       "FIPS                                                          \n",
       "53015            23.1     683.838862                    8.5   \n",
       "53049             8.5     683.838862                    8.5   \n",
       "49043             6.5     669.738385                    9.7   \n",
       "30031             5.5     549.185043                    8.4   \n",
       "8037              7.9     747.095794                    8.0   \n",
       "35055            10.2     737.196860                   12.4   \n",
       "35049            14.9     737.196860                   12.4   \n",
       "\n",
       "       Predicted Response  Actual Response   Residual  \n",
       "FIPS                                                   \n",
       "53015           27.796121             36.7  -8.903879  \n",
       "53049           26.659585             35.0  -8.340415  \n",
       "49043           23.118454             15.3   7.818454  \n",
       "30031           25.824164             17.5   8.324164  \n",
       "8037            21.547868             13.2   8.347868  \n",
       "35055           26.650249             18.0   8.650249  \n",
       "35049           25.163707             13.8  11.363707  \n",
       "\n",
       "[7 rows x 25 columns]"
      ]
     },
     "execution_count": 67,
     "metadata": {},
     "output_type": "execute_result"
    }
   ],
   "source": [
    "residuals[(residuals['Residual']>7.5) | (residuals['Residual']<-8)].sort_values('Residual')"
   ]
  },
  {
   "cell_type": "code",
   "execution_count": 68,
   "metadata": {
    "collapsed": false
   },
   "outputs": [
    {
     "data": {
      "text/plain": [
       "(-15, 15)"
      ]
     },
     "execution_count": 68,
     "metadata": {},
     "output_type": "execute_result"
    },
    {
     "data": {
      "image/png": "[encoded data removed]",
      "text/plain": [
       "<matplotlib.figure.Figure at 0x11921c250>"
      ]
     },
     "metadata": {},
     "output_type": "display_data"
    }
   ],
   "source": [
    "# create a resdidual plot to check for errors in the data\n",
    "plt.figure(figsize=(8,6))\n",
    "plt.scatter(lr.predict(X_train_std), lr.predict(X_train_std)-y_train, c='b', s=50, alpha=0.5, label='training')\n",
    "plt.scatter(lr.predict(X_test_std), lr.predict(X_test_std)-y_test, c='g',s=50, label='test')\n",
    "plt.legend(loc='upper left',prop={'size':16})\n",
    "plt.xlabel('Predicted Response')\n",
    "plt.ylabel('Residuals')\n",
    "plt.title('Residual Plot')\n",
    "plt.hlines(y = 0, xmin = 0, xmax = 50)\n",
    "plt.xlim(0,50)\n",
    "plt.ylim(-15,15)"
   ]
  },
  {
   "cell_type": "code",
   "execution_count": 69,
   "metadata": {
    "collapsed": false
   },
   "outputs": [],
   "source": [
    "# Remove Response value outliers outside of the three STDs from the mean\n",
    "\n",
    "feature_cols = top_80pct_rf.Features.values\n",
    "X = data\n",
    "X_test = data_test[feature_cols]\n",
    "\n",
    "\n",
    "response_mean = y_train.mean()\n",
    "response_std = y_train.std()\n",
    "\n",
    "X = X[(X.PCT_OBESE_ADULTS10 >  (response_mean-3*response_std)) &\n",
    "      (X.PCT_OBESE_ADULTS10 <  (response_mean+3*response_std))]\n",
    "\n",
    "y_train = X['PCT_OBESE_ADULTS10']\n",
    "X_train = X[feature_cols]"
   ]
  },
  {
   "cell_type": "code",
   "execution_count": 70,
   "metadata": {
    "collapsed": false
   },
   "outputs": [
    {
     "data": {
      "text/plain": [
       "2215"
      ]
     },
     "execution_count": 70,
     "metadata": {},
     "output_type": "execute_result"
    }
   ],
   "source": [
    "len(X_train)"
   ]
  },
  {
   "cell_type": "code",
   "execution_count": 71,
   "metadata": {
    "collapsed": true
   },
   "outputs": [],
   "source": [
    "# transform training and test features\n",
    "\n",
    "X_train_std = stdsc.fit_transform(X_train)\n",
    "X_test_std = stdsc.transform(X_test)"
   ]
  },
  {
   "cell_type": "code",
   "execution_count": 72,
   "metadata": {
    "collapsed": true
   },
   "outputs": [],
   "source": [
    "lr = LinearRegression()"
   ]
  },
  {
   "cell_type": "code",
   "execution_count": 73,
   "metadata": {
    "collapsed": false
   },
   "outputs": [
    {
     "data": {
      "text/plain": [
       "LinearRegression(copy_X=True, fit_intercept=True, n_jobs=1, normalize=False)"
      ]
     },
     "execution_count": 73,
     "metadata": {},
     "output_type": "execute_result"
    }
   ],
   "source": [
    "lr.fit(X_train_std, y_train)"
   ]
  },
  {
   "cell_type": "code",
   "execution_count": 74,
   "metadata": {
    "collapsed": false
   },
   "outputs": [
    {
     "data": {
      "text/plain": [
       "array([ 0.48150758, -0.56377471,  0.73394922, -1.52138746, -0.50772906,\n",
       "       -0.89033306,  0.16626326, -1.17265838,  0.17268136, -3.3041211 ,\n",
       "       -0.22583098, -2.56757242, -0.80197601,  0.15130561,  0.49849722,\n",
       "        0.73492194, -0.5027555 , -0.20664395, -0.13717121, -0.41019619,\n",
       "       -0.14557035, -0.37699538])"
      ]
     },
     "execution_count": 74,
     "metadata": {},
     "output_type": "execute_result"
    }
   ],
   "source": [
    "lr.coef_"
   ]
  },
  {
   "cell_type": "code",
   "execution_count": 75,
   "metadata": {
    "collapsed": false
   },
   "outputs": [
    {
     "name": "stdout",
     "output_type": "stream",
     "text": [
      "Linear Regression MSE score on a train set: 6.296966\n"
     ]
    }
   ],
   "source": [
    "MSE_lr = -np.mean(cross_val_score(lr, X_train_std, y_train, scoring='neg_mean_squared_error', cv=cv))\n",
    "print \"Linear Regression MSE score on a train set: %f\" %(MSE_lr)"
   ]
  },
  {
   "cell_type": "code",
   "execution_count": 76,
   "metadata": {
    "collapsed": true
   },
   "outputs": [],
   "source": [
    "Performance.loc[-1] = ['Linear Regression_no outliers', len(X_test.columns), MSE_lr]\n",
    "Performance.index = Performance.index + 1 "
   ]
  },
  {
   "cell_type": "code",
   "execution_count": 77,
   "metadata": {
    "collapsed": false
   },
   "outputs": [
    {
     "data": {
      "text/plain": [
       "<matplotlib.text.Text at 0x11c3515d0>"
      ]
     },
     "execution_count": 77,
     "metadata": {},
     "output_type": "execute_result"
    },
    {
     "data": {
      "image/png": "[encoded data removed]",
      "text/plain": [
       "<matplotlib.figure.Figure at 0x118ef4c50>"
      ]
     },
     "metadata": {},
     "output_type": "display_data"
    }
   ],
   "source": [
    "fit = np.polyfit(y_test,lr.predict(X_test_std),1)\n",
    "fit_fn = np.poly1d(fit) \n",
    "# fit_fn is now a function which takes in x and returns an estimate for y\n",
    "\n",
    "plt.plot(y_test,lr.predict(X_test_std), 'rd', y_test, fit_fn(y_test), '--k')\n",
    "plt.xlabel('Actual obesity rate, %')\n",
    "plt.ylabel('Predicted obesity rate, %')\n",
    "plt.title('Obesity Rates, %')"
   ]
  },
  {
   "cell_type": "markdown",
   "metadata": {},
   "source": [
    "# MSE with outliers removed produced the best result"
   ]
  },
  {
   "cell_type": "code",
   "execution_count": 78,
   "metadata": {
    "collapsed": false
   },
   "outputs": [
    {
     "name": "stdout",
     "output_type": "stream",
     "text": [
      "30.5888293119\n",
      "4.22904261038\n"
     ]
    }
   ],
   "source": [
    "# rmove reponse variables outliers from data\n",
    "response_mean = data['PCT_OBESE_ADULTS10'].mean()\n",
    "response_std = data['PCT_OBESE_ADULTS10'].std()\n",
    "print response_mean\n",
    "print response_std"
   ]
  },
  {
   "cell_type": "code",
   "execution_count": 79,
   "metadata": {
    "collapsed": true
   },
   "outputs": [],
   "source": [
    "# rmove reponse variables outliers from data\n",
    "data = data[(data.PCT_OBESE_ADULTS10 >  (response_mean-3*response_std)) &\n",
    "      (data.PCT_OBESE_ADULTS10 <  (response_mean+3*response_std))]"
   ]
  },
  {
   "cell_type": "markdown",
   "metadata": {},
   "source": [
    "## Get coefficients for collinear features"
   ]
  },
  {
   "cell_type": "code",
   "execution_count": 80,
   "metadata": {
    "collapsed": false,
    "scrolled": true
   },
   "outputs": [
    {
     "data": {
      "text/html": [
       "<div>\n",
       "<table border=\"1\" class=\"dataframe\">\n",
       "  <thead>\n",
       "    <tr style=\"text-align: right;\">\n",
       "      <th></th>\n",
       "      <th>Feature</th>\n",
       "      <th>PCT_WIC09</th>\n",
       "    </tr>\n",
       "  </thead>\n",
       "  <tbody>\n",
       "    <tr>\n",
       "      <th>0</th>\n",
       "      <td>PCT_LACCESS_POP10</td>\n",
       "      <td>0.014154</td>\n",
       "    </tr>\n",
       "    <tr>\n",
       "      <th>14</th>\n",
       "      <td>PC_FSRSALES07</td>\n",
       "      <td>0.011043</td>\n",
       "    </tr>\n",
       "    <tr>\n",
       "      <th>15</th>\n",
       "      <td>PCT_SNAP09</td>\n",
       "      <td>0.011593</td>\n",
       "    </tr>\n",
       "    <tr>\n",
       "      <th>22</th>\n",
       "      <td>PCT_NSLP09</td>\n",
       "      <td>0.020444</td>\n",
       "    </tr>\n",
       "    <tr>\n",
       "      <th>25</th>\n",
       "      <td>PCT_SBP09</td>\n",
       "      <td>0.020140</td>\n",
       "    </tr>\n",
       "    <tr>\n",
       "      <th>29</th>\n",
       "      <td>FOODINSEC_07_09</td>\n",
       "      <td>0.018293</td>\n",
       "    </tr>\n",
       "    <tr>\n",
       "      <th>30</th>\n",
       "      <td>VLFOODSEC_07_09</td>\n",
       "      <td>0.016012</td>\n",
       "    </tr>\n",
       "    <tr>\n",
       "      <th>32</th>\n",
       "      <td>MILK_PRICE10</td>\n",
       "      <td>0.026192</td>\n",
       "    </tr>\n",
       "    <tr>\n",
       "      <th>33</th>\n",
       "      <td>SODA_PRICE10</td>\n",
       "      <td>0.013417</td>\n",
       "    </tr>\n",
       "    <tr>\n",
       "      <th>34</th>\n",
       "      <td>MILK_SODA_PRICE10</td>\n",
       "      <td>0.028365</td>\n",
       "    </tr>\n",
       "    <tr>\n",
       "      <th>48</th>\n",
       "      <td>PCT_NHWHITE10</td>\n",
       "      <td>0.685061</td>\n",
       "    </tr>\n",
       "    <tr>\n",
       "      <th>49</th>\n",
       "      <td>PCT_NHBLACK10</td>\n",
       "      <td>0.499488</td>\n",
       "    </tr>\n",
       "    <tr>\n",
       "      <th>50</th>\n",
       "      <td>PCT_HISP10</td>\n",
       "      <td>0.457496</td>\n",
       "    </tr>\n",
       "    <tr>\n",
       "      <th>51</th>\n",
       "      <td>PCT_NHASIAN10</td>\n",
       "      <td>0.076047</td>\n",
       "    </tr>\n",
       "    <tr>\n",
       "      <th>52</th>\n",
       "      <td>PCT_NHNA10</td>\n",
       "      <td>0.248387</td>\n",
       "    </tr>\n",
       "    <tr>\n",
       "      <th>57</th>\n",
       "      <td>POVRATE10</td>\n",
       "      <td>0.011948</td>\n",
       "    </tr>\n",
       "    <tr>\n",
       "      <th>59</th>\n",
       "      <td>CHILDPOVRATE10</td>\n",
       "      <td>0.011661</td>\n",
       "    </tr>\n",
       "  </tbody>\n",
       "</table>\n",
       "</div>"
      ],
      "text/plain": [
       "              Feature  PCT_WIC09\n",
       "0   PCT_LACCESS_POP10   0.014154\n",
       "14      PC_FSRSALES07   0.011043\n",
       "15         PCT_SNAP09   0.011593\n",
       "22         PCT_NSLP09   0.020444\n",
       "25          PCT_SBP09   0.020140\n",
       "29    FOODINSEC_07_09   0.018293\n",
       "30    VLFOODSEC_07_09   0.016012\n",
       "32       MILK_PRICE10   0.026192\n",
       "33       SODA_PRICE10   0.013417\n",
       "34  MILK_SODA_PRICE10   0.028365\n",
       "48      PCT_NHWHITE10   0.685061\n",
       "49      PCT_NHBLACK10   0.499488\n",
       "50         PCT_HISP10   0.457496\n",
       "51      PCT_NHASIAN10   0.076047\n",
       "52         PCT_NHNA10   0.248387\n",
       "57          POVRATE10   0.011948\n",
       "59     CHILDPOVRATE10   0.011661"
      ]
     },
     "execution_count": 80,
     "metadata": {},
     "output_type": "execute_result"
    }
   ],
   "source": [
    "d['collinear1']"
   ]
  },
  {
   "cell_type": "code",
   "execution_count": 81,
   "metadata": {
    "collapsed": true
   },
   "outputs": [],
   "source": [
    "# update response variables to put back outliers\n",
    "# y_train = data['PCT_OBESE_ADULTS10']\n",
    "# y_test = data_test['PCT_OBESE_ADULTS10']"
   ]
  },
  {
   "cell_type": "code",
   "execution_count": 82,
   "metadata": {
    "collapsed": false
   },
   "outputs": [
    {
     "name": "stdout",
     "output_type": "stream",
     "text": [
      "Best feature from collinear set 1\n",
      "      Feature       MSE\n",
      "0  PCT_SNAP09  12.52133\n",
      "------------------\n",
      "Best feature from collinear set 2\n",
      "            Feature        MSE\n",
      "0  PCT_FREE_LUNCH10  12.050693\n",
      "------------------\n",
      "Best feature from collinear set 3\n",
      "            Feature        MSE\n",
      "0  PCT_FREE_LUNCH10  12.010942\n",
      "------------------\n"
     ]
    }
   ],
   "source": [
    "# loop through every colinera feature  (from multicillinearity test - eigen vectors)\n",
    "\n",
    "columns = ['Feature','MSE']\n",
    "scores = pd.DataFrame([])\n",
    "\n",
    "for i in range(1,len(vectors.columns)):\n",
    "    table = d['collinear{0}'.format(i)]\n",
    "    features = table.Feature.values\n",
    "    \n",
    "    for f in features:\n",
    "        feature_col = [f]\n",
    "    \n",
    "        X_train=data[feature_col]\n",
    "    \n",
    "        lr = LinearRegression()\n",
    "        lr.fit(X_train, y_train)\n",
    "    \n",
    "        MSE  = -np.mean(cross_val_score(lr, X_train, y_train, scoring='neg_mean_squared_error', cv=cv))\n",
    "        score = pd.DataFrame({'Feature':f,'MSE':MSE},index=[0])\n",
    "        scores = scores.append(score)\n",
    "    print \"Best feature from collinear set %d\" %(i)\n",
    "    print scores.sort_values('MSE').head(1)\n",
    "    print \"------------------\""
   ]
  },
  {
   "cell_type": "code",
   "execution_count": 83,
   "metadata": {
    "collapsed": false
   },
   "outputs": [
    {
     "data": {
      "text/html": [
       "<div>\n",
       "<table border=\"1\" class=\"dataframe\">\n",
       "  <thead>\n",
       "    <tr style=\"text-align: right;\">\n",
       "      <th></th>\n",
       "      <th>CHILDPOVRATE10</th>\n",
       "      <th>PCT_FREE_LUNCH10</th>\n",
       "    </tr>\n",
       "  </thead>\n",
       "  <tbody>\n",
       "    <tr>\n",
       "      <th>CHILDPOVRATE10</th>\n",
       "      <td>1.000000</td>\n",
       "      <td>0.823303</td>\n",
       "    </tr>\n",
       "    <tr>\n",
       "      <th>PCT_FREE_LUNCH10</th>\n",
       "      <td>0.823303</td>\n",
       "      <td>1.000000</td>\n",
       "    </tr>\n",
       "  </tbody>\n",
       "</table>\n",
       "</div>"
      ],
      "text/plain": [
       "                  CHILDPOVRATE10  PCT_FREE_LUNCH10\n",
       "CHILDPOVRATE10          1.000000          0.823303\n",
       "PCT_FREE_LUNCH10        0.823303          1.000000"
      ]
     },
     "execution_count": 83,
     "metadata": {},
     "output_type": "execute_result"
    }
   ],
   "source": [
    "# check correlation between the best features out of collinear feature sets:\n",
    "best_of_col = data[['CHILDPOVRATE10','PCT_FREE_LUNCH10']]\n",
    "best_of_col.corr()"
   ]
  },
  {
   "cell_type": "markdown",
   "metadata": {},
   "source": [
    "## Test Linear Regression with all non-collinear Features and best feature out of collinear feature set"
   ]
  },
  {
   "cell_type": "code",
   "execution_count": 84,
   "metadata": {
    "collapsed": false
   },
   "outputs": [],
   "source": [
    "dfs = [d['collinear1'].Feature,d['collinear2'].Feature,d['collinear3'].Feature]\n",
    "#append dataframes into one\n",
    "collinear_feat = list(reduce(lambda left,right: left.append(right), dfs))"
   ]
  },
  {
   "cell_type": "code",
   "execution_count": 85,
   "metadata": {
    "collapsed": false,
    "scrolled": true
   },
   "outputs": [],
   "source": [
    "all_feat = list(data.columns[:-1])"
   ]
  },
  {
   "cell_type": "code",
   "execution_count": 86,
   "metadata": {
    "collapsed": false
   },
   "outputs": [],
   "source": [
    "non_collinear_feat = set(all_feat) - set(collinear_feat)"
   ]
  },
  {
   "cell_type": "code",
   "execution_count": 87,
   "metadata": {
    "collapsed": false
   },
   "outputs": [],
   "source": [
    "non_col_features = list(non_collinear_feat)"
   ]
  },
  {
   "cell_type": "code",
   "execution_count": 88,
   "metadata": {
    "collapsed": false
   },
   "outputs": [],
   "source": [
    "non_col_features.insert(0,\"PCT_FREE_LUNCH10\")"
   ]
  },
  {
   "cell_type": "code",
   "execution_count": 89,
   "metadata": {
    "collapsed": false
   },
   "outputs": [],
   "source": [
    "X_train = data[non_col_features]\n",
    "\n",
    "X_test = data_test[non_col_features]"
   ]
  },
  {
   "cell_type": "code",
   "execution_count": 90,
   "metadata": {
    "collapsed": true
   },
   "outputs": [],
   "source": [
    "X_train_std = stdsc.fit_transform(X_train)\n",
    "X_test_std = stdsc.transform(X_test)"
   ]
  },
  {
   "cell_type": "code",
   "execution_count": 91,
   "metadata": {
    "collapsed": false
   },
   "outputs": [
    {
     "data": {
      "text/plain": [
       "LinearRegression(copy_X=True, fit_intercept=True, n_jobs=1, normalize=False)"
      ]
     },
     "execution_count": 91,
     "metadata": {},
     "output_type": "execute_result"
    }
   ],
   "source": [
    "lr = LinearRegression()\n",
    "lr.fit(X_train_std, y_train)"
   ]
  },
  {
   "cell_type": "code",
   "execution_count": 92,
   "metadata": {
    "collapsed": false
   },
   "outputs": [
    {
     "data": {
      "text/plain": [
       "9.3571769776865317"
      ]
     },
     "execution_count": 92,
     "metadata": {},
     "output_type": "execute_result"
    }
   ],
   "source": [
    "MSE_lr_non_col = mean_squared_error(y_test, lr.predict(X_test_std))\n",
    "MSE_lr_non_col"
   ]
  },
  {
   "cell_type": "markdown",
   "metadata": {},
   "source": [
    "# Lasso and Ridge"
   ]
  },
  {
   "cell_type": "markdown",
   "metadata": {},
   "source": [
    "### Lasso with Gridsearch"
   ]
  },
  {
   "cell_type": "code",
   "execution_count": 93,
   "metadata": {
    "collapsed": true
   },
   "outputs": [],
   "source": [
    "from sklearn.linear_model import Lasso, Ridge\n",
    "from sklearn.model_selection import GridSearchCV"
   ]
  },
  {
   "cell_type": "code",
   "execution_count": 94,
   "metadata": {
    "collapsed": true
   },
   "outputs": [],
   "source": [
    "feature_cols = list(data.columns.values)[:-1]\n",
    "\n",
    "X_train = data[feature_cols]\n",
    "X_test = data_test[feature_cols]"
   ]
  },
  {
   "cell_type": "code",
   "execution_count": 95,
   "metadata": {
    "collapsed": true
   },
   "outputs": [],
   "source": [
    "X_train_std = stdsc.fit_transform(X_train)\n",
    "X_test_std = stdsc.transform(X_test)"
   ]
  },
  {
   "cell_type": "code",
   "execution_count": 96,
   "metadata": {
    "collapsed": false
   },
   "outputs": [
    {
     "name": "stderr",
     "output_type": "stream",
     "text": [
      "/Users/Lenka/anaconda2/lib/python2.7/site-packages/sklearn/linear_model/coordinate_descent.py:484: ConvergenceWarning: Objective did not converge. You might want to increase the number of iterations. Fitting data with very small alpha may cause precision problems.\n",
      "  ConvergenceWarning)\n"
     ]
    },
    {
     "data": {
      "text/plain": [
       "GridSearchCV(cv=KFold(n_splits=5, random_state=None, shuffle=True),\n",
       "       error_score='raise',\n",
       "       estimator=Lasso(alpha=1.0, copy_X=True, fit_intercept=True, max_iter=1000,\n",
       "   normalize=False, positive=False, precompute=False, random_state=None,\n",
       "   selection='cyclic', tol=0.0001, warm_start=False),\n",
       "       fit_params={}, iid=True, n_jobs=1,\n",
       "       param_grid={'alpha': array([  1.00000e-04,   1.00200e-01, ...,   9.98999e+01,   1.00000e+02])},\n",
       "       pre_dispatch='2*n_jobs', refit=True, return_train_score=True,\n",
       "       scoring=None, verbose=0)"
      ]
     },
     "execution_count": 96,
     "metadata": {},
     "output_type": "execute_result"
    }
   ],
   "source": [
    "parameters = {'alpha' : np.linspace(0.0001,100,1000)}\n",
    "lasso = Lasso()\n",
    "clf = GridSearchCV(lasso, parameters, cv=cv)\n",
    "clf.fit(X_train_std,y_train)"
   ]
  },
  {
   "cell_type": "code",
   "execution_count": 97,
   "metadata": {
    "collapsed": false
   },
   "outputs": [
    {
     "data": {
      "text/plain": [
       "{'alpha': 0.0001}"
      ]
     },
     "execution_count": 97,
     "metadata": {},
     "output_type": "execute_result"
    }
   ],
   "source": [
    "# get the best performing combo\n",
    "clf.best_params_"
   ]
  },
  {
   "cell_type": "markdown",
   "metadata": {},
   "source": [
    "## Lasso with best alpha parameter"
   ]
  },
  {
   "cell_type": "code",
   "execution_count": 98,
   "metadata": {
    "collapsed": true
   },
   "outputs": [],
   "source": [
    "lasso = Lasso(alpha=0.0001)"
   ]
  },
  {
   "cell_type": "code",
   "execution_count": 99,
   "metadata": {
    "collapsed": false
   },
   "outputs": [
    {
     "data": {
      "text/plain": [
       "Lasso(alpha=0.0001, copy_X=True, fit_intercept=True, max_iter=1000,\n",
       "   normalize=False, positive=False, precompute=False, random_state=None,\n",
       "   selection='cyclic', tol=0.0001, warm_start=False)"
      ]
     },
     "execution_count": 99,
     "metadata": {},
     "output_type": "execute_result"
    }
   ],
   "source": [
    "lasso.fit(X_train_std, y_train)"
   ]
  },
  {
   "cell_type": "code",
   "execution_count": 100,
   "metadata": {
    "collapsed": false
   },
   "outputs": [
    {
     "data": {
      "text/plain": [
       "2.1477607451194278"
      ]
     },
     "execution_count": 100,
     "metadata": {},
     "output_type": "execute_result"
    }
   ],
   "source": [
    "MSE_las = -np.mean(cross_val_score(lasso, X_test_std, y_test, scoring='neg_mean_absolute_error'))\n",
    "MSE_las"
   ]
  },
  {
   "cell_type": "code",
   "execution_count": 101,
   "metadata": {
    "collapsed": true
   },
   "outputs": [],
   "source": [
    "Performance.loc[-1] = ['Lasso (alpha=0.0001)', len(X_test.columns), MSE_las]\n",
    "Performance.index = Performance.index + 1 "
   ]
  },
  {
   "cell_type": "code",
   "execution_count": 102,
   "metadata": {
    "collapsed": true
   },
   "outputs": [],
   "source": [
    "# get coefficients \n",
    "feature_coefs = pd.DataFrame({'Features':X_train.columns,'Coef':lasso.coef_})"
   ]
  },
  {
   "cell_type": "code",
   "execution_count": 103,
   "metadata": {
    "collapsed": false,
    "scrolled": true
   },
   "outputs": [
    {
     "data": {
      "text/html": [
       "<div>\n",
       "<table border=\"1\" class=\"dataframe\">\n",
       "  <thead>\n",
       "    <tr style=\"text-align: right;\">\n",
       "      <th></th>\n",
       "      <th>Coef</th>\n",
       "      <th>Features</th>\n",
       "    </tr>\n",
       "  </thead>\n",
       "  <tbody>\n",
       "    <tr>\n",
       "      <th>48</th>\n",
       "      <td>-3.816050</td>\n",
       "      <td>PCT_NHWHITE10</td>\n",
       "    </tr>\n",
       "    <tr>\n",
       "      <th>50</th>\n",
       "      <td>-3.031816</td>\n",
       "      <td>PCT_HISP10</td>\n",
       "    </tr>\n",
       "    <tr>\n",
       "      <th>32</th>\n",
       "      <td>-1.837127</td>\n",
       "      <td>MILK_PRICE10</td>\n",
       "    </tr>\n",
       "    <tr>\n",
       "      <th>49</th>\n",
       "      <td>-1.799479</td>\n",
       "      <td>PCT_NHBLACK10</td>\n",
       "    </tr>\n",
       "    <tr>\n",
       "      <th>27</th>\n",
       "      <td>-1.296757</td>\n",
       "      <td>PCT_WIC09</td>\n",
       "    </tr>\n",
       "    <tr>\n",
       "      <th>31</th>\n",
       "      <td>-0.989063</td>\n",
       "      <td>FOODINSEC_CHILD_01_07</td>\n",
       "    </tr>\n",
       "    <tr>\n",
       "      <th>51</th>\n",
       "      <td>-0.952509</td>\n",
       "      <td>PCT_NHASIAN10</td>\n",
       "    </tr>\n",
       "    <tr>\n",
       "      <th>52</th>\n",
       "      <td>-0.875175</td>\n",
       "      <td>PCT_NHNA10</td>\n",
       "    </tr>\n",
       "    <tr>\n",
       "      <th>12</th>\n",
       "      <td>-0.815859</td>\n",
       "      <td>FSRPTH07</td>\n",
       "    </tr>\n",
       "    <tr>\n",
       "      <th>38</th>\n",
       "      <td>-0.708273</td>\n",
       "      <td>FRESHVEG_FARMS07</td>\n",
       "    </tr>\n",
       "    <tr>\n",
       "      <th>47</th>\n",
       "      <td>-0.504234</td>\n",
       "      <td>NATAMEN</td>\n",
       "    </tr>\n",
       "    <tr>\n",
       "      <th>56</th>\n",
       "      <td>-0.483976</td>\n",
       "      <td>MEDHHINC10</td>\n",
       "    </tr>\n",
       "    <tr>\n",
       "      <th>2</th>\n",
       "      <td>-0.417543</td>\n",
       "      <td>PCT_LACCESS_CHILD10</td>\n",
       "    </tr>\n",
       "    <tr>\n",
       "      <th>35</th>\n",
       "      <td>-0.320497</td>\n",
       "      <td>PCT_LOCLFARM07</td>\n",
       "    </tr>\n",
       "    <tr>\n",
       "      <th>1</th>\n",
       "      <td>-0.292844</td>\n",
       "      <td>PCT_LACCESS_LOWI10</td>\n",
       "    </tr>\n",
       "    <tr>\n",
       "      <th>16</th>\n",
       "      <td>-0.239465</td>\n",
       "      <td>SNAP_PART_RATE10</td>\n",
       "    </tr>\n",
       "    <tr>\n",
       "      <th>13</th>\n",
       "      <td>-0.239315</td>\n",
       "      <td>PC_FFRSALES07</td>\n",
       "    </tr>\n",
       "    <tr>\n",
       "      <th>21</th>\n",
       "      <td>-0.233504</td>\n",
       "      <td>SNAP_REPORTSIMPLE10</td>\n",
       "    </tr>\n",
       "    <tr>\n",
       "      <th>11</th>\n",
       "      <td>-0.200844</td>\n",
       "      <td>FFRPTH07</td>\n",
       "    </tr>\n",
       "    <tr>\n",
       "      <th>45</th>\n",
       "      <td>-0.199169</td>\n",
       "      <td>FARM_TO_SCHOOL</td>\n",
       "    </tr>\n",
       "    <tr>\n",
       "      <th>59</th>\n",
       "      <td>-0.184641</td>\n",
       "      <td>CHILDPOVRATE10</td>\n",
       "    </tr>\n",
       "    <tr>\n",
       "      <th>42</th>\n",
       "      <td>-0.184469</td>\n",
       "      <td>GHVEG_FARMS07</td>\n",
       "    </tr>\n",
       "    <tr>\n",
       "      <th>43</th>\n",
       "      <td>-0.171987</td>\n",
       "      <td>CSA07</td>\n",
       "    </tr>\n",
       "    <tr>\n",
       "      <th>60</th>\n",
       "      <td>-0.150336</td>\n",
       "      <td>PERCHLDPOV10</td>\n",
       "    </tr>\n",
       "    <tr>\n",
       "      <th>26</th>\n",
       "      <td>-0.144212</td>\n",
       "      <td>PCT_SFSP09</td>\n",
       "    </tr>\n",
       "    <tr>\n",
       "      <th>46</th>\n",
       "      <td>-0.142938</td>\n",
       "      <td>RECFACPTH07</td>\n",
       "    </tr>\n",
       "    <tr>\n",
       "      <th>3</th>\n",
       "      <td>-0.140179</td>\n",
       "      <td>PCT_LACCESS_SENIORS10</td>\n",
       "    </tr>\n",
       "    <tr>\n",
       "      <th>14</th>\n",
       "      <td>-0.138271</td>\n",
       "      <td>PC_FSRSALES07</td>\n",
       "    </tr>\n",
       "    <tr>\n",
       "      <th>61</th>\n",
       "      <td>-0.119956</td>\n",
       "      <td>METRO13</td>\n",
       "    </tr>\n",
       "    <tr>\n",
       "      <th>10</th>\n",
       "      <td>-0.093717</td>\n",
       "      <td>WICSPTH08</td>\n",
       "    </tr>\n",
       "    <tr>\n",
       "      <th>...</th>\n",
       "      <td>...</td>\n",
       "      <td>...</td>\n",
       "    </tr>\n",
       "    <tr>\n",
       "      <th>54</th>\n",
       "      <td>-0.046566</td>\n",
       "      <td>PCT_65OLDER10</td>\n",
       "    </tr>\n",
       "    <tr>\n",
       "      <th>8</th>\n",
       "      <td>-0.009409</td>\n",
       "      <td>SPECSPTH07</td>\n",
       "    </tr>\n",
       "    <tr>\n",
       "      <th>44</th>\n",
       "      <td>0.007225</td>\n",
       "      <td>AGRITRSM_OPS07</td>\n",
       "    </tr>\n",
       "    <tr>\n",
       "      <th>36</th>\n",
       "      <td>0.010827</td>\n",
       "      <td>FMRKTPTH09</td>\n",
       "    </tr>\n",
       "    <tr>\n",
       "      <th>40</th>\n",
       "      <td>0.017367</td>\n",
       "      <td>BERRY_FARMS07</td>\n",
       "    </tr>\n",
       "    <tr>\n",
       "      <th>53</th>\n",
       "      <td>0.054315</td>\n",
       "      <td>PCT_NHPI10</td>\n",
       "    </tr>\n",
       "    <tr>\n",
       "      <th>28</th>\n",
       "      <td>0.055127</td>\n",
       "      <td>PCT_CACFP09</td>\n",
       "    </tr>\n",
       "    <tr>\n",
       "      <th>19</th>\n",
       "      <td>0.070651</td>\n",
       "      <td>SNAP_VEHEXCL10</td>\n",
       "    </tr>\n",
       "    <tr>\n",
       "      <th>30</th>\n",
       "      <td>0.071354</td>\n",
       "      <td>VLFOODSEC_07_09</td>\n",
       "    </tr>\n",
       "    <tr>\n",
       "      <th>24</th>\n",
       "      <td>0.106565</td>\n",
       "      <td>PCT_REDUCED_LUNCH10</td>\n",
       "    </tr>\n",
       "    <tr>\n",
       "      <th>62</th>\n",
       "      <td>0.116562</td>\n",
       "      <td>POPLOSS00</td>\n",
       "    </tr>\n",
       "    <tr>\n",
       "      <th>6</th>\n",
       "      <td>0.120476</td>\n",
       "      <td>SUPERCPTH07</td>\n",
       "    </tr>\n",
       "    <tr>\n",
       "      <th>4</th>\n",
       "      <td>0.121269</td>\n",
       "      <td>PCT_LACCESS_HHNV10</td>\n",
       "    </tr>\n",
       "    <tr>\n",
       "      <th>18</th>\n",
       "      <td>0.139968</td>\n",
       "      <td>SNAP_FACEWAIVER10</td>\n",
       "    </tr>\n",
       "    <tr>\n",
       "      <th>20</th>\n",
       "      <td>0.174846</td>\n",
       "      <td>SNAP_BBCE10</td>\n",
       "    </tr>\n",
       "    <tr>\n",
       "      <th>57</th>\n",
       "      <td>0.196542</td>\n",
       "      <td>POVRATE10</td>\n",
       "    </tr>\n",
       "    <tr>\n",
       "      <th>9</th>\n",
       "      <td>0.233625</td>\n",
       "      <td>SNAPSPTH08</td>\n",
       "    </tr>\n",
       "    <tr>\n",
       "      <th>39</th>\n",
       "      <td>0.234688</td>\n",
       "      <td>ORCHARD_FARMS07</td>\n",
       "    </tr>\n",
       "    <tr>\n",
       "      <th>17</th>\n",
       "      <td>0.475334</td>\n",
       "      <td>SNAP_OAPP10</td>\n",
       "    </tr>\n",
       "    <tr>\n",
       "      <th>23</th>\n",
       "      <td>0.491678</td>\n",
       "      <td>PCT_FREE_LUNCH10</td>\n",
       "    </tr>\n",
       "    <tr>\n",
       "      <th>7</th>\n",
       "      <td>0.543527</td>\n",
       "      <td>CONVSPTH07</td>\n",
       "    </tr>\n",
       "    <tr>\n",
       "      <th>22</th>\n",
       "      <td>0.630798</td>\n",
       "      <td>PCT_NSLP09</td>\n",
       "    </tr>\n",
       "    <tr>\n",
       "      <th>0</th>\n",
       "      <td>0.631879</td>\n",
       "      <td>PCT_LACCESS_POP10</td>\n",
       "    </tr>\n",
       "    <tr>\n",
       "      <th>25</th>\n",
       "      <td>0.684591</td>\n",
       "      <td>PCT_SBP09</td>\n",
       "    </tr>\n",
       "    <tr>\n",
       "      <th>55</th>\n",
       "      <td>0.727122</td>\n",
       "      <td>PCT_18YOUNGER10</td>\n",
       "    </tr>\n",
       "    <tr>\n",
       "      <th>15</th>\n",
       "      <td>0.734428</td>\n",
       "      <td>PCT_SNAP09</td>\n",
       "    </tr>\n",
       "    <tr>\n",
       "      <th>37</th>\n",
       "      <td>0.756805</td>\n",
       "      <td>VEG_FARMS07</td>\n",
       "    </tr>\n",
       "    <tr>\n",
       "      <th>29</th>\n",
       "      <td>0.765795</td>\n",
       "      <td>FOODINSEC_07_09</td>\n",
       "    </tr>\n",
       "    <tr>\n",
       "      <th>33</th>\n",
       "      <td>1.075669</td>\n",
       "      <td>SODA_PRICE10</td>\n",
       "    </tr>\n",
       "    <tr>\n",
       "      <th>34</th>\n",
       "      <td>2.300910</td>\n",
       "      <td>MILK_SODA_PRICE10</td>\n",
       "    </tr>\n",
       "  </tbody>\n",
       "</table>\n",
       "<p>63 rows × 2 columns</p>\n",
       "</div>"
      ],
      "text/plain": [
       "        Coef               Features\n",
       "48 -3.816050          PCT_NHWHITE10\n",
       "50 -3.031816             PCT_HISP10\n",
       "32 -1.837127           MILK_PRICE10\n",
       "49 -1.799479          PCT_NHBLACK10\n",
       "27 -1.296757              PCT_WIC09\n",
       "31 -0.989063  FOODINSEC_CHILD_01_07\n",
       "51 -0.952509          PCT_NHASIAN10\n",
       "52 -0.875175             PCT_NHNA10\n",
       "12 -0.815859               FSRPTH07\n",
       "38 -0.708273       FRESHVEG_FARMS07\n",
       "47 -0.504234                NATAMEN\n",
       "56 -0.483976             MEDHHINC10\n",
       "2  -0.417543    PCT_LACCESS_CHILD10\n",
       "35 -0.320497         PCT_LOCLFARM07\n",
       "1  -0.292844     PCT_LACCESS_LOWI10\n",
       "16 -0.239465       SNAP_PART_RATE10\n",
       "13 -0.239315          PC_FFRSALES07\n",
       "21 -0.233504    SNAP_REPORTSIMPLE10\n",
       "11 -0.200844               FFRPTH07\n",
       "45 -0.199169         FARM_TO_SCHOOL\n",
       "59 -0.184641         CHILDPOVRATE10\n",
       "42 -0.184469          GHVEG_FARMS07\n",
       "43 -0.171987                  CSA07\n",
       "60 -0.150336           PERCHLDPOV10\n",
       "26 -0.144212             PCT_SFSP09\n",
       "46 -0.142938            RECFACPTH07\n",
       "3  -0.140179  PCT_LACCESS_SENIORS10\n",
       "14 -0.138271          PC_FSRSALES07\n",
       "61 -0.119956                METRO13\n",
       "10 -0.093717              WICSPTH08\n",
       "..       ...                    ...\n",
       "54 -0.046566          PCT_65OLDER10\n",
       "8  -0.009409             SPECSPTH07\n",
       "44  0.007225         AGRITRSM_OPS07\n",
       "36  0.010827             FMRKTPTH09\n",
       "40  0.017367          BERRY_FARMS07\n",
       "53  0.054315             PCT_NHPI10\n",
       "28  0.055127            PCT_CACFP09\n",
       "19  0.070651         SNAP_VEHEXCL10\n",
       "30  0.071354        VLFOODSEC_07_09\n",
       "24  0.106565    PCT_REDUCED_LUNCH10\n",
       "62  0.116562              POPLOSS00\n",
       "6   0.120476            SUPERCPTH07\n",
       "4   0.121269     PCT_LACCESS_HHNV10\n",
       "18  0.139968      SNAP_FACEWAIVER10\n",
       "20  0.174846            SNAP_BBCE10\n",
       "57  0.196542              POVRATE10\n",
       "9   0.233625             SNAPSPTH08\n",
       "39  0.234688        ORCHARD_FARMS07\n",
       "17  0.475334            SNAP_OAPP10\n",
       "23  0.491678       PCT_FREE_LUNCH10\n",
       "7   0.543527             CONVSPTH07\n",
       "22  0.630798             PCT_NSLP09\n",
       "0   0.631879      PCT_LACCESS_POP10\n",
       "25  0.684591              PCT_SBP09\n",
       "55  0.727122        PCT_18YOUNGER10\n",
       "15  0.734428             PCT_SNAP09\n",
       "37  0.756805            VEG_FARMS07\n",
       "29  0.765795        FOODINSEC_07_09\n",
       "33  1.075669           SODA_PRICE10\n",
       "34  2.300910      MILK_SODA_PRICE10\n",
       "\n",
       "[63 rows x 2 columns]"
      ]
     },
     "execution_count": 103,
     "metadata": {},
     "output_type": "execute_result"
    }
   ],
   "source": [
    "feature_coefs.sort_values('Coef')"
   ]
  },
  {
   "cell_type": "code",
   "execution_count": 104,
   "metadata": {
    "collapsed": false
   },
   "outputs": [
    {
     "data": {
      "text/plain": [
       "48            PCT_NHWHITE10\n",
       "50               PCT_HISP10\n",
       "34        MILK_SODA_PRICE10\n",
       "32             MILK_PRICE10\n",
       "49            PCT_NHBLACK10\n",
       "27                PCT_WIC09\n",
       "33             SODA_PRICE10\n",
       "31    FOODINSEC_CHILD_01_07\n",
       "51            PCT_NHASIAN10\n",
       "52               PCT_NHNA10\n",
       "12                 FSRPTH07\n",
       "29          FOODINSEC_07_09\n",
       "37              VEG_FARMS07\n",
       "15               PCT_SNAP09\n",
       "55          PCT_18YOUNGER10\n",
       "38         FRESHVEG_FARMS07\n",
       "25                PCT_SBP09\n",
       "0         PCT_LACCESS_POP10\n",
       "22               PCT_NSLP09\n",
       "7                CONVSPTH07\n",
       "Name: Features, dtype: object"
      ]
     },
     "execution_count": 104,
     "metadata": {},
     "output_type": "execute_result"
    }
   ],
   "source": [
    "feature_coefs['sort'] = feature_coefs.Coef.abs()\n",
    "top_20_lasso = feature_coefs.sort_values('sort',ascending=False)['Features'].head(20)\n",
    "feature_coefs.drop(['sort'],axis = 1, inplace=True)\n",
    "top_20_lasso"
   ]
  },
  {
   "cell_type": "code",
   "execution_count": 105,
   "metadata": {
    "collapsed": false
   },
   "outputs": [
    {
     "data": {
      "text/plain": [
       "<matplotlib.text.Text at 0x123082f10>"
      ]
     },
     "execution_count": 105,
     "metadata": {},
     "output_type": "execute_result"
    },
    {
     "data": {
      "image/png": "[encoded data removed]",
      "text/plain": [
       "<matplotlib.figure.Figure at 0x1248ed450>"
      ]
     },
     "metadata": {},
     "output_type": "display_data"
    }
   ],
   "source": [
    "fit = np.polyfit(y_test,lasso.predict(X_test_std),1)\n",
    "fit_fn = np.poly1d(fit) \n",
    "\n",
    "plt.plot(y_test,lasso.predict(X_test_std), 'rd', y_test, fit_fn(y_test), '--k')\n",
    "plt.xlabel('Actual obesity rate, %')\n",
    "plt.ylabel('Predicted obesity rate, %')\n",
    "plt.title('Obesity Rates, %')"
   ]
  },
  {
   "cell_type": "code",
   "execution_count": 106,
   "metadata": {
    "collapsed": false
   },
   "outputs": [],
   "source": [
    "feature_coefs['Coef'] = feature_coefs['Coef'].abs()\n",
    "feature_coefs.sort_values(by=['Coef'],ascending=False,inplace=True)\n",
    "\n",
    "feature_test = feature_coefs.Features.values"
   ]
  },
  {
   "cell_type": "code",
   "execution_count": 107,
   "metadata": {
    "collapsed": false
   },
   "outputs": [
    {
     "data": {
      "text/html": [
       "<div>\n",
       "<table border=\"1\" class=\"dataframe\">\n",
       "  <thead>\n",
       "    <tr style=\"text-align: right;\">\n",
       "      <th></th>\n",
       "      <th>Model</th>\n",
       "      <th>n_features</th>\n",
       "      <th>MSE</th>\n",
       "    </tr>\n",
       "  </thead>\n",
       "  <tbody>\n",
       "    <tr>\n",
       "      <th>5</th>\n",
       "      <td>Random Forest</td>\n",
       "      <td>63</td>\n",
       "      <td>5.553435</td>\n",
       "    </tr>\n",
       "    <tr>\n",
       "      <th>3</th>\n",
       "      <td>Linear Regression _all_features</td>\n",
       "      <td>63</td>\n",
       "      <td>8.619312</td>\n",
       "    </tr>\n",
       "    <tr>\n",
       "      <th>2</th>\n",
       "      <td>Linear Regression</td>\n",
       "      <td>22</td>\n",
       "      <td>7.312342</td>\n",
       "    </tr>\n",
       "    <tr>\n",
       "      <th>1</th>\n",
       "      <td>Linear Regression_no outliers</td>\n",
       "      <td>22</td>\n",
       "      <td>6.296966</td>\n",
       "    </tr>\n",
       "    <tr>\n",
       "      <th>0</th>\n",
       "      <td>Lasso (alpha=0.0001)</td>\n",
       "      <td>63</td>\n",
       "      <td>2.147761</td>\n",
       "    </tr>\n",
       "  </tbody>\n",
       "</table>\n",
       "</div>"
      ],
      "text/plain": [
       "                             Model  n_features       MSE\n",
       "5                    Random Forest          63  5.553435\n",
       "3  Linear Regression _all_features          63  8.619312\n",
       "2                Linear Regression          22  7.312342\n",
       "1    Linear Regression_no outliers          22  6.296966\n",
       "0             Lasso (alpha=0.0001)          63  2.147761"
      ]
     },
     "execution_count": 107,
     "metadata": {},
     "output_type": "execute_result"
    }
   ],
   "source": [
    "Performance"
   ]
  },
  {
   "cell_type": "markdown",
   "metadata": {},
   "source": [
    "## Test variables in each category agains the response variable"
   ]
  },
  {
   "cell_type": "code",
   "execution_count": 108,
   "metadata": {
    "collapsed": true
   },
   "outputs": [],
   "source": [
    "# create lists with variable names for each category\n",
    "access = list(data.columns.values)[0:5]\n",
    "store_avail = list(data.columns.values)[5:11]\n",
    "restaurant_avail = list(data.columns.values)[11:15]\n",
    "food_assist = list(data.columns.values)[15:29]\n",
    "food_insecureity = list(data.columns.values)[29:32]\n",
    "food_price_tax = list(data.columns.values)[32:35]\n",
    "local_foods = list(data.columns.values)[35:46]\n",
    "health_physical = list(data.columns.values)[46:48]\n",
    "socioec = list(data.columns.values)[48:63]\n",
    "\n",
    "categories = [access,store_avail,restaurant_avail,food_assist,food_insecureity,\n",
    "              food_price_tax,local_foods,health_physical,socioec]\n",
    "\n",
    "\n",
    "lasso = Lasso(alpha=0.0001)\n",
    "feature_cols = []\n",
    "MSE_scores=[]\n",
    "\n",
    "for i in categories:\n",
    "    feature_cols = i\n",
    "    \n",
    "    X_train = data[feature_cols]\n",
    "    X_test = data_test[feature_cols]\n",
    "\n",
    "    X_train_std = stdsc.fit_transform(X_train)\n",
    "    X_test_std = stdsc.transform(X_test)\n",
    "    \n",
    "    lasso.fit(X_train_std, y_train)\n",
    "    \n",
    "    score = -np.mean(cross_val_score(lasso, X_test_std, y_test, scoring='neg_mean_squared_error', cv=cv))\n",
    "    MSE_scores.append(score)"
   ]
  },
  {
   "cell_type": "code",
   "execution_count": 109,
   "metadata": {
    "collapsed": false
   },
   "outputs": [
    {
     "data": {
      "text/html": [
       "<div>\n",
       "<table border=\"1\" class=\"dataframe\">\n",
       "  <thead>\n",
       "    <tr style=\"text-align: right;\">\n",
       "      <th></th>\n",
       "      <th>MSE</th>\n",
       "      <th>category</th>\n",
       "    </tr>\n",
       "  </thead>\n",
       "  <tbody>\n",
       "    <tr>\n",
       "      <th>8</th>\n",
       "      <td>9.771889</td>\n",
       "      <td>socioec</td>\n",
       "    </tr>\n",
       "    <tr>\n",
       "      <th>3</th>\n",
       "      <td>10.091103</td>\n",
       "      <td>food_assist</td>\n",
       "    </tr>\n",
       "    <tr>\n",
       "      <th>2</th>\n",
       "      <td>12.909003</td>\n",
       "      <td>restaurant_avail</td>\n",
       "    </tr>\n",
       "    <tr>\n",
       "      <th>1</th>\n",
       "      <td>13.673101</td>\n",
       "      <td>store_avail</td>\n",
       "    </tr>\n",
       "    <tr>\n",
       "      <th>7</th>\n",
       "      <td>14.397064</td>\n",
       "      <td>health_physical</td>\n",
       "    </tr>\n",
       "    <tr>\n",
       "      <th>0</th>\n",
       "      <td>14.490111</td>\n",
       "      <td>access</td>\n",
       "    </tr>\n",
       "    <tr>\n",
       "      <th>6</th>\n",
       "      <td>15.610144</td>\n",
       "      <td>local_foods</td>\n",
       "    </tr>\n",
       "    <tr>\n",
       "      <th>5</th>\n",
       "      <td>16.483936</td>\n",
       "      <td>food_price_tax</td>\n",
       "    </tr>\n",
       "    <tr>\n",
       "      <th>4</th>\n",
       "      <td>16.485364</td>\n",
       "      <td>food_insecureity</td>\n",
       "    </tr>\n",
       "  </tbody>\n",
       "</table>\n",
       "</div>"
      ],
      "text/plain": [
       "         MSE          category\n",
       "8   9.771889           socioec\n",
       "3  10.091103       food_assist\n",
       "2  12.909003  restaurant_avail\n",
       "1  13.673101       store_avail\n",
       "7  14.397064   health_physical\n",
       "0  14.490111            access\n",
       "6  15.610144       local_foods\n",
       "5  16.483936    food_price_tax\n",
       "4  16.485364  food_insecureity"
      ]
     },
     "execution_count": 109,
     "metadata": {},
     "output_type": "execute_result"
    }
   ],
   "source": [
    "categories = ['access','store_avail','restaurant_avail','food_assist','food_insecureity',\n",
    "             'food_price_tax','local_foods','health_physical','socioec']\n",
    "MSE_by_categoty = pd.DataFrame({'category':categories,'MSE':MSE_scores})\n",
    "MSE_by_categoty.sort_values('MSE',ascending = True,inplace = True)\n",
    "MSE_by_categoty"
   ]
  },
  {
   "cell_type": "code",
   "execution_count": 110,
   "metadata": {
    "collapsed": false
   },
   "outputs": [],
   "source": [
    "categories = MSE_by_categoty['category'].values"
   ]
  },
  {
   "cell_type": "code",
   "execution_count": 111,
   "metadata": {
    "collapsed": false
   },
   "outputs": [
    {
     "data": {
      "text/plain": [
       "array(['socioec', 'food_assist', 'restaurant_avail', 'store_avail',\n",
       "       'health_physical', 'access', 'local_foods', 'food_price_tax',\n",
       "       'food_insecureity'], dtype=object)"
      ]
     },
     "execution_count": 111,
     "metadata": {},
     "output_type": "execute_result"
    }
   ],
   "source": [
    "categories"
   ]
  },
  {
   "cell_type": "code",
   "execution_count": 112,
   "metadata": {
    "collapsed": false,
    "scrolled": false
   },
   "outputs": [
    {
     "data": {
      "text/plain": [
       "''"
      ]
     },
     "execution_count": 112,
     "metadata": {},
     "output_type": "execute_result"
    },
    {
     "data": {
      "image/png": "[encoded data removed]",
      "text/plain": [
       "<matplotlib.figure.Figure at 0x1248b1110>"
      ]
     },
     "metadata": {},
     "output_type": "display_data"
    }
   ],
   "source": [
    "plt.figure(figsize = (8,6))\n",
    "\n",
    "plt.barh(np.arange(len(MSE_by_categoty['category'])), MSE_by_categoty['MSE'], color='orange')\n",
    "plt.xlabel('MSE',size=14)\n",
    "plt.yticks(np.arange(len(categories)),categories,size=14)\n",
    "plt.title('Variables Within Each Category',size=20)\n",
    ";"
   ]
  },
  {
   "cell_type": "markdown",
   "metadata": {},
   "source": [
    "## Try Lasso with non-collinear features "
   ]
  },
  {
   "cell_type": "code",
   "execution_count": 113,
   "metadata": {
    "collapsed": true
   },
   "outputs": [],
   "source": [
    "X_train = data[non_col_features] \n",
    "X_test = data_test[non_col_features] "
   ]
  },
  {
   "cell_type": "code",
   "execution_count": 114,
   "metadata": {
    "collapsed": true
   },
   "outputs": [],
   "source": [
    "X_train_std = stdsc.fit_transform(X_train)\n",
    "X_test_std = stdsc.transform(X_test)"
   ]
  },
  {
   "cell_type": "code",
   "execution_count": 115,
   "metadata": {
    "collapsed": true
   },
   "outputs": [],
   "source": [
    "lasso = Lasso(alpha=0.0001)"
   ]
  },
  {
   "cell_type": "code",
   "execution_count": 116,
   "metadata": {
    "collapsed": false
   },
   "outputs": [
    {
     "data": {
      "text/plain": [
       "Lasso(alpha=0.0001, copy_X=True, fit_intercept=True, max_iter=1000,\n",
       "   normalize=False, positive=False, precompute=False, random_state=None,\n",
       "   selection='cyclic', tol=0.0001, warm_start=False)"
      ]
     },
     "execution_count": 116,
     "metadata": {},
     "output_type": "execute_result"
    }
   ],
   "source": [
    "lasso.fit(X_train_std, y_train)"
   ]
  },
  {
   "cell_type": "code",
   "execution_count": 117,
   "metadata": {
    "collapsed": true
   },
   "outputs": [],
   "source": [
    "# get coefficients \n",
    "feature_coefs = pd.DataFrame({'Features':X_train.columns,'Coef':lasso.coef_})"
   ]
  },
  {
   "cell_type": "code",
   "execution_count": 118,
   "metadata": {
    "collapsed": false
   },
   "outputs": [
    {
     "data": {
      "text/plain": [
       "32"
      ]
     },
     "execution_count": 118,
     "metadata": {},
     "output_type": "execute_result"
    }
   ],
   "source": [
    "len(X_train.columns)"
   ]
  },
  {
   "cell_type": "code",
   "execution_count": 119,
   "metadata": {
    "collapsed": false,
    "scrolled": true
   },
   "outputs": [
    {
     "data": {
      "text/html": [
       "<div>\n",
       "<table border=\"1\" class=\"dataframe\">\n",
       "  <thead>\n",
       "    <tr style=\"text-align: right;\">\n",
       "      <th></th>\n",
       "      <th>Coef</th>\n",
       "      <th>Features</th>\n",
       "    </tr>\n",
       "  </thead>\n",
       "  <tbody>\n",
       "    <tr>\n",
       "      <th>26</th>\n",
       "      <td>-1.271035</td>\n",
       "      <td>NATAMEN</td>\n",
       "    </tr>\n",
       "    <tr>\n",
       "      <th>30</th>\n",
       "      <td>-0.494229</td>\n",
       "      <td>PCT_LOCLFARM07</td>\n",
       "    </tr>\n",
       "    <tr>\n",
       "      <th>17</th>\n",
       "      <td>-0.337603</td>\n",
       "      <td>WICSPTH08</td>\n",
       "    </tr>\n",
       "    <tr>\n",
       "      <th>2</th>\n",
       "      <td>-0.301298</td>\n",
       "      <td>FARM_TO_SCHOOL</td>\n",
       "    </tr>\n",
       "    <tr>\n",
       "      <th>7</th>\n",
       "      <td>-0.263683</td>\n",
       "      <td>MEDHHINC10</td>\n",
       "    </tr>\n",
       "    <tr>\n",
       "      <th>23</th>\n",
       "      <td>-0.235023</td>\n",
       "      <td>RECFACPTH07</td>\n",
       "    </tr>\n",
       "    <tr>\n",
       "      <th>15</th>\n",
       "      <td>-0.233475</td>\n",
       "      <td>PCT_SFSP09</td>\n",
       "    </tr>\n",
       "    <tr>\n",
       "      <th>21</th>\n",
       "      <td>-0.200839</td>\n",
       "      <td>GROCPTH07</td>\n",
       "    </tr>\n",
       "    <tr>\n",
       "      <th>20</th>\n",
       "      <td>-0.180413</td>\n",
       "      <td>FFRPTH07</td>\n",
       "    </tr>\n",
       "    <tr>\n",
       "      <th>25</th>\n",
       "      <td>-0.156754</td>\n",
       "      <td>GHVEG_FARMS07</td>\n",
       "    </tr>\n",
       "    <tr>\n",
       "      <th>11</th>\n",
       "      <td>-0.151933</td>\n",
       "      <td>CSA07</td>\n",
       "    </tr>\n",
       "    <tr>\n",
       "      <th>13</th>\n",
       "      <td>-0.130473</td>\n",
       "      <td>SPECSPTH07</td>\n",
       "    </tr>\n",
       "    <tr>\n",
       "      <th>4</th>\n",
       "      <td>-0.127961</td>\n",
       "      <td>AGRITRSM_OPS07</td>\n",
       "    </tr>\n",
       "    <tr>\n",
       "      <th>5</th>\n",
       "      <td>-0.113408</td>\n",
       "      <td>SNAP_FACEWAIVER10</td>\n",
       "    </tr>\n",
       "    <tr>\n",
       "      <th>29</th>\n",
       "      <td>-0.101535</td>\n",
       "      <td>SNAP_BBCE10</td>\n",
       "    </tr>\n",
       "    <tr>\n",
       "      <th>22</th>\n",
       "      <td>-0.077630</td>\n",
       "      <td>SLHOUSE07</td>\n",
       "    </tr>\n",
       "    <tr>\n",
       "      <th>16</th>\n",
       "      <td>0.023459</td>\n",
       "      <td>PCT_NHPI10</td>\n",
       "    </tr>\n",
       "    <tr>\n",
       "      <th>28</th>\n",
       "      <td>0.023670</td>\n",
       "      <td>PERCHLDPOV10</td>\n",
       "    </tr>\n",
       "    <tr>\n",
       "      <th>31</th>\n",
       "      <td>0.034878</td>\n",
       "      <td>PCT_REDUCED_LUNCH10</td>\n",
       "    </tr>\n",
       "    <tr>\n",
       "      <th>3</th>\n",
       "      <td>0.035714</td>\n",
       "      <td>FMRKTPTH09</td>\n",
       "    </tr>\n",
       "    <tr>\n",
       "      <th>10</th>\n",
       "      <td>0.104371</td>\n",
       "      <td>PERPOV10</td>\n",
       "    </tr>\n",
       "    <tr>\n",
       "      <th>18</th>\n",
       "      <td>0.115917</td>\n",
       "      <td>POPLOSS00</td>\n",
       "    </tr>\n",
       "    <tr>\n",
       "      <th>14</th>\n",
       "      <td>0.121914</td>\n",
       "      <td>SNAP_OAPP10</td>\n",
       "    </tr>\n",
       "    <tr>\n",
       "      <th>12</th>\n",
       "      <td>0.127598</td>\n",
       "      <td>ORCHARD_FARMS07</td>\n",
       "    </tr>\n",
       "    <tr>\n",
       "      <th>9</th>\n",
       "      <td>0.136699</td>\n",
       "      <td>METRO13</td>\n",
       "    </tr>\n",
       "    <tr>\n",
       "      <th>8</th>\n",
       "      <td>0.152259</td>\n",
       "      <td>BERRY_FARMS07</td>\n",
       "    </tr>\n",
       "    <tr>\n",
       "      <th>19</th>\n",
       "      <td>0.167201</td>\n",
       "      <td>SNAP_VEHEXCL10</td>\n",
       "    </tr>\n",
       "    <tr>\n",
       "      <th>1</th>\n",
       "      <td>0.189567</td>\n",
       "      <td>SUPERCPTH07</td>\n",
       "    </tr>\n",
       "    <tr>\n",
       "      <th>27</th>\n",
       "      <td>0.197571</td>\n",
       "      <td>SNAP_REPORTSIMPLE10</td>\n",
       "    </tr>\n",
       "    <tr>\n",
       "      <th>24</th>\n",
       "      <td>0.400003</td>\n",
       "      <td>SNAPSPTH08</td>\n",
       "    </tr>\n",
       "    <tr>\n",
       "      <th>6</th>\n",
       "      <td>0.469609</td>\n",
       "      <td>PCT_LACCESS_HHNV10</td>\n",
       "    </tr>\n",
       "    <tr>\n",
       "      <th>0</th>\n",
       "      <td>1.268184</td>\n",
       "      <td>PCT_FREE_LUNCH10</td>\n",
       "    </tr>\n",
       "  </tbody>\n",
       "</table>\n",
       "</div>"
      ],
      "text/plain": [
       "        Coef             Features\n",
       "26 -1.271035              NATAMEN\n",
       "30 -0.494229       PCT_LOCLFARM07\n",
       "17 -0.337603            WICSPTH08\n",
       "2  -0.301298       FARM_TO_SCHOOL\n",
       "7  -0.263683           MEDHHINC10\n",
       "23 -0.235023          RECFACPTH07\n",
       "15 -0.233475           PCT_SFSP09\n",
       "21 -0.200839            GROCPTH07\n",
       "20 -0.180413             FFRPTH07\n",
       "25 -0.156754        GHVEG_FARMS07\n",
       "11 -0.151933                CSA07\n",
       "13 -0.130473           SPECSPTH07\n",
       "4  -0.127961       AGRITRSM_OPS07\n",
       "5  -0.113408    SNAP_FACEWAIVER10\n",
       "29 -0.101535          SNAP_BBCE10\n",
       "22 -0.077630            SLHOUSE07\n",
       "16  0.023459           PCT_NHPI10\n",
       "28  0.023670         PERCHLDPOV10\n",
       "31  0.034878  PCT_REDUCED_LUNCH10\n",
       "3   0.035714           FMRKTPTH09\n",
       "10  0.104371             PERPOV10\n",
       "18  0.115917            POPLOSS00\n",
       "14  0.121914          SNAP_OAPP10\n",
       "12  0.127598      ORCHARD_FARMS07\n",
       "9   0.136699              METRO13\n",
       "8   0.152259        BERRY_FARMS07\n",
       "19  0.167201       SNAP_VEHEXCL10\n",
       "1   0.189567          SUPERCPTH07\n",
       "27  0.197571  SNAP_REPORTSIMPLE10\n",
       "24  0.400003           SNAPSPTH08\n",
       "6   0.469609   PCT_LACCESS_HHNV10\n",
       "0   1.268184     PCT_FREE_LUNCH10"
      ]
     },
     "execution_count": 119,
     "metadata": {},
     "output_type": "execute_result"
    }
   ],
   "source": [
    "feature_coefs.sort_values('Coef')"
   ]
  },
  {
   "cell_type": "code",
   "execution_count": 120,
   "metadata": {
    "collapsed": false
   },
   "outputs": [
    {
     "data": {
      "text/plain": [
       "2.5100314142814404"
      ]
     },
     "execution_count": 120,
     "metadata": {},
     "output_type": "execute_result"
    }
   ],
   "source": [
    "MSE_las_non_col = -np.mean(cross_val_score(lasso, X_test_std, y_test, scoring='neg_mean_absolute_error'))\n",
    "MSE_las_non_col"
   ]
  },
  {
   "cell_type": "code",
   "execution_count": 121,
   "metadata": {
    "collapsed": false
   },
   "outputs": [],
   "source": [
    "Performance.loc[-1] = ['Lasso_non collinear_features', len(X_test.columns), MSE_las_non_col]\n",
    "Performance.index = Performance.index + 1 "
   ]
  },
  {
   "cell_type": "code",
   "execution_count": 122,
   "metadata": {
    "collapsed": false
   },
   "outputs": [
    {
     "data": {
      "text/html": [
       "<div>\n",
       "<table border=\"1\" class=\"dataframe\">\n",
       "  <thead>\n",
       "    <tr style=\"text-align: right;\">\n",
       "      <th></th>\n",
       "      <th>Model</th>\n",
       "      <th>n_features</th>\n",
       "      <th>MSE</th>\n",
       "    </tr>\n",
       "  </thead>\n",
       "  <tbody>\n",
       "    <tr>\n",
       "      <th>1</th>\n",
       "      <td>Lasso (alpha=0.0001)</td>\n",
       "      <td>63</td>\n",
       "      <td>2.147761</td>\n",
       "    </tr>\n",
       "    <tr>\n",
       "      <th>0</th>\n",
       "      <td>Lasso_non collinear_features</td>\n",
       "      <td>32</td>\n",
       "      <td>2.510031</td>\n",
       "    </tr>\n",
       "    <tr>\n",
       "      <th>6</th>\n",
       "      <td>Random Forest</td>\n",
       "      <td>63</td>\n",
       "      <td>5.553435</td>\n",
       "    </tr>\n",
       "    <tr>\n",
       "      <th>2</th>\n",
       "      <td>Linear Regression_no outliers</td>\n",
       "      <td>22</td>\n",
       "      <td>6.296966</td>\n",
       "    </tr>\n",
       "    <tr>\n",
       "      <th>3</th>\n",
       "      <td>Linear Regression</td>\n",
       "      <td>22</td>\n",
       "      <td>7.312342</td>\n",
       "    </tr>\n",
       "    <tr>\n",
       "      <th>4</th>\n",
       "      <td>Linear Regression _all_features</td>\n",
       "      <td>63</td>\n",
       "      <td>8.619312</td>\n",
       "    </tr>\n",
       "  </tbody>\n",
       "</table>\n",
       "</div>"
      ],
      "text/plain": [
       "                             Model  n_features       MSE\n",
       "1             Lasso (alpha=0.0001)          63  2.147761\n",
       "0     Lasso_non collinear_features          32  2.510031\n",
       "6                    Random Forest          63  5.553435\n",
       "2    Linear Regression_no outliers          22  6.296966\n",
       "3                Linear Regression          22  7.312342\n",
       "4  Linear Regression _all_features          63  8.619312"
      ]
     },
     "execution_count": 122,
     "metadata": {},
     "output_type": "execute_result"
    }
   ],
   "source": [
    "Performance.sort_values('MSE')"
   ]
  },
  {
   "cell_type": "markdown",
   "metadata": {
    "collapsed": true
   },
   "source": [
    "## Ridge"
   ]
  },
  {
   "cell_type": "code",
   "execution_count": 123,
   "metadata": {
    "collapsed": true
   },
   "outputs": [],
   "source": [
    "X_train = data.iloc[:,:-1]\n",
    "X_test = data_test.iloc[:,:-1]"
   ]
  },
  {
   "cell_type": "code",
   "execution_count": 124,
   "metadata": {
    "collapsed": true
   },
   "outputs": [],
   "source": [
    "X_train_std = stdsc.fit_transform(X_train)\n",
    "X_test_std = stdsc.transform(X_test)"
   ]
  },
  {
   "cell_type": "code",
   "execution_count": 125,
   "metadata": {
    "collapsed": false
   },
   "outputs": [
    {
     "data": {
      "text/plain": [
       "GridSearchCV(cv=KFold(n_splits=5, random_state=None, shuffle=True),\n",
       "       error_score='raise',\n",
       "       estimator=Ridge(alpha=1.0, copy_X=True, fit_intercept=True, max_iter=None,\n",
       "   normalize=False, random_state=None, solver='auto', tol=0.001),\n",
       "       fit_params={}, iid=True, n_jobs=1,\n",
       "       param_grid={'alpha': array([  1.00000e-04,   1.00200e-01, ...,   9.98999e+01,   1.00000e+02])},\n",
       "       pre_dispatch='2*n_jobs', refit=True, return_train_score=True,\n",
       "       scoring=None, verbose=0)"
      ]
     },
     "execution_count": 125,
     "metadata": {},
     "output_type": "execute_result"
    }
   ],
   "source": [
    "parameters = {'alpha' : np.linspace(0.0001,100,1000)}\n",
    "ridge = Ridge()\n",
    "clf = GridSearchCV(ridge, parameters, cv=cv)\n",
    "clf.fit(X_train_std,y_train)"
   ]
  },
  {
   "cell_type": "code",
   "execution_count": 126,
   "metadata": {
    "collapsed": false
   },
   "outputs": [
    {
     "data": {
      "text/plain": [
       "{'alpha': 0.50059999999999993}"
      ]
     },
     "execution_count": 126,
     "metadata": {},
     "output_type": "execute_result"
    }
   ],
   "source": [
    "# get the best performing combo\n",
    "clf.best_params_"
   ]
  },
  {
   "cell_type": "code",
   "execution_count": 127,
   "metadata": {
    "collapsed": true
   },
   "outputs": [],
   "source": [
    "ridge=Ridge(alpha=0.1002)"
   ]
  },
  {
   "cell_type": "code",
   "execution_count": 128,
   "metadata": {
    "collapsed": false
   },
   "outputs": [
    {
     "data": {
      "text/plain": [
       "Ridge(alpha=0.1002, copy_X=True, fit_intercept=True, max_iter=None,\n",
       "   normalize=False, random_state=None, solver='auto', tol=0.001)"
      ]
     },
     "execution_count": 128,
     "metadata": {},
     "output_type": "execute_result"
    }
   ],
   "source": [
    "ridge.fit(X_train_std, y_train)"
   ]
  },
  {
   "cell_type": "code",
   "execution_count": 129,
   "metadata": {
    "collapsed": false
   },
   "outputs": [
    {
     "data": {
      "text/plain": [
       "2.1469317388068885"
      ]
     },
     "execution_count": 129,
     "metadata": {},
     "output_type": "execute_result"
    }
   ],
   "source": [
    "MSE_ridge = -np.mean(cross_val_score(ridge, X_test_std, y_test, scoring='neg_mean_absolute_error'))\n",
    "MSE_ridge"
   ]
  },
  {
   "cell_type": "code",
   "execution_count": 130,
   "metadata": {
    "collapsed": true
   },
   "outputs": [],
   "source": [
    "Performance.loc[-1] = ['Ridge (alpha=0.1002)', len(X_test.columns), MSE_ridge]\n",
    "Performance.index = Performance.index + 1"
   ]
  },
  {
   "cell_type": "code",
   "execution_count": 131,
   "metadata": {
    "collapsed": false
   },
   "outputs": [
    {
     "data": {
      "text/plain": [
       "<matplotlib.text.Text at 0x124b07fd0>"
      ]
     },
     "execution_count": 131,
     "metadata": {},
     "output_type": "execute_result"
    },
    {
     "data": {
      "image/png": "[encoded data removed]",
      "text/plain": [
       "<matplotlib.figure.Figure at 0x11926fad0>"
      ]
     },
     "metadata": {},
     "output_type": "display_data"
    }
   ],
   "source": [
    "fit = np.polyfit(y_test,ridge.predict(X_test_std),1)\n",
    "fit_fn = np.poly1d(fit) \n",
    "\n",
    "plt.plot(y_test,ridge.predict(X_test_std), 'rd', y_test, fit_fn(y_test), '--k')\n",
    "plt.xlabel('Actual obesity rate, %')\n",
    "plt.ylabel('Predicted obesity rate, %')\n",
    "plt.title('Obesity Rates, %')"
   ]
  },
  {
   "cell_type": "markdown",
   "metadata": {},
   "source": [
    "## PCA"
   ]
  },
  {
   "cell_type": "code",
   "execution_count": 132,
   "metadata": {
    "collapsed": true
   },
   "outputs": [],
   "source": [
    "from sklearn.decomposition import PCA\n",
    "from sklearn.preprocessing import scale"
   ]
  },
  {
   "cell_type": "code",
   "execution_count": 133,
   "metadata": {
    "collapsed": true
   },
   "outputs": [],
   "source": [
    "X_train = data.iloc[:,:-1]\n",
    "X_test = data_test.iloc[:,:-1]"
   ]
  },
  {
   "cell_type": "code",
   "execution_count": 134,
   "metadata": {
    "collapsed": true
   },
   "outputs": [],
   "source": [
    "pca = PCA()"
   ]
  },
  {
   "cell_type": "code",
   "execution_count": 135,
   "metadata": {
    "collapsed": false
   },
   "outputs": [
    {
     "data": {
      "text/plain": [
       "array([[ -3.11230426e+00,  -4.19076243e+00,   2.29468889e-02, ...,\n",
       "         -4.15805945e-02,   2.36438707e-02,   1.72976654e-03],\n",
       "       [  1.40284216e+00,   1.04856716e-01,  -1.70554392e+00, ...,\n",
       "         -7.46759032e-03,  -2.02450663e-02,   4.32248805e-03],\n",
       "       [  1.72403412e+00,  -1.51216080e-01,   1.75383160e-01, ...,\n",
       "         -2.34359747e-02,   1.10521725e-02,  -1.28921237e-02],\n",
       "       ..., \n",
       "       [  3.47220641e+00,   1.34626221e-01,   1.69102871e+00, ...,\n",
       "          3.93688528e-03,  -7.53001705e-02,  -1.47410143e-02],\n",
       "       [ -3.38248234e+00,  -3.05297880e-01,  -1.84982395e+00, ...,\n",
       "         -4.31036114e-02,  -2.52434378e-03,  -1.20508473e-02],\n",
       "       [ -1.36254807e+00,  -3.77291757e-01,   1.64775649e+00, ...,\n",
       "          2.87996732e-01,  -2.55900333e-03,   2.15655269e-02]])"
      ]
     },
     "execution_count": 135,
     "metadata": {},
     "output_type": "execute_result"
    }
   ],
   "source": [
    "pca.fit_transform(scale(X_train))"
   ]
  },
  {
   "cell_type": "code",
   "execution_count": 136,
   "metadata": {
    "collapsed": false,
    "scrolled": true
   },
   "outputs": [
    {
     "name": "stdout",
     "output_type": "stream",
     "text": [
      "Explained Variance: [  1.50465431e-01   1.10956989e-01   7.74457933e-02   5.84997732e-02\n",
      "   4.53849571e-02   3.93998321e-02   3.50934463e-02   3.17378860e-02\n",
      "   2.88428082e-02   2.59716499e-02   2.14134151e-02   1.98489555e-02\n",
      "   1.86999589e-02   1.80784039e-02   1.65408716e-02   1.63807712e-02\n",
      "   1.54448713e-02   1.43758876e-02   1.37634383e-02   1.37121660e-02\n",
      "   1.25087646e-02   1.22682678e-02   1.20903766e-02   1.18212565e-02\n",
      "   1.10812744e-02   1.09088025e-02   1.01575674e-02   9.79239445e-03\n",
      "   9.44663440e-03   9.21956945e-03   9.01208770e-03   8.67801663e-03\n",
      "   8.06082288e-03   7.65484466e-03   7.20695127e-03   6.95379180e-03\n",
      "   6.32662864e-03   6.01057434e-03   5.85349969e-03   5.50725670e-03\n",
      "   5.26425882e-03   5.00994902e-03   4.95275582e-03   4.57200606e-03\n",
      "   4.16585996e-03   4.03474559e-03   3.67606064e-03   3.36412101e-03\n",
      "   2.48625896e-03   1.77875470e-03   1.62755999e-03   1.43574681e-03\n",
      "   1.15099603e-03   9.08638514e-04   8.45113101e-04   6.49553006e-04\n",
      "   3.96986779e-04   3.55609888e-04   3.10134913e-04   2.42373152e-04\n",
      "   1.21622391e-04   2.46235056e-05   9.58350553e-06]\n"
     ]
    }
   ],
   "source": [
    "print(\"Explained Variance: %s\") % (pca.explained_variance_ratio_)"
   ]
  },
  {
   "cell_type": "code",
   "execution_count": 137,
   "metadata": {
    "collapsed": false
   },
   "outputs": [
    {
     "name": "stdout",
     "output_type": "stream",
     "text": [
      "Explained Variance: (% cumulative)\n"
     ]
    },
    {
     "data": {
      "text/plain": [
       "array([  15.05,   26.15,   33.89,   39.74,   44.28,   48.22,   51.73,\n",
       "         54.9 ,   57.78,   60.38,   62.52,   64.5 ,   66.37,   68.18,\n",
       "         69.83,   71.47,   73.01,   74.45,   75.83,   77.2 ,   78.45,\n",
       "         79.68,   80.89,   82.07,   83.18,   84.27,   85.29,   86.27,\n",
       "         87.21,   88.13,   89.03,   89.9 ,   90.71,   91.48,   92.2 ,\n",
       "         92.9 ,   93.53,   94.13,   94.72,   95.27,   95.8 ,   96.3 ,\n",
       "         96.8 ,   97.26,   97.68,   98.08,   98.45,   98.79,   99.04,\n",
       "         99.22,   99.38,   99.52,   99.64,   99.73,   99.81,   99.87,\n",
       "         99.91,   99.95,   99.98,  100.  ,  100.01,  100.01,  100.01])"
      ]
     },
     "execution_count": 137,
     "metadata": {},
     "output_type": "execute_result"
    }
   ],
   "source": [
    "print \"Explained Variance: (% cumulative)\"\n",
    "np.cumsum(np.round(pca.explained_variance_ratio_, decimals=4)*100)"
   ]
  },
  {
   "cell_type": "code",
   "execution_count": 138,
   "metadata": {
    "collapsed": false
   },
   "outputs": [
    {
     "data": {
      "text/plain": [
       "<matplotlib.collections.LineCollection at 0x119288f10>"
      ]
     },
     "execution_count": 138,
     "metadata": {},
     "output_type": "execute_result"
    },
    {
     "data": {
      "image/png": "[encoded data removed]",
      "text/plain": [
       "<matplotlib.figure.Figure at 0x124b07e90>"
      ]
     },
     "metadata": {},
     "output_type": "display_data"
    }
   ],
   "source": [
    "plt.plot(range(63), pca.explained_variance_ratio_)\n",
    "plt.xlabel('Number of principal components')\n",
    "plt.ylabel('Variance')\n",
    "plt.title('Explained Variance Ratio',size=16)\n",
    "plt.vlines(x=10, ymin=0, ymax=0.16,colors='yellow')"
   ]
  },
  {
   "cell_type": "code",
   "execution_count": 139,
   "metadata": {
    "collapsed": true
   },
   "outputs": [],
   "source": [
    "# test lasso with PCA - Mason's advice\n",
    "\n",
    "X_train = data.iloc[:,:-1]\n",
    "X_test = data_test.iloc[:,:-1]\n",
    "\n",
    "X_train_std = stdsc.fit_transform(X_train)\n",
    "X_test_std = stdsc.transform(X_test)"
   ]
  },
  {
   "cell_type": "code",
   "execution_count": 140,
   "metadata": {
    "collapsed": true
   },
   "outputs": [],
   "source": [
    "# to transform X_train and X_test\n",
    "pca = PCA(n_components=10)\n",
    "X_train_transformed = pca.fit_transform(X_train_std)\n",
    "X_test_transformed = pca.transform(X_test_std)"
   ]
  },
  {
   "cell_type": "code",
   "execution_count": 141,
   "metadata": {
    "collapsed": true
   },
   "outputs": [],
   "source": [
    "# now you can fit the lasso and test performance\n",
    "lasso = Lasso(alpha = 0.0001)"
   ]
  },
  {
   "cell_type": "code",
   "execution_count": 142,
   "metadata": {
    "collapsed": false
   },
   "outputs": [
    {
     "data": {
      "text/plain": [
       "Lasso(alpha=0.0001, copy_X=True, fit_intercept=True, max_iter=1000,\n",
       "   normalize=False, positive=False, precompute=False, random_state=None,\n",
       "   selection='cyclic', tol=0.0001, warm_start=False)"
      ]
     },
     "execution_count": 142,
     "metadata": {},
     "output_type": "execute_result"
    }
   ],
   "source": [
    "lasso.fit(X_train_transformed, y_train)"
   ]
  },
  {
   "cell_type": "code",
   "execution_count": 143,
   "metadata": {
    "collapsed": false
   },
   "outputs": [
    {
     "data": {
      "text/plain": [
       "7.3273895440527834"
      ]
     },
     "execution_count": 143,
     "metadata": {},
     "output_type": "execute_result"
    }
   ],
   "source": [
    "MSE_pca_lasso_train = -np.mean(cross_val_score(lasso, X_train_transformed, y_train, scoring='neg_mean_squared_error', cv=cv))\n",
    "MSE_pca_lasso_train"
   ]
  },
  {
   "cell_type": "code",
   "execution_count": 144,
   "metadata": {
    "collapsed": false
   },
   "outputs": [
    {
     "data": {
      "text/plain": [
       "9.2843922475718923"
      ]
     },
     "execution_count": 144,
     "metadata": {},
     "output_type": "execute_result"
    }
   ],
   "source": [
    "MSE_pca_lasso = -np.mean(cross_val_score(lasso, X_test_transformed, y_test, scoring='neg_mean_squared_error', cv=cv))\n",
    "MSE_pca_lasso"
   ]
  },
  {
   "cell_type": "code",
   "execution_count": 145,
   "metadata": {
    "collapsed": false
   },
   "outputs": [],
   "source": [
    "Performance.loc[-1] = ['Principal Component Lasso', len(X_test_transformed), MSE_pca_lasso]\n",
    "Performance.index = Performance.index + 1 "
   ]
  },
  {
   "cell_type": "code",
   "execution_count": 146,
   "metadata": {
    "collapsed": false
   },
   "outputs": [
    {
     "data": {
      "text/plain": [
       "<matplotlib.text.Text at 0x1195b1190>"
      ]
     },
     "execution_count": 146,
     "metadata": {},
     "output_type": "execute_result"
    },
    {
     "data": {
      "image/png": "[encoded data removed]",
      "text/plain": [
       "<matplotlib.figure.Figure at 0x11928f7d0>"
      ]
     },
     "metadata": {},
     "output_type": "display_data"
    }
   ],
   "source": [
    "fit = np.polyfit(y_test,lasso.predict(X_test_transformed),1)\n",
    "fit_fn = np.poly1d(fit) \n",
    "\n",
    "plt.plot(y_test,lasso.predict(X_test_transformed), 'rd', y_test, fit_fn(y_test), '--k')\n",
    "plt.xlabel('Actual obesity rate, %')\n",
    "plt.ylabel('Predicted obesity rate, %')\n",
    "plt.title('Obesity Rates, %')"
   ]
  },
  {
   "cell_type": "markdown",
   "metadata": {},
   "source": [
    "## Feature selection tests"
   ]
  },
  {
   "cell_type": "markdown",
   "metadata": {},
   "source": [
    "## Recursive Feature Elimination for Linear Regression"
   ]
  },
  {
   "cell_type": "code",
   "execution_count": 147,
   "metadata": {
    "collapsed": false
   },
   "outputs": [],
   "source": [
    "from sklearn.feature_selection import RFE\n",
    "# load data\n",
    "\n",
    "X_train = data.iloc[:,:-1]\n",
    "X_test = data_test.iloc[:,:-1]\n",
    "\n",
    "X_train_std = stdsc.fit_transform(X_train)\n",
    "X_test_std = stdsc.transform(X_test)\n",
    "\n",
    "# feature extraction\n",
    "scores = []\n",
    "model = LinearRegression()\n",
    "for i in range(1,64):\n",
    "    rfe = RFE(model, i)\n",
    "    fit = rfe.fit(X_train_std, y_train)\n",
    "    score = -np.mean(cross_val_score(rfe, X_train_std, y_train, scoring='neg_mean_squared_error', cv=cv))\n",
    "    scores.append(score)"
   ]
  },
  {
   "cell_type": "code",
   "execution_count": 148,
   "metadata": {
    "collapsed": true
   },
   "outputs": [],
   "source": [
    "scores = pd.DataFrame(scores, index=range(1,64),columns=[\"MSE\"])\n",
    "scores.index.name = 'N of Features'"
   ]
  },
  {
   "cell_type": "code",
   "execution_count": 149,
   "metadata": {
    "collapsed": false
   },
   "outputs": [
    {
     "data": {
      "text/plain": [
       "<matplotlib.text.Text at 0x123222650>"
      ]
     },
     "execution_count": 149,
     "metadata": {},
     "output_type": "execute_result"
    },
    {
     "data": {
      "image/png": "[encoded data removed]",
      "text/plain": [
       "<matplotlib.figure.Figure at 0x124ca2750>"
      ]
     },
     "metadata": {},
     "output_type": "display_data"
    }
   ],
   "source": [
    "plt.plot(scores.index, scores.MSE)\n",
    "plt.xlabel('N of Features')\n",
    "plt.ylabel('MSE')\n",
    "plt.title('N of Features vs. MSE',size=14)"
   ]
  },
  {
   "cell_type": "code",
   "execution_count": 169,
   "metadata": {
    "collapsed": false
   },
   "outputs": [],
   "source": [
    "feature_ranks = rfe.ranking_"
   ]
  },
  {
   "cell_type": "code",
   "execution_count": 171,
   "metadata": {
    "collapsed": false,
    "scrolled": true
   },
   "outputs": [
    {
     "data": {
      "text/html": [
       "<div>\n",
       "<table border=\"1\" class=\"dataframe\">\n",
       "  <thead>\n",
       "    <tr style=\"text-align: right;\">\n",
       "      <th></th>\n",
       "      <th>Feature</th>\n",
       "      <th>Rank</th>\n",
       "    </tr>\n",
       "  </thead>\n",
       "  <tbody>\n",
       "    <tr>\n",
       "      <th>31</th>\n",
       "      <td>FOODINSEC_CHILD_01_07</td>\n",
       "      <td>1</td>\n",
       "    </tr>\n",
       "    <tr>\n",
       "      <th>27</th>\n",
       "      <td>PCT_WIC09</td>\n",
       "      <td>1</td>\n",
       "    </tr>\n",
       "    <tr>\n",
       "      <th>29</th>\n",
       "      <td>FOODINSEC_07_09</td>\n",
       "      <td>1</td>\n",
       "    </tr>\n",
       "    <tr>\n",
       "      <th>17</th>\n",
       "      <td>SNAP_OAPP10</td>\n",
       "      <td>1</td>\n",
       "    </tr>\n",
       "    <tr>\n",
       "      <th>15</th>\n",
       "      <td>PCT_SNAP09</td>\n",
       "      <td>1</td>\n",
       "    </tr>\n",
       "    <tr>\n",
       "      <th>35</th>\n",
       "      <td>PCT_LOCLFARM07</td>\n",
       "      <td>1</td>\n",
       "    </tr>\n",
       "    <tr>\n",
       "      <th>37</th>\n",
       "      <td>VEG_FARMS07</td>\n",
       "      <td>1</td>\n",
       "    </tr>\n",
       "    <tr>\n",
       "      <th>12</th>\n",
       "      <td>FSRPTH07</td>\n",
       "      <td>1</td>\n",
       "    </tr>\n",
       "    <tr>\n",
       "      <th>22</th>\n",
       "      <td>PCT_NSLP09</td>\n",
       "      <td>1</td>\n",
       "    </tr>\n",
       "    <tr>\n",
       "      <th>47</th>\n",
       "      <td>NATAMEN</td>\n",
       "      <td>1</td>\n",
       "    </tr>\n",
       "    <tr>\n",
       "      <th>38</th>\n",
       "      <td>FRESHVEG_FARMS07</td>\n",
       "      <td>1</td>\n",
       "    </tr>\n",
       "    <tr>\n",
       "      <th>49</th>\n",
       "      <td>PCT_NHBLACK10</td>\n",
       "      <td>1</td>\n",
       "    </tr>\n",
       "    <tr>\n",
       "      <th>7</th>\n",
       "      <td>CONVSPTH07</td>\n",
       "      <td>1</td>\n",
       "    </tr>\n",
       "    <tr>\n",
       "      <th>50</th>\n",
       "      <td>PCT_HISP10</td>\n",
       "      <td>1</td>\n",
       "    </tr>\n",
       "    <tr>\n",
       "      <th>51</th>\n",
       "      <td>PCT_NHASIAN10</td>\n",
       "      <td>1</td>\n",
       "    </tr>\n",
       "    <tr>\n",
       "      <th>52</th>\n",
       "      <td>PCT_NHNA10</td>\n",
       "      <td>1</td>\n",
       "    </tr>\n",
       "    <tr>\n",
       "      <th>55</th>\n",
       "      <td>PCT_18YOUNGER10</td>\n",
       "      <td>1</td>\n",
       "    </tr>\n",
       "    <tr>\n",
       "      <th>56</th>\n",
       "      <td>MEDHHINC10</td>\n",
       "      <td>1</td>\n",
       "    </tr>\n",
       "    <tr>\n",
       "      <th>48</th>\n",
       "      <td>PCT_NHWHITE10</td>\n",
       "      <td>1</td>\n",
       "    </tr>\n",
       "    <tr>\n",
       "      <th>23</th>\n",
       "      <td>PCT_FREE_LUNCH10</td>\n",
       "      <td>1</td>\n",
       "    </tr>\n",
       "    <tr>\n",
       "      <th>34</th>\n",
       "      <td>MILK_SODA_PRICE10</td>\n",
       "      <td>2</td>\n",
       "    </tr>\n",
       "    <tr>\n",
       "      <th>33</th>\n",
       "      <td>SODA_PRICE10</td>\n",
       "      <td>3</td>\n",
       "    </tr>\n",
       "    <tr>\n",
       "      <th>32</th>\n",
       "      <td>MILK_PRICE10</td>\n",
       "      <td>4</td>\n",
       "    </tr>\n",
       "    <tr>\n",
       "      <th>2</th>\n",
       "      <td>PCT_LACCESS_CHILD10</td>\n",
       "      <td>5</td>\n",
       "    </tr>\n",
       "    <tr>\n",
       "      <th>0</th>\n",
       "      <td>PCT_LACCESS_POP10</td>\n",
       "      <td>6</td>\n",
       "    </tr>\n",
       "    <tr>\n",
       "      <th>25</th>\n",
       "      <td>PCT_SBP09</td>\n",
       "      <td>7</td>\n",
       "    </tr>\n",
       "    <tr>\n",
       "      <th>21</th>\n",
       "      <td>SNAP_REPORTSIMPLE10</td>\n",
       "      <td>8</td>\n",
       "    </tr>\n",
       "    <tr>\n",
       "      <th>13</th>\n",
       "      <td>PC_FFRSALES07</td>\n",
       "      <td>9</td>\n",
       "    </tr>\n",
       "    <tr>\n",
       "      <th>42</th>\n",
       "      <td>GHVEG_FARMS07</td>\n",
       "      <td>10</td>\n",
       "    </tr>\n",
       "    <tr>\n",
       "      <th>16</th>\n",
       "      <td>SNAP_PART_RATE10</td>\n",
       "      <td>11</td>\n",
       "    </tr>\n",
       "    <tr>\n",
       "      <th>...</th>\n",
       "      <td>...</td>\n",
       "      <td>...</td>\n",
       "    </tr>\n",
       "    <tr>\n",
       "      <th>59</th>\n",
       "      <td>CHILDPOVRATE10</td>\n",
       "      <td>15</td>\n",
       "    </tr>\n",
       "    <tr>\n",
       "      <th>9</th>\n",
       "      <td>SNAPSPTH08</td>\n",
       "      <td>16</td>\n",
       "    </tr>\n",
       "    <tr>\n",
       "      <th>57</th>\n",
       "      <td>POVRATE10</td>\n",
       "      <td>17</td>\n",
       "    </tr>\n",
       "    <tr>\n",
       "      <th>60</th>\n",
       "      <td>PERCHLDPOV10</td>\n",
       "      <td>18</td>\n",
       "    </tr>\n",
       "    <tr>\n",
       "      <th>61</th>\n",
       "      <td>METRO13</td>\n",
       "      <td>19</td>\n",
       "    </tr>\n",
       "    <tr>\n",
       "      <th>3</th>\n",
       "      <td>PCT_LACCESS_SENIORS10</td>\n",
       "      <td>20</td>\n",
       "    </tr>\n",
       "    <tr>\n",
       "      <th>39</th>\n",
       "      <td>ORCHARD_FARMS07</td>\n",
       "      <td>21</td>\n",
       "    </tr>\n",
       "    <tr>\n",
       "      <th>43</th>\n",
       "      <td>CSA07</td>\n",
       "      <td>22</td>\n",
       "    </tr>\n",
       "    <tr>\n",
       "      <th>20</th>\n",
       "      <td>SNAP_BBCE10</td>\n",
       "      <td>23</td>\n",
       "    </tr>\n",
       "    <tr>\n",
       "      <th>18</th>\n",
       "      <td>SNAP_FACEWAIVER10</td>\n",
       "      <td>24</td>\n",
       "    </tr>\n",
       "    <tr>\n",
       "      <th>26</th>\n",
       "      <td>PCT_SFSP09</td>\n",
       "      <td>25</td>\n",
       "    </tr>\n",
       "    <tr>\n",
       "      <th>4</th>\n",
       "      <td>PCT_LACCESS_HHNV10</td>\n",
       "      <td>26</td>\n",
       "    </tr>\n",
       "    <tr>\n",
       "      <th>46</th>\n",
       "      <td>RECFACPTH07</td>\n",
       "      <td>27</td>\n",
       "    </tr>\n",
       "    <tr>\n",
       "      <th>6</th>\n",
       "      <td>SUPERCPTH07</td>\n",
       "      <td>28</td>\n",
       "    </tr>\n",
       "    <tr>\n",
       "      <th>62</th>\n",
       "      <td>POPLOSS00</td>\n",
       "      <td>29</td>\n",
       "    </tr>\n",
       "    <tr>\n",
       "      <th>10</th>\n",
       "      <td>WICSPTH08</td>\n",
       "      <td>30</td>\n",
       "    </tr>\n",
       "    <tr>\n",
       "      <th>14</th>\n",
       "      <td>PC_FSRSALES07</td>\n",
       "      <td>31</td>\n",
       "    </tr>\n",
       "    <tr>\n",
       "      <th>24</th>\n",
       "      <td>PCT_REDUCED_LUNCH10</td>\n",
       "      <td>32</td>\n",
       "    </tr>\n",
       "    <tr>\n",
       "      <th>5</th>\n",
       "      <td>GROCPTH07</td>\n",
       "      <td>33</td>\n",
       "    </tr>\n",
       "    <tr>\n",
       "      <th>58</th>\n",
       "      <td>PERPOV10</td>\n",
       "      <td>34</td>\n",
       "    </tr>\n",
       "    <tr>\n",
       "      <th>41</th>\n",
       "      <td>SLHOUSE07</td>\n",
       "      <td>35</td>\n",
       "    </tr>\n",
       "    <tr>\n",
       "      <th>19</th>\n",
       "      <td>SNAP_VEHEXCL10</td>\n",
       "      <td>36</td>\n",
       "    </tr>\n",
       "    <tr>\n",
       "      <th>53</th>\n",
       "      <td>PCT_NHPI10</td>\n",
       "      <td>37</td>\n",
       "    </tr>\n",
       "    <tr>\n",
       "      <th>54</th>\n",
       "      <td>PCT_65OLDER10</td>\n",
       "      <td>38</td>\n",
       "    </tr>\n",
       "    <tr>\n",
       "      <th>28</th>\n",
       "      <td>PCT_CACFP09</td>\n",
       "      <td>39</td>\n",
       "    </tr>\n",
       "    <tr>\n",
       "      <th>30</th>\n",
       "      <td>VLFOODSEC_07_09</td>\n",
       "      <td>40</td>\n",
       "    </tr>\n",
       "    <tr>\n",
       "      <th>36</th>\n",
       "      <td>FMRKTPTH09</td>\n",
       "      <td>41</td>\n",
       "    </tr>\n",
       "    <tr>\n",
       "      <th>8</th>\n",
       "      <td>SPECSPTH07</td>\n",
       "      <td>42</td>\n",
       "    </tr>\n",
       "    <tr>\n",
       "      <th>44</th>\n",
       "      <td>AGRITRSM_OPS07</td>\n",
       "      <td>43</td>\n",
       "    </tr>\n",
       "    <tr>\n",
       "      <th>40</th>\n",
       "      <td>BERRY_FARMS07</td>\n",
       "      <td>44</td>\n",
       "    </tr>\n",
       "  </tbody>\n",
       "</table>\n",
       "<p>63 rows × 2 columns</p>\n",
       "</div>"
      ],
      "text/plain": [
       "                  Feature  Rank\n",
       "31  FOODINSEC_CHILD_01_07     1\n",
       "27              PCT_WIC09     1\n",
       "29        FOODINSEC_07_09     1\n",
       "17            SNAP_OAPP10     1\n",
       "15             PCT_SNAP09     1\n",
       "35         PCT_LOCLFARM07     1\n",
       "37            VEG_FARMS07     1\n",
       "12               FSRPTH07     1\n",
       "22             PCT_NSLP09     1\n",
       "47                NATAMEN     1\n",
       "38       FRESHVEG_FARMS07     1\n",
       "49          PCT_NHBLACK10     1\n",
       "7              CONVSPTH07     1\n",
       "50             PCT_HISP10     1\n",
       "51          PCT_NHASIAN10     1\n",
       "52             PCT_NHNA10     1\n",
       "55        PCT_18YOUNGER10     1\n",
       "56             MEDHHINC10     1\n",
       "48          PCT_NHWHITE10     1\n",
       "23       PCT_FREE_LUNCH10     1\n",
       "34      MILK_SODA_PRICE10     2\n",
       "33           SODA_PRICE10     3\n",
       "32           MILK_PRICE10     4\n",
       "2     PCT_LACCESS_CHILD10     5\n",
       "0       PCT_LACCESS_POP10     6\n",
       "25              PCT_SBP09     7\n",
       "21    SNAP_REPORTSIMPLE10     8\n",
       "13          PC_FFRSALES07     9\n",
       "42          GHVEG_FARMS07    10\n",
       "16       SNAP_PART_RATE10    11\n",
       "..                    ...   ...\n",
       "59         CHILDPOVRATE10    15\n",
       "9              SNAPSPTH08    16\n",
       "57              POVRATE10    17\n",
       "60           PERCHLDPOV10    18\n",
       "61                METRO13    19\n",
       "3   PCT_LACCESS_SENIORS10    20\n",
       "39        ORCHARD_FARMS07    21\n",
       "43                  CSA07    22\n",
       "20            SNAP_BBCE10    23\n",
       "18      SNAP_FACEWAIVER10    24\n",
       "26             PCT_SFSP09    25\n",
       "4      PCT_LACCESS_HHNV10    26\n",
       "46            RECFACPTH07    27\n",
       "6             SUPERCPTH07    28\n",
       "62              POPLOSS00    29\n",
       "10              WICSPTH08    30\n",
       "14          PC_FSRSALES07    31\n",
       "24    PCT_REDUCED_LUNCH10    32\n",
       "5               GROCPTH07    33\n",
       "58               PERPOV10    34\n",
       "41              SLHOUSE07    35\n",
       "19         SNAP_VEHEXCL10    36\n",
       "53             PCT_NHPI10    37\n",
       "54          PCT_65OLDER10    38\n",
       "28            PCT_CACFP09    39\n",
       "30        VLFOODSEC_07_09    40\n",
       "36             FMRKTPTH09    41\n",
       "8              SPECSPTH07    42\n",
       "44         AGRITRSM_OPS07    43\n",
       "40          BERRY_FARMS07    44\n",
       "\n",
       "[63 rows x 2 columns]"
      ]
     },
     "execution_count": 171,
     "metadata": {},
     "output_type": "execute_result"
    }
   ],
   "source": [
    "ranked_features = pd.DataFrame({'Feature':X_train.columns,'Rank':feature_ranks})\n",
    "ranked_features.sort_values('Rank',ascending=True,inplace=True)\n",
    "ranked_features"
   ]
  },
  {
   "cell_type": "code",
   "execution_count": 172,
   "metadata": {
    "collapsed": false
   },
   "outputs": [
    {
     "data": {
      "text/plain": [
       "Feature    FOODINSEC_CHILD_01_07PCT_WIC09FOODINSEC_07_09S...\n",
       "Rank                                                      20\n",
       "dtype: object"
      ]
     },
     "execution_count": 172,
     "metadata": {},
     "output_type": "execute_result"
    }
   ],
   "source": [
    "ranked_features[ranked_features.Rank<=1].sum()"
   ]
  },
  {
   "cell_type": "code",
   "execution_count": 173,
   "metadata": {
    "collapsed": true
   },
   "outputs": [],
   "source": [
    "top_features = ranked_features[ranked_features.Rank<=1]['Feature'].values"
   ]
  },
  {
   "cell_type": "code",
   "execution_count": 192,
   "metadata": {
    "collapsed": false
   },
   "outputs": [
    {
     "data": {
      "text/plain": [
       "31    FOODINSEC_CHILD_01_07\n",
       "27                PCT_WIC09\n",
       "29          FOODINSEC_07_09\n",
       "17              SNAP_OAPP10\n",
       "15               PCT_SNAP09\n",
       "35           PCT_LOCLFARM07\n",
       "37              VEG_FARMS07\n",
       "12                 FSRPTH07\n",
       "22               PCT_NSLP09\n",
       "47                  NATAMEN\n",
       "38         FRESHVEG_FARMS07\n",
       "49            PCT_NHBLACK10\n",
       "7                CONVSPTH07\n",
       "50               PCT_HISP10\n",
       "51            PCT_NHASIAN10\n",
       "52               PCT_NHNA10\n",
       "55          PCT_18YOUNGER10\n",
       "56               MEDHHINC10\n",
       "48            PCT_NHWHITE10\n",
       "23         PCT_FREE_LUNCH10\n",
       "Name: Feature, dtype: object"
      ]
     },
     "execution_count": 192,
     "metadata": {},
     "output_type": "execute_result"
    }
   ],
   "source": [
    "ranked_features[ranked_features.Rank<=1]['Feature']"
   ]
  },
  {
   "cell_type": "code",
   "execution_count": 175,
   "metadata": {
    "collapsed": true
   },
   "outputs": [],
   "source": [
    "# test lasso with top features\n",
    "X_train = data[top_features]\n",
    "X_test = data_test[top_features]"
   ]
  },
  {
   "cell_type": "code",
   "execution_count": 176,
   "metadata": {
    "collapsed": false
   },
   "outputs": [
    {
     "data": {
      "text/plain": [
       "GridSearchCV(cv=KFold(n_splits=5, random_state=None, shuffle=True),\n",
       "       error_score='raise',\n",
       "       estimator=Ridge(alpha=1.0, copy_X=True, fit_intercept=True, max_iter=None,\n",
       "   normalize=False, random_state=None, solver='auto', tol=0.001),\n",
       "       fit_params={}, iid=True, n_jobs=1,\n",
       "       param_grid={'alpha': array([  1.00000e-04,   1.00200e-01, ...,   9.98999e+01,   1.00000e+02])},\n",
       "       pre_dispatch='2*n_jobs', refit=True, return_train_score=True,\n",
       "       scoring=None, verbose=0)"
      ]
     },
     "execution_count": 176,
     "metadata": {},
     "output_type": "execute_result"
    }
   ],
   "source": [
    "parameters = {'alpha' : np.linspace(0.0001,100,1000)}\n",
    "ridge = Ridge()\n",
    "clf = GridSearchCV(ridge, parameters, cv=cv)\n",
    "clf.fit(X_train_std,y_train)"
   ]
  },
  {
   "cell_type": "code",
   "execution_count": 177,
   "metadata": {
    "collapsed": false
   },
   "outputs": [
    {
     "data": {
      "text/plain": [
       "{'alpha': 0.20029999999999998}"
      ]
     },
     "execution_count": 177,
     "metadata": {},
     "output_type": "execute_result"
    }
   ],
   "source": [
    "# get the best performing combo\n",
    "clf.best_params_"
   ]
  },
  {
   "cell_type": "code",
   "execution_count": 178,
   "metadata": {
    "collapsed": true
   },
   "outputs": [],
   "source": [
    "ridge = Ridge(alpha=0.1002)"
   ]
  },
  {
   "cell_type": "code",
   "execution_count": 179,
   "metadata": {
    "collapsed": false
   },
   "outputs": [
    {
     "data": {
      "text/plain": [
       "Ridge(alpha=0.1002, copy_X=True, fit_intercept=True, max_iter=None,\n",
       "   normalize=False, random_state=None, solver='auto', tol=0.001)"
      ]
     },
     "execution_count": 179,
     "metadata": {},
     "output_type": "execute_result"
    }
   ],
   "source": [
    "ridge.fit(X_train_std,y_train)"
   ]
  },
  {
   "cell_type": "code",
   "execution_count": 180,
   "metadata": {
    "collapsed": false
   },
   "outputs": [
    {
     "data": {
      "text/plain": [
       "2.1469317388068885"
      ]
     },
     "execution_count": 180,
     "metadata": {},
     "output_type": "execute_result"
    }
   ],
   "source": [
    "MSE_ridge_rfe = -np.mean(cross_val_score(ridge, X_test_std, y_test, scoring='neg_mean_absolute_error'))\n",
    "MSE_ridge_rfe"
   ]
  },
  {
   "cell_type": "code",
   "execution_count": 181,
   "metadata": {
    "collapsed": false
   },
   "outputs": [
    {
     "data": {
      "text/plain": [
       "<matplotlib.text.Text at 0x125835ad0>"
      ]
     },
     "execution_count": 181,
     "metadata": {},
     "output_type": "execute_result"
    },
    {
     "data": {
      "image/png": "[encoded data removed]",
      "text/plain": [
       "<matplotlib.figure.Figure at 0x1256083d0>"
      ]
     },
     "metadata": {},
     "output_type": "display_data"
    }
   ],
   "source": [
    "fit = np.polyfit(y_test,ridge.predict(X_test_std),1)\n",
    "fit_fn = np.poly1d(fit) \n",
    "\n",
    "plt.plot(y_test,ridge.predict(X_test_std), 'rd', y_test, fit_fn(y_test), '--k')\n",
    "plt.xlabel('Actual obesity rate, %')\n",
    "plt.ylabel('Predicted obesity rate, %')\n",
    "plt.title('Obesity Rates, %')"
   ]
  },
  {
   "cell_type": "code",
   "execution_count": 182,
   "metadata": {
    "collapsed": true
   },
   "outputs": [],
   "source": [
    "# re-load data\n",
    "\n",
    "X_train = data.iloc[:,:-1]\n",
    "X_test = data_test.iloc[:,:-1]\n",
    "\n",
    "X_train_std = stdsc.fit_transform(X_train)\n",
    "X_test_std = stdsc.transform(X_test)"
   ]
  },
  {
   "cell_type": "code",
   "execution_count": 183,
   "metadata": {
    "collapsed": true
   },
   "outputs": [],
   "source": [
    "model = LinearRegression()"
   ]
  },
  {
   "cell_type": "code",
   "execution_count": 184,
   "metadata": {
    "collapsed": true
   },
   "outputs": [],
   "source": [
    "# run the model with number of features = 20\n",
    "rfe = RFE(model,20)\n",
    "fit = rfe.fit(X_train_std, y_train)"
   ]
  },
  {
   "cell_type": "code",
   "execution_count": 185,
   "metadata": {
    "collapsed": false
   },
   "outputs": [
    {
     "data": {
      "text/plain": [
       "2.2372858271316174"
      ]
     },
     "execution_count": 185,
     "metadata": {},
     "output_type": "execute_result"
    }
   ],
   "source": [
    "MSE_rfe = -np.mean(cross_val_score(rfe, X_test_std, y_test, scoring='neg_mean_absolute_error'))\n",
    "MSE_rfe"
   ]
  },
  {
   "cell_type": "code",
   "execution_count": 186,
   "metadata": {
    "collapsed": true
   },
   "outputs": [],
   "source": [
    "Performance.loc[-1] = ['Recursive feature elemination_lr', len(X_test.columns), MSE_rfe]\n",
    "Performance.index = Performance.index + 1 "
   ]
  },
  {
   "cell_type": "code",
   "execution_count": 187,
   "metadata": {
    "collapsed": false
   },
   "outputs": [
    {
     "data": {
      "text/html": [
       "<div>\n",
       "<table border=\"1\" class=\"dataframe\">\n",
       "  <thead>\n",
       "    <tr style=\"text-align: right;\">\n",
       "      <th></th>\n",
       "      <th>Model</th>\n",
       "      <th>n_features</th>\n",
       "      <th>MSE</th>\n",
       "    </tr>\n",
       "  </thead>\n",
       "  <tbody>\n",
       "    <tr>\n",
       "      <th>3</th>\n",
       "      <td>Ridge (alpha=0.1002)</td>\n",
       "      <td>63</td>\n",
       "      <td>2.146932</td>\n",
       "    </tr>\n",
       "    <tr>\n",
       "      <th>5</th>\n",
       "      <td>Lasso (alpha=0.0001)</td>\n",
       "      <td>63</td>\n",
       "      <td>2.147761</td>\n",
       "    </tr>\n",
       "    <tr>\n",
       "      <th>1</th>\n",
       "      <td>Recursive feature elemination_lr</td>\n",
       "      <td>63</td>\n",
       "      <td>2.237286</td>\n",
       "    </tr>\n",
       "    <tr>\n",
       "      <th>0</th>\n",
       "      <td>Recursive feature elemination_lr</td>\n",
       "      <td>63</td>\n",
       "      <td>2.237286</td>\n",
       "    </tr>\n",
       "    <tr>\n",
       "      <th>4</th>\n",
       "      <td>Lasso_non collinear_features</td>\n",
       "      <td>32</td>\n",
       "      <td>2.510031</td>\n",
       "    </tr>\n",
       "    <tr>\n",
       "      <th>10</th>\n",
       "      <td>Random Forest</td>\n",
       "      <td>63</td>\n",
       "      <td>5.553435</td>\n",
       "    </tr>\n",
       "    <tr>\n",
       "      <th>6</th>\n",
       "      <td>Linear Regression_no outliers</td>\n",
       "      <td>22</td>\n",
       "      <td>6.296966</td>\n",
       "    </tr>\n",
       "    <tr>\n",
       "      <th>7</th>\n",
       "      <td>Linear Regression</td>\n",
       "      <td>22</td>\n",
       "      <td>7.312342</td>\n",
       "    </tr>\n",
       "    <tr>\n",
       "      <th>8</th>\n",
       "      <td>Linear Regression _all_features</td>\n",
       "      <td>63</td>\n",
       "      <td>8.619312</td>\n",
       "    </tr>\n",
       "    <tr>\n",
       "      <th>2</th>\n",
       "      <td>Principal Component Lasso</td>\n",
       "      <td>785</td>\n",
       "      <td>9.284392</td>\n",
       "    </tr>\n",
       "  </tbody>\n",
       "</table>\n",
       "</div>"
      ],
      "text/plain": [
       "                               Model  n_features       MSE\n",
       "3               Ridge (alpha=0.1002)          63  2.146932\n",
       "5               Lasso (alpha=0.0001)          63  2.147761\n",
       "1   Recursive feature elemination_lr          63  2.237286\n",
       "0   Recursive feature elemination_lr          63  2.237286\n",
       "4       Lasso_non collinear_features          32  2.510031\n",
       "10                     Random Forest          63  5.553435\n",
       "6      Linear Regression_no outliers          22  6.296966\n",
       "7                  Linear Regression          22  7.312342\n",
       "8    Linear Regression _all_features          63  8.619312\n",
       "2          Principal Component Lasso         785  9.284392"
      ]
     },
     "execution_count": 187,
     "metadata": {},
     "output_type": "execute_result"
    }
   ],
   "source": [
    "Performance.sort_values('MSE',ascending=True,inplace=True)\n",
    "Performance"
   ]
  },
  {
   "cell_type": "code",
   "execution_count": 196,
   "metadata": {
    "collapsed": false
   },
   "outputs": [
    {
     "data": {
      "text/plain": [
       "48            PCT_NHWHITE10\n",
       "50               PCT_HISP10\n",
       "34        MILK_SODA_PRICE10\n",
       "32             MILK_PRICE10\n",
       "49            PCT_NHBLACK10\n",
       "27                PCT_WIC09\n",
       "33             SODA_PRICE10\n",
       "31    FOODINSEC_CHILD_01_07\n",
       "51            PCT_NHASIAN10\n",
       "52               PCT_NHNA10\n",
       "12                 FSRPTH07\n",
       "29          FOODINSEC_07_09\n",
       "37              VEG_FARMS07\n",
       "15               PCT_SNAP09\n",
       "55          PCT_18YOUNGER10\n",
       "38         FRESHVEG_FARMS07\n",
       "25                PCT_SBP09\n",
       "0         PCT_LACCESS_POP10\n",
       "22               PCT_NSLP09\n",
       "7                CONVSPTH07\n",
       "Name: Features, dtype: object"
      ]
     },
     "execution_count": 196,
     "metadata": {},
     "output_type": "execute_result"
    }
   ],
   "source": [
    "top_20_lasso"
   ]
  },
  {
   "cell_type": "code",
   "execution_count": null,
   "metadata": {
    "collapsed": true
   },
   "outputs": [],
   "source": []
  },
  {
   "cell_type": "code",
   "execution_count": null,
   "metadata": {
    "collapsed": true
   },
   "outputs": [],
   "source": []
  }
 ],
 "metadata": {
  "anaconda-cloud": {},
  "kernelspec": {
   "display_name": "Python [Root]",
   "language": "python",
   "name": "Python [Root]"
  },
  "language_info": {
   "codemirror_mode": {
    "name": "ipython",
    "version": 2
   },
   "file_extension": ".py",
   "mimetype": "text/x-python",
   "name": "python",
   "nbconvert_exporter": "python",
   "pygments_lexer": "ipython2",
   "version": "2.7.12"
  }
 },
 "nbformat": 4,
 "nbformat_minor": 0
}
